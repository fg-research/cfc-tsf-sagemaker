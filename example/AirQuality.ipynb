{
 "cells": [
  {
   "cell_type": "markdown",
   "id": "5abd699a-784e-4001-946e-40fae4af6885",
   "metadata": {
    "tags": []
   },
   "source": [
    "# UCI Dataset: Air Quality"
   ]
  },
  {
   "cell_type": "markdown",
   "id": "721cb54b-ace5-431e-9952-9ab8d52166b8",
   "metadata": {},
   "source": [
    "**Dataset Homepage:** https://archive.ics.uci.edu/dataset/360/air+quality"
   ]
  },
  {
   "cell_type": "markdown",
   "id": "b6ba64ab-408d-4443-a08f-39b95d9621c8",
   "metadata": {},
   "source": [
    "### 1. Environment set-up"
   ]
  },
  {
   "cell_type": "markdown",
   "id": "11f28e0b-f927-4832-9761-2bad9545d5c4",
   "metadata": {
    "tags": []
   },
   "source": [
    "1. This notebook contains elements which render correctly in Jupyter interface. Open this notebook from an Amazon SageMaker Notebook Instance or Amazon SageMaker Studio.\n",
    "1. Ensure that IAM role used has **AmazonSageMakerFullAccess**\n",
    "1. Some hands-on experience using [Amazon SageMaker](https://aws.amazon.com/sagemaker/).\n",
    "1. To use this algorithm successfully, ensure that:\n",
    "    1. Either your IAM role has these three permissions and you have authority to make AWS Marketplace subscriptions in the AWS account used: \n",
    "        1. **aws-marketplace:ViewSubscriptions**\n",
    "        1. **aws-marketplace:Unsubscribe**\n",
    "        1. **aws-marketplace:Subscribe**  \n",
    "    2. or your AWS account has a subscription to the [Time Series Forecasting (CfC) Algorithm from AWS Marketplace](https://aws.amazon.com/marketplace/pp/prodview-7s4giphluwgta).\n",
    "\n",
    "To subscribe to the algorithm:\n",
    "1. Open the algorithm listing page.\n",
    "1. On the AWS Marketplace listing, click on the **Continue to subscribe** button.\n",
    "1. On the **Subscribe to this software** page, review and click on **\"Accept Offer\"** if you agree with EULA, pricing, and support terms. \n",
    "1. Once you click on the **Continue to configuration** button and then choose a **region**, you will see a **Product ARN**. This is the algorithm ARN that you need to specify while training a custom ML model. **Copy the ARN corresponding to your region and specify the same in the following cell.**"
   ]
  },
  {
   "cell_type": "code",
   "execution_count": 1,
   "id": "6105729c-392b-4ab4-b4c2-f75d5a11ea23",
   "metadata": {
    "tags": []
   },
   "outputs": [],
   "source": [
    "algo_arn = \"arn:aws:sagemaker:eu-west-1:661670223746:algorithm/cfc-tsf-algo-v1-2\""
   ]
  },
  {
   "cell_type": "code",
   "execution_count": 2,
   "id": "85efac29-68b8-461f-8e80-8f26dad0fd7e",
   "metadata": {
    "tags": []
   },
   "outputs": [
    {
     "name": "stderr",
     "output_type": "stream",
     "text": [
      "Matplotlib is building the font cache; this may take a moment.\n"
     ]
    }
   ],
   "source": [
    "import sagemaker\n",
    "import pandas as pd\n",
    "import numpy as np\n",
    "import matplotlib.pyplot as plt\n",
    "from sklearn.metrics import mean_squared_error, mean_absolute_error\n",
    "\n",
    "# SageMaker session\n",
    "sagemaker_session = sagemaker.Session()\n",
    "\n",
    "# SageMaker role\n",
    "role = sagemaker.get_execution_role()\n",
    "\n",
    "# S3 bucket\n",
    "bucket = sagemaker_session.default_bucket()\n",
    "\n",
    "# EC2 instance\n",
    "instance_type = \"ml.m5.2xlarge\""
   ]
  },
  {
   "cell_type": "markdown",
   "id": "8e8be62c-ab24-4c83-84df-5784ce5ef8c8",
   "metadata": {},
   "source": [
    "### 2. Data preparation"
   ]
  },
  {
   "cell_type": "markdown",
   "id": "a490e012-f3d7-404c-8b5a-3cfc5f57d4be",
   "metadata": {},
   "source": [
    "Load and prepare the data."
   ]
  },
  {
   "cell_type": "code",
   "execution_count": 3,
   "id": "ddc5e574-8b56-4452-85cb-26611abc6f8f",
   "metadata": {
    "tags": []
   },
   "outputs": [],
   "source": [
    "# load the data\n",
    "dataset = pd.read_excel(\n",
    "    \"AirQualityUCI.xlsx\",\n",
    "    usecols=[\"Date\", \"Time\", \"CO(GT)\"],\n",
    ")\n",
    "\n",
    "# format the time stamps and replace the missing values with NaN\n",
    "dataset = pd.DataFrame({\n",
    "    \"ts\": pd.to_datetime(\n",
    "        dataset[\"Date\"].dt.strftime(\"%Y-%m-%d\") + \" \" + dataset[\"Time\"].astype(str),\n",
    "        format=\"%Y-%m-%d %H:%M:%S\"\n",
    "    ),\n",
    "    \"y\": dataset[\"CO(GT)\"].replace(-200, np.nan)\n",
    "})\n",
    "\n",
    "# drop the missing values\n",
    "dataset.dropna(inplace=True, ignore_index=True)\n",
    "\n",
    "# calculate the time spans\n",
    "dataset[\"ts\"] = dataset[\"ts\"].diff().dt.total_seconds().fillna(value=0) / (60 * 60)"
   ]
  },
  {
   "cell_type": "code",
   "execution_count": 4,
   "id": "808f7ae1-9a31-436d-9bc7-da4a4c2ad083",
   "metadata": {
    "tags": []
   },
   "outputs": [
    {
     "data": {
      "text/plain": [
       "(7674, 2)"
      ]
     },
     "execution_count": 4,
     "metadata": {},
     "output_type": "execute_result"
    }
   ],
   "source": [
    "dataset.shape"
   ]
  },
  {
   "cell_type": "code",
   "execution_count": 5,
   "id": "8101c9ff-8b45-4e5f-928d-974d0199e1a8",
   "metadata": {
    "tags": []
   },
   "outputs": [
    {
     "data": {
      "text/html": [
       "<div>\n",
       "<style scoped>\n",
       "    .dataframe tbody tr th:only-of-type {\n",
       "        vertical-align: middle;\n",
       "    }\n",
       "\n",
       "    .dataframe tbody tr th {\n",
       "        vertical-align: top;\n",
       "    }\n",
       "\n",
       "    .dataframe thead th {\n",
       "        text-align: right;\n",
       "    }\n",
       "</style>\n",
       "<table border=\"1\" class=\"dataframe\">\n",
       "  <thead>\n",
       "    <tr style=\"text-align: right;\">\n",
       "      <th></th>\n",
       "      <th>ts</th>\n",
       "      <th>y</th>\n",
       "    </tr>\n",
       "  </thead>\n",
       "  <tbody>\n",
       "    <tr>\n",
       "      <th>0</th>\n",
       "      <td>0.0</td>\n",
       "      <td>2.6</td>\n",
       "    </tr>\n",
       "    <tr>\n",
       "      <th>1</th>\n",
       "      <td>1.0</td>\n",
       "      <td>2.0</td>\n",
       "    </tr>\n",
       "    <tr>\n",
       "      <th>2</th>\n",
       "      <td>1.0</td>\n",
       "      <td>2.2</td>\n",
       "    </tr>\n",
       "    <tr>\n",
       "      <th>3</th>\n",
       "      <td>1.0</td>\n",
       "      <td>2.2</td>\n",
       "    </tr>\n",
       "    <tr>\n",
       "      <th>4</th>\n",
       "      <td>1.0</td>\n",
       "      <td>1.6</td>\n",
       "    </tr>\n",
       "  </tbody>\n",
       "</table>\n",
       "</div>"
      ],
      "text/plain": [
       "    ts    y\n",
       "0  0.0  2.6\n",
       "1  1.0  2.0\n",
       "2  1.0  2.2\n",
       "3  1.0  2.2\n",
       "4  1.0  1.6"
      ]
     },
     "execution_count": 5,
     "metadata": {},
     "output_type": "execute_result"
    }
   ],
   "source": [
    "dataset.head()"
   ]
  },
  {
   "cell_type": "code",
   "execution_count": 6,
   "id": "22db7b7e-73af-4c32-a324-e6cada551d88",
   "metadata": {
    "tags": []
   },
   "outputs": [
    {
     "data": {
      "text/html": [
       "<div>\n",
       "<style scoped>\n",
       "    .dataframe tbody tr th:only-of-type {\n",
       "        vertical-align: middle;\n",
       "    }\n",
       "\n",
       "    .dataframe tbody tr th {\n",
       "        vertical-align: top;\n",
       "    }\n",
       "\n",
       "    .dataframe thead th {\n",
       "        text-align: right;\n",
       "    }\n",
       "</style>\n",
       "<table border=\"1\" class=\"dataframe\">\n",
       "  <thead>\n",
       "    <tr style=\"text-align: right;\">\n",
       "      <th></th>\n",
       "      <th>ts</th>\n",
       "      <th>y</th>\n",
       "    </tr>\n",
       "  </thead>\n",
       "  <tbody>\n",
       "    <tr>\n",
       "      <th>7669</th>\n",
       "      <td>1.0</td>\n",
       "      <td>3.1</td>\n",
       "    </tr>\n",
       "    <tr>\n",
       "      <th>7670</th>\n",
       "      <td>1.0</td>\n",
       "      <td>2.4</td>\n",
       "    </tr>\n",
       "    <tr>\n",
       "      <th>7671</th>\n",
       "      <td>1.0</td>\n",
       "      <td>2.4</td>\n",
       "    </tr>\n",
       "    <tr>\n",
       "      <th>7672</th>\n",
       "      <td>1.0</td>\n",
       "      <td>2.1</td>\n",
       "    </tr>\n",
       "    <tr>\n",
       "      <th>7673</th>\n",
       "      <td>1.0</td>\n",
       "      <td>2.2</td>\n",
       "    </tr>\n",
       "  </tbody>\n",
       "</table>\n",
       "</div>"
      ],
      "text/plain": [
       "       ts    y\n",
       "7669  1.0  3.1\n",
       "7670  1.0  2.4\n",
       "7671  1.0  2.4\n",
       "7672  1.0  2.1\n",
       "7673  1.0  2.2"
      ]
     },
     "execution_count": 6,
     "metadata": {},
     "output_type": "execute_result"
    }
   ],
   "source": [
    "dataset.tail()"
   ]
  },
  {
   "cell_type": "code",
   "execution_count": 7,
   "id": "824c9da1-1f0b-407d-a17b-765479f0da12",
   "metadata": {
    "tags": []
   },
   "outputs": [
    {
     "data": {
      "text/plain": [
       "count    7674.000000\n",
       "mean        1.219182\n",
       "std         4.229401\n",
       "min         0.000000\n",
       "25%         1.000000\n",
       "50%         1.000000\n",
       "75%         1.000000\n",
       "max       174.000000\n",
       "Name: ts, dtype: float64"
      ]
     },
     "execution_count": 7,
     "metadata": {},
     "output_type": "execute_result"
    }
   ],
   "source": [
    "dataset[\"ts\"].describe()"
   ]
  },
  {
   "cell_type": "code",
   "execution_count": 8,
   "id": "63d7f534-8c84-44a8-bc74-486eb8144f21",
   "metadata": {
    "tags": []
   },
   "outputs": [
    {
     "data": {
      "text/plain": [
       "count    7674.000000\n",
       "mean        2.152750\n",
       "std         1.453252\n",
       "min         0.100000\n",
       "25%         1.100000\n",
       "50%         1.800000\n",
       "75%         2.900000\n",
       "max        11.900000\n",
       "Name: y, dtype: float64"
      ]
     },
     "execution_count": 8,
     "metadata": {},
     "output_type": "execute_result"
    }
   ],
   "source": [
    "dataset[\"y\"].describe()"
   ]
  },
  {
   "cell_type": "markdown",
   "id": "a43f083b-4d28-45a4-8748-813572690f74",
   "metadata": {},
   "source": [
    "Visualize the data."
   ]
  },
  {
   "cell_type": "code",
   "execution_count": 9,
   "id": "00591bc4-4836-4fd6-9b2e-c4e5ac4419ff",
   "metadata": {
    "tags": []
   },
   "outputs": [
    {
     "data": {
      "image/png": "[encoded data removed]",
      "text/plain": [
       "<Figure size 600x350 with 1 Axes>"
      ]
     },
     "metadata": {},
     "output_type": "display_data"
    }
   ],
   "source": [
    "fig, ax = plt.subplots(figsize=(6, 3.5))\n",
    "ax.plot(dataset[\"y\"], color=\"#AFB8C1\", lw=0.3)\n",
    "ax.set(xlabel=\"Time\", ylabel=\"Value\")\n",
    "ax.tick_params(axis=\"both\", which=\"major\", labelsize=7)\n",
    "ax.tick_params(axis=\"both\", which=\"minor\", labelsize=7)\n",
    "fig.tight_layout()\n",
    "fig.show()"
   ]
  },
  {
   "cell_type": "markdown",
   "id": "c5be8de2-3112-4b0e-9e74-d6088d2ed7fd",
   "metadata": {},
   "source": [
    "Split the data."
   ]
  },
  {
   "cell_type": "code",
   "execution_count": 10,
   "id": "2c1bc4d8-ff53-4c6e-9906-388fd838e160",
   "metadata": {
    "tags": []
   },
   "outputs": [],
   "source": [
    "# number of time steps used as input\n",
    "context_length = 48\n",
    "\n",
    "# number of time steps to output\n",
    "prediction_length = 24\n",
    "\n",
    "# number of time steps used for testing\n",
    "cutoff = 30 * 24\n",
    "\n",
    "# training set\n",
    "training_dataset = dataset.iloc[:- cutoff]\n",
    "\n",
    "# test set\n",
    "test_dataset = dataset.iloc[- cutoff - context_length:]"
   ]
  },
  {
   "cell_type": "markdown",
   "id": "c15d3082-f038-479a-a0c5-fc800d161151",
   "metadata": {},
   "source": [
    "Upload the data to S3."
   ]
  },
  {
   "cell_type": "code",
   "execution_count": 11,
   "id": "6671e6ee-7352-475b-ba49-2090a4b3700b",
   "metadata": {
    "tags": []
   },
   "outputs": [],
   "source": [
    "training_data = sagemaker_session.upload_string_as_file_body(\n",
    "    body=training_dataset.to_csv(index=False),\n",
    "    bucket=bucket,\n",
    "    key=\"AirQuality_train.csv\"\n",
    ")"
   ]
  },
  {
   "cell_type": "code",
   "execution_count": 12,
   "id": "f89da63a-343c-4aec-aa14-648b844c6b59",
   "metadata": {
    "tags": []
   },
   "outputs": [
    {
     "data": {
      "text/plain": [
       "'s3://sagemaker-eu-west-1-661670223746/AirQuality_train.csv'"
      ]
     },
     "execution_count": 12,
     "metadata": {},
     "output_type": "execute_result"
    }
   ],
   "source": [
    "training_data"
   ]
  },
  {
   "cell_type": "code",
   "execution_count": 13,
   "id": "5dadd495-6a09-4deb-9c95-979a567b7bef",
   "metadata": {
    "tags": []
   },
   "outputs": [],
   "source": [
    "test_data = sagemaker_session.upload_string_as_file_body(\n",
    "    body=test_dataset.to_csv(index=False),\n",
    "    bucket=bucket,\n",
    "    key=\"AirQuality_test.csv\"\n",
    ")"
   ]
  },
  {
   "cell_type": "code",
   "execution_count": 14,
   "id": "a155f44a-ac2a-4d59-85f0-1a99d086e320",
   "metadata": {
    "tags": []
   },
   "outputs": [
    {
     "data": {
      "text/plain": [
       "'s3://sagemaker-eu-west-1-661670223746/AirQuality_test.csv'"
      ]
     },
     "execution_count": 14,
     "metadata": {},
     "output_type": "execute_result"
    }
   ],
   "source": [
    "test_data"
   ]
  },
  {
   "cell_type": "markdown",
   "id": "074fdfd5-ff39-4c3c-9a9b-ae822e9f8e10",
   "metadata": {},
   "source": [
    "### 3. Training"
   ]
  },
  {
   "cell_type": "markdown",
   "id": "a536a153-8265-4631-8bbd-58bd71a742e2",
   "metadata": {},
   "source": [
    "Fit the model to the training set."
   ]
  },
  {
   "cell_type": "code",
   "execution_count": 15,
   "id": "811effcc-16be-4f31-b860-2477a6aab964",
   "metadata": {
    "tags": []
   },
   "outputs": [
    {
     "name": "stderr",
     "output_type": "stream",
     "text": [
      "INFO:sagemaker:Creating training-job with name: cfc-tsf-algo-v1-2-2023-09-08-18-51-45-324\n"
     ]
    },
    {
     "name": "stdout",
     "output_type": "stream",
     "text": [
      "2023-09-08 18:51:45 Starting - Starting the training job...\n",
      "2023-09-08 18:51:59 Starting - Preparing the instances for training......\n",
      "2023-09-08 18:52:52 Downloading - Downloading input data............\n",
      "2023-09-08 18:55:03 Training - Downloading the training image.........\n",
      "2023-09-08 18:56:28 Training - Training image download completed. Training in progress....\u001b[34mbash: cannot set terminal process group (-1): Inappropriate ioctl for device\u001b[0m\n",
      "\u001b[34mbash: no job control in this shell\u001b[0m\n",
      "\u001b[34m2023-09-08 18:57:03,870 sagemaker-training-toolkit INFO     Imported framework sagemaker_pytorch_container.training\u001b[0m\n",
      "\u001b[34m2023-09-08 18:57:03,871 sagemaker-training-toolkit INFO     No GPUs detected (normal if no gpus installed)\u001b[0m\n",
      "\u001b[34m2023-09-08 18:57:03,871 sagemaker-training-toolkit INFO     No Neurons detected (normal if no neurons installed)\u001b[0m\n",
      "\u001b[34m2023-09-08 18:57:03,871 sagemaker-training-toolkit INFO     Failed to parse hyperparameter backbone-activation value silu to Json.\u001b[0m\n",
      "\u001b[34mReturning the value itself\u001b[0m\n",
      "\u001b[34m2023-09-08 18:57:03,880 sagemaker_pytorch_container.training INFO     Block until all host DNS lookups succeed.\u001b[0m\n",
      "\u001b[34m2023-09-08 18:57:03,882 sagemaker_pytorch_container.training INFO     Invoking user training script.\u001b[0m\n",
      "\u001b[34m2023-09-08 18:57:05,131 sagemaker-training-toolkit INFO     No GPUs detected (normal if no gpus installed)\u001b[0m\n",
      "\u001b[34m2023-09-08 18:57:05,132 sagemaker-training-toolkit INFO     No Neurons detected (normal if no neurons installed)\u001b[0m\n",
      "\u001b[34m2023-09-08 18:57:05,132 sagemaker-training-toolkit INFO     Failed to parse hyperparameter backbone-activation value silu to Json.\u001b[0m\n",
      "\u001b[34mReturning the value itself\u001b[0m\n",
      "\u001b[34m2023-09-08 18:57:05,143 sagemaker-training-toolkit INFO     No GPUs detected (normal if no gpus installed)\u001b[0m\n",
      "\u001b[34m2023-09-08 18:57:05,144 sagemaker-training-toolkit INFO     No Neurons detected (normal if no neurons installed)\u001b[0m\n",
      "\u001b[34m2023-09-08 18:57:05,144 sagemaker-training-toolkit INFO     Failed to parse hyperparameter backbone-activation value silu to Json.\u001b[0m\n",
      "\u001b[34mReturning the value itself\u001b[0m\n",
      "\u001b[34m2023-09-08 18:57:05,154 sagemaker-training-toolkit INFO     No GPUs detected (normal if no gpus installed)\u001b[0m\n",
      "\u001b[34m2023-09-08 18:57:05,155 sagemaker-training-toolkit INFO     No Neurons detected (normal if no neurons installed)\u001b[0m\n",
      "\u001b[34m2023-09-08 18:57:05,155 sagemaker-training-toolkit INFO     Failed to parse hyperparameter backbone-activation value silu to Json.\u001b[0m\n",
      "\u001b[34mReturning the value itself\u001b[0m\n",
      "\u001b[34m2023-09-08 18:57:05,164 sagemaker-training-toolkit INFO     Invoking user script\u001b[0m\n",
      "\u001b[34mTraining Env:\u001b[0m\n",
      "\u001b[34m{\n",
      "    \"additional_framework_parameters\": {},\n",
      "    \"channel_input_dirs\": {\n",
      "        \"training\": \"/opt/ml/input/data/training\"\n",
      "    },\n",
      "    \"current_host\": \"algo-1\",\n",
      "    \"current_instance_group\": \"homogeneousCluster\",\n",
      "    \"current_instance_group_hosts\": [\n",
      "        \"algo-1\"\n",
      "    ],\n",
      "    \"current_instance_type\": \"ml.m5.2xlarge\",\n",
      "    \"distribution_hosts\": [],\n",
      "    \"distribution_instance_groups\": [],\n",
      "    \"framework_module\": \"sagemaker_pytorch_container.training:main\",\n",
      "    \"hosts\": [\n",
      "        \"algo-1\"\n",
      "    ],\n",
      "    \"hyperparameters\": {\n",
      "        \"backbone-activation\": \"silu\",\n",
      "        \"backbone-dropout\": 0.0,\n",
      "        \"backbone-layers\": 1,\n",
      "        \"backbone-units\": 128,\n",
      "        \"batch-size\": 64,\n",
      "        \"context-length\": 48,\n",
      "        \"epochs\": 100,\n",
      "        \"hidden-size\": 64,\n",
      "        \"lr\": 0.001,\n",
      "        \"lr-decay\": 0.9,\n",
      "        \"minimal\": 0,\n",
      "        \"no-gate\": 0,\n",
      "        \"prediction-length\": 24,\n",
      "        \"use-ltc\": 0,\n",
      "        \"use-mixed\": 0\n",
      "    },\n",
      "    \"input_config_dir\": \"/opt/ml/input/config\",\n",
      "    \"input_data_config\": {\n",
      "        \"training\": {\n",
      "            \"TrainingInputMode\": \"File\",\n",
      "            \"S3DistributionType\": \"FullyReplicated\",\n",
      "            \"RecordWrapperType\": \"None\"\n",
      "        }\n",
      "    },\n",
      "    \"input_dir\": \"/opt/ml/input\",\n",
      "    \"instance_groups\": [\n",
      "        \"homogeneousCluster\"\n",
      "    ],\n",
      "    \"instance_groups_dict\": {\n",
      "        \"homogeneousCluster\": {\n",
      "            \"instance_group_name\": \"homogeneousCluster\",\n",
      "            \"instance_type\": \"ml.m5.2xlarge\",\n",
      "            \"hosts\": [\n",
      "                \"algo-1\"\n",
      "            ]\n",
      "        }\n",
      "    },\n",
      "    \"is_hetero\": false,\n",
      "    \"is_master\": true,\n",
      "    \"is_modelparallel_enabled\": null,\n",
      "    \"is_smddpmprun_installed\": true,\n",
      "    \"job_name\": \"cfc-tsf-algo-v1-2-2023-09-08-18-51-45-324\",\n",
      "    \"log_level\": 20,\n",
      "    \"master_hostname\": \"algo-1\",\n",
      "    \"model_dir\": \"/opt/ml/model\",\n",
      "    \"module_dir\": \"/opt/ml/code\",\n",
      "    \"module_name\": \"training\",\n",
      "    \"network_interface_name\": \"eth0\",\n",
      "    \"num_cpus\": 8,\n",
      "    \"num_gpus\": 0,\n",
      "    \"num_neurons\": 0,\n",
      "    \"output_data_dir\": \"/opt/ml/output/data\",\n",
      "    \"output_dir\": \"/opt/ml/output\",\n",
      "    \"output_intermediate_dir\": \"/opt/ml/output/intermediate\",\n",
      "    \"resource_config\": {\n",
      "        \"current_host\": \"algo-1\",\n",
      "        \"current_instance_type\": \"ml.m5.2xlarge\",\n",
      "        \"current_group_name\": \"homogeneousCluster\",\n",
      "        \"hosts\": [\n",
      "            \"algo-1\"\n",
      "        ],\n",
      "        \"instance_groups\": [\n",
      "            {\n",
      "                \"instance_group_name\": \"homogeneousCluster\",\n",
      "                \"instance_type\": \"ml.m5.2xlarge\",\n",
      "                \"hosts\": [\n",
      "                    \"algo-1\"\n",
      "                ]\n",
      "            }\n",
      "        ],\n",
      "        \"network_interface_name\": \"eth0\"\n",
      "    },\n",
      "    \"user_entry_point\": \"training.py\"\u001b[0m\n",
      "\u001b[34m}\u001b[0m\n",
      "\u001b[34mEnvironment variables:\u001b[0m\n",
      "\u001b[34mSM_HOSTS=[\"algo-1\"]\u001b[0m\n",
      "\u001b[34mSM_NETWORK_INTERFACE_NAME=eth0\u001b[0m\n",
      "\u001b[34mSM_HPS={\"backbone-activation\":\"silu\",\"backbone-dropout\":0.0,\"backbone-layers\":1,\"backbone-units\":128,\"batch-size\":64,\"context-length\":48,\"epochs\":100,\"hidden-size\":64,\"lr\":0.001,\"lr-decay\":0.9,\"minimal\":0,\"no-gate\":0,\"prediction-length\":24,\"use-ltc\":0,\"use-mixed\":0}\u001b[0m\n",
      "\u001b[34mSM_USER_ENTRY_POINT=training.py\u001b[0m\n",
      "\u001b[34mSM_FRAMEWORK_PARAMS={}\u001b[0m\n",
      "\u001b[34mSM_RESOURCE_CONFIG={\"current_group_name\":\"homogeneousCluster\",\"current_host\":\"algo-1\",\"current_instance_type\":\"ml.m5.2xlarge\",\"hosts\":[\"algo-1\"],\"instance_groups\":[{\"hosts\":[\"algo-1\"],\"instance_group_name\":\"homogeneousCluster\",\"instance_type\":\"ml.m5.2xlarge\"}],\"network_interface_name\":\"eth0\"}\u001b[0m\n",
      "\u001b[34mSM_INPUT_DATA_CONFIG={\"training\":{\"RecordWrapperType\":\"None\",\"S3DistributionType\":\"FullyReplicated\",\"TrainingInputMode\":\"File\"}}\u001b[0m\n",
      "\u001b[34mSM_OUTPUT_DATA_DIR=/opt/ml/output/data\u001b[0m\n",
      "\u001b[34mSM_CHANNELS=[\"training\"]\u001b[0m\n",
      "\u001b[34mSM_CURRENT_HOST=algo-1\u001b[0m\n",
      "\u001b[34mSM_CURRENT_INSTANCE_TYPE=ml.m5.2xlarge\u001b[0m\n",
      "\u001b[34mSM_CURRENT_INSTANCE_GROUP=homogeneousCluster\u001b[0m\n",
      "\u001b[34mSM_CURRENT_INSTANCE_GROUP_HOSTS=[\"algo-1\"]\u001b[0m\n",
      "\u001b[34mSM_INSTANCE_GROUPS=[\"homogeneousCluster\"]\u001b[0m\n",
      "\u001b[34mSM_INSTANCE_GROUPS_DICT={\"homogeneousCluster\":{\"hosts\":[\"algo-1\"],\"instance_group_name\":\"homogeneousCluster\",\"instance_type\":\"ml.m5.2xlarge\"}}\u001b[0m\n",
      "\u001b[34mSM_DISTRIBUTION_INSTANCE_GROUPS=[]\u001b[0m\n",
      "\u001b[34mSM_IS_HETERO=false\u001b[0m\n",
      "\u001b[34mSM_MODULE_NAME=training\u001b[0m\n",
      "\u001b[34mSM_LOG_LEVEL=20\u001b[0m\n",
      "\u001b[34mSM_FRAMEWORK_MODULE=sagemaker_pytorch_container.training:main\u001b[0m\n",
      "\u001b[34mSM_INPUT_DIR=/opt/ml/input\u001b[0m\n",
      "\u001b[34mSM_INPUT_CONFIG_DIR=/opt/ml/input/config\u001b[0m\n",
      "\u001b[34mSM_OUTPUT_DIR=/opt/ml/output\u001b[0m\n",
      "\u001b[34mSM_NUM_CPUS=8\u001b[0m\n",
      "\u001b[34mSM_NUM_GPUS=0\u001b[0m\n",
      "\u001b[34mSM_NUM_NEURONS=0\u001b[0m\n",
      "\u001b[34mSM_MODEL_DIR=/opt/ml/model\u001b[0m\n",
      "\u001b[34mSM_MODULE_DIR=/opt/ml/code\u001b[0m\n",
      "\u001b[34mSM_TRAINING_ENV={\"additional_framework_parameters\":{},\"channel_input_dirs\":{\"training\":\"/opt/ml/input/data/training\"},\"current_host\":\"algo-1\",\"current_instance_group\":\"homogeneousCluster\",\"current_instance_group_hosts\":[\"algo-1\"],\"current_instance_type\":\"ml.m5.2xlarge\",\"distribution_hosts\":[],\"distribution_instance_groups\":[],\"framework_module\":\"sagemaker_pytorch_container.training:main\",\"hosts\":[\"algo-1\"],\"hyperparameters\":{\"backbone-activation\":\"silu\",\"backbone-dropout\":0.0,\"backbone-layers\":1,\"backbone-units\":128,\"batch-size\":64,\"context-length\":48,\"epochs\":100,\"hidden-size\":64,\"lr\":0.001,\"lr-decay\":0.9,\"minimal\":0,\"no-gate\":0,\"prediction-length\":24,\"use-ltc\":0,\"use-mixed\":0},\"input_config_dir\":\"/opt/ml/input/config\",\"input_data_config\":{\"training\":{\"RecordWrapperType\":\"None\",\"S3DistributionType\":\"FullyReplicated\",\"TrainingInputMode\":\"File\"}},\"input_dir\":\"/opt/ml/input\",\"instance_groups\":[\"homogeneousCluster\"],\"instance_groups_dict\":{\"homogeneousCluster\":{\"hosts\":[\"algo-1\"],\"instance_group_name\":\"homogeneousCluster\",\"instance_type\":\"ml.m5.2xlarge\"}},\"is_hetero\":false,\"is_master\":true,\"is_modelparallel_enabled\":null,\"is_smddpmprun_installed\":true,\"job_name\":\"cfc-tsf-algo-v1-2-2023-09-08-18-51-45-324\",\"log_level\":20,\"master_hostname\":\"algo-1\",\"model_dir\":\"/opt/ml/model\",\"module_dir\":\"/opt/ml/code\",\"module_name\":\"training\",\"network_interface_name\":\"eth0\",\"num_cpus\":8,\"num_gpus\":0,\"num_neurons\":0,\"output_data_dir\":\"/opt/ml/output/data\",\"output_dir\":\"/opt/ml/output\",\"output_intermediate_dir\":\"/opt/ml/output/intermediate\",\"resource_config\":{\"current_group_name\":\"homogeneousCluster\",\"current_host\":\"algo-1\",\"current_instance_type\":\"ml.m5.2xlarge\",\"hosts\":[\"algo-1\"],\"instance_groups\":[{\"hosts\":[\"algo-1\"],\"instance_group_name\":\"homogeneousCluster\",\"instance_type\":\"ml.m5.2xlarge\"}],\"network_interface_name\":\"eth0\"},\"user_entry_point\":\"training.py\"}\u001b[0m\n",
      "\u001b[34mSM_USER_ARGS=[\"--backbone-activation\",\"silu\",\"--backbone-dropout\",\"0.0\",\"--backbone-layers\",\"1\",\"--backbone-units\",\"128\",\"--batch-size\",\"64\",\"--context-length\",\"48\",\"--epochs\",\"100\",\"--hidden-size\",\"64\",\"--lr\",\"0.001\",\"--lr-decay\",\"0.9\",\"--minimal\",\"0\",\"--no-gate\",\"0\",\"--prediction-length\",\"24\",\"--use-ltc\",\"0\",\"--use-mixed\",\"0\"]\u001b[0m\n",
      "\u001b[34mSM_OUTPUT_INTERMEDIATE_DIR=/opt/ml/output/intermediate\u001b[0m\n",
      "\u001b[34mSM_CHANNEL_TRAINING=/opt/ml/input/data/training\u001b[0m\n",
      "\u001b[34mSM_HP_BACKBONE-ACTIVATION=silu\u001b[0m\n",
      "\u001b[34mSM_HP_BACKBONE-DROPOUT=0.0\u001b[0m\n",
      "\u001b[34mSM_HP_BACKBONE-LAYERS=1\u001b[0m\n",
      "\u001b[34mSM_HP_BACKBONE-UNITS=128\u001b[0m\n",
      "\u001b[34mSM_HP_BATCH-SIZE=64\u001b[0m\n",
      "\u001b[34mSM_HP_CONTEXT-LENGTH=48\u001b[0m\n",
      "\u001b[34mSM_HP_EPOCHS=100\u001b[0m\n",
      "\u001b[34mSM_HP_HIDDEN-SIZE=64\u001b[0m\n",
      "\u001b[34mSM_HP_LR=0.001\u001b[0m\n",
      "\u001b[34mSM_HP_LR-DECAY=0.9\u001b[0m\n",
      "\u001b[34mSM_HP_MINIMAL=0\u001b[0m\n",
      "\u001b[34mSM_HP_NO-GATE=0\u001b[0m\n",
      "\u001b[34mSM_HP_PREDICTION-LENGTH=24\u001b[0m\n",
      "\u001b[34mSM_HP_USE-LTC=0\u001b[0m\n",
      "\u001b[34mSM_HP_USE-MIXED=0\u001b[0m\n",
      "\u001b[34mPYTHONPATH=/opt/ml/code:/opt/conda/bin:/opt/conda/lib/python310.zip:/opt/conda/lib/python3.10:/opt/conda/lib/python3.10/lib-dynload:/opt/conda/lib/python3.10/site-packages\u001b[0m\n",
      "\u001b[34mInvoking script with the following command:\u001b[0m\n",
      "\u001b[34m/opt/conda/bin/python3.10 training.py --backbone-activation silu --backbone-dropout 0.0 --backbone-layers 1 --backbone-units 128 --batch-size 64 --context-length 48 --epochs 100 --hidden-size 64 --lr 0.001 --lr-decay 0.9 --minimal 0 --no-gate 0 --prediction-length 24 --use-ltc 0 --use-mixed 0\u001b[0m\n",
      "\u001b[34m2023-09-08 18:57:05,200 sagemaker-training-toolkit INFO     Exceptions not imported for SageMaker TF as Tensorflow is not installed.\u001b[0m\n",
      "\u001b[34m--------------------------------------\u001b[0m\n",
      "\u001b[34mTraining on 6954 samples.\u001b[0m\n",
      "\u001b[34m--------------------------------------\u001b[0m\n",
      "\u001b[34m--------------------------------------\u001b[0m\n",
      "\u001b[34mTimespans: ['ts']\u001b[0m\n",
      "\u001b[34mFeatures: []\u001b[0m\n",
      "\u001b[34mTargets: ['y']\u001b[0m\n",
      "\u001b[34m--------------------------------------\u001b[0m\n",
      "\u001b[34m--------------------------------------\u001b[0m\n",
      "\u001b[34mBuilding the model.\u001b[0m\n",
      "\u001b[34mNumber of parameters: 43032\u001b[0m\n",
      "\u001b[34m--------------------------------------\u001b[0m\n",
      "\u001b[34m--------------------------------------\u001b[0m\n",
      "\u001b[34mTraining the model.\u001b[0m\n",
      "\u001b[34mEpoch: 1, Training MSE: 0.81099600, Training MAE: 0.67830527\u001b[0m\n",
      "\u001b[34mEpoch: 2, Training MSE: 0.73508829, Training MAE: 0.63774675\u001b[0m\n",
      "\u001b[34mEpoch: 3, Training MSE: 0.65472233, Training MAE: 0.60431778\u001b[0m\n",
      "\u001b[34mEpoch: 4, Training MSE: 0.62142521, Training MAE: 0.58146870\u001b[0m\n",
      "\u001b[34mEpoch: 5, Training MSE: 0.62903368, Training MAE: 0.56749552\u001b[0m\n",
      "\u001b[34mEpoch: 6, Training MSE: 0.59907556, Training MAE: 0.57092470\u001b[0m\n",
      "\u001b[34mEpoch: 7, Training MSE: 0.59687406, Training MAE: 0.56034315\u001b[0m\n",
      "\u001b[34mEpoch: 8, Training MSE: 0.58738118, Training MAE: 0.55579090\u001b[0m\n",
      "\u001b[34mEpoch: 9, Training MSE: 0.56820160, Training MAE: 0.54551256\u001b[0m\n",
      "\u001b[34mEpoch: 10, Training MSE: 0.60246980, Training MAE: 0.56097639\u001b[0m\n",
      "\u001b[34mEpoch: 11, Training MSE: 0.55848223, Training MAE: 0.53423184\u001b[0m\n",
      "\u001b[34mEpoch: 12, Training MSE: 0.55724877, Training MAE: 0.53857809\u001b[0m\n",
      "\u001b[34mEpoch: 13, Training MSE: 0.54865766, Training MAE: 0.53063792\u001b[0m\n",
      "\u001b[34mEpoch: 14, Training MSE: 0.54548907, Training MAE: 0.52639532\u001b[0m\n",
      "\u001b[34mEpoch: 15, Training MSE: 0.54163975, Training MAE: 0.52880365\u001b[0m\n",
      "\u001b[34mEpoch: 16, Training MSE: 0.54496348, Training MAE: 0.52687943\u001b[0m\n",
      "\u001b[34mEpoch: 17, Training MSE: 0.53607106, Training MAE: 0.52568221\u001b[0m\n",
      "\u001b[34mEpoch: 18, Training MSE: 0.53815579, Training MAE: 0.53036028\u001b[0m\n",
      "\u001b[34mEpoch: 19, Training MSE: 0.53962553, Training MAE: 0.52790421\u001b[0m\n",
      "\u001b[34mEpoch: 20, Training MSE: 0.53330582, Training MAE: 0.52523571\u001b[0m\n",
      "\u001b[34mEpoch: 21, Training MSE: 0.53144085, Training MAE: 0.52338231\u001b[0m\n",
      "\u001b[34mEpoch: 22, Training MSE: 0.53142536, Training MAE: 0.52254140\u001b[0m\n",
      "\u001b[34mEpoch: 23, Training MSE: 0.53136837, Training MAE: 0.52390039\u001b[0m\n",
      "\u001b[34mEpoch: 24, Training MSE: 0.53269470, Training MAE: 0.52295983\u001b[0m\n",
      "\u001b[34mEpoch: 25, Training MSE: 0.53442377, Training MAE: 0.52790749\u001b[0m\n",
      "\u001b[34mEpoch: 26, Training MSE: 0.52899158, Training MAE: 0.52323037\u001b[0m\n",
      "\u001b[34mEpoch: 27, Training MSE: 0.53032029, Training MAE: 0.52539957\u001b[0m\n",
      "\u001b[34mEpoch: 28, Training MSE: 0.53133804, Training MAE: 0.52534115\u001b[0m\n",
      "\u001b[34mEpoch: 29, Training MSE: 0.52778673, Training MAE: 0.52253014\u001b[0m\n",
      "\u001b[34mEpoch: 30, Training MSE: 0.52780312, Training MAE: 0.51998532\u001b[0m\n",
      "\u001b[34mEpoch: 31, Training MSE: 0.52927804, Training MAE: 0.52324831\u001b[0m\n",
      "\u001b[34mEpoch: 32, Training MSE: 0.52903479, Training MAE: 0.52193725\u001b[0m\n",
      "\u001b[34mEpoch: 33, Training MSE: 0.52817678, Training MAE: 0.52272129\u001b[0m\n",
      "\u001b[34mEpoch: 34, Training MSE: 0.52857387, Training MAE: 0.52038926\u001b[0m\n",
      "\u001b[34mEpoch: 35, Training MSE: 0.52681911, Training MAE: 0.52096885\u001b[0m\n",
      "\u001b[34mEpoch: 36, Training MSE: 0.52730054, Training MAE: 0.52226448\u001b[0m\n",
      "\u001b[34mEpoch: 37, Training MSE: 0.52674252, Training MAE: 0.52126676\u001b[0m\n",
      "\u001b[34mEpoch: 38, Training MSE: 0.52704597, Training MAE: 0.52153474\u001b[0m\n",
      "\u001b[34mEpoch: 39, Training MSE: 0.52664554, Training MAE: 0.52110779\u001b[0m\n",
      "\u001b[34mEpoch: 40, Training MSE: 0.52647936, Training MAE: 0.52199692\u001b[0m\n",
      "\u001b[34mEpoch: 41, Training MSE: 0.52782297, Training MAE: 0.52192450\u001b[0m\n",
      "\u001b[34mEpoch: 42, Training MSE: 0.52640301, Training MAE: 0.52177519\u001b[0m\n",
      "\u001b[34mEpoch: 43, Training MSE: 0.52635849, Training MAE: 0.52207100\u001b[0m\n",
      "\u001b[34mEpoch: 44, Training MSE: 0.52640772, Training MAE: 0.52108908\u001b[0m\n",
      "\u001b[34mEpoch: 45, Training MSE: 0.52586967, Training MAE: 0.52138406\u001b[0m\n",
      "\u001b[34mEpoch: 46, Training MSE: 0.52589756, Training MAE: 0.52085805\u001b[0m\n",
      "\u001b[34mEpoch: 47, Training MSE: 0.52574927, Training MAE: 0.52110499\u001b[0m\n",
      "\u001b[34mEpoch: 48, Training MSE: 0.52562833, Training MAE: 0.52107418\u001b[0m\n",
      "\u001b[34mEpoch: 49, Training MSE: 0.52582830, Training MAE: 0.52140719\u001b[0m\n",
      "\u001b[34mEpoch: 50, Training MSE: 0.52547741, Training MAE: 0.52082199\u001b[0m\n",
      "\u001b[34mEpoch: 51, Training MSE: 0.52579492, Training MAE: 0.52084672\u001b[0m\n",
      "\u001b[34mEpoch: 52, Training MSE: 0.52545345, Training MAE: 0.52102703\u001b[0m\n",
      "\u001b[34mEpoch: 53, Training MSE: 0.52557003, Training MAE: 0.52106035\u001b[0m\n",
      "\u001b[34mEpoch: 54, Training MSE: 0.52552724, Training MAE: 0.52120042\u001b[0m\n",
      "\u001b[34mEpoch: 55, Training MSE: 0.52529740, Training MAE: 0.52081364\u001b[0m\n",
      "\u001b[34mEpoch: 56, Training MSE: 0.52555650, Training MAE: 0.52118045\u001b[0m\n",
      "\u001b[34mEpoch: 57, Training MSE: 0.52543503, Training MAE: 0.52122641\u001b[0m\n",
      "\u001b[34mEpoch: 58, Training MSE: 0.52535373, Training MAE: 0.52085853\u001b[0m\n",
      "\u001b[34mEpoch: 59, Training MSE: 0.52533644, Training MAE: 0.52086526\u001b[0m\n",
      "\u001b[34mEpoch: 60, Training MSE: 0.52536261, Training MAE: 0.52082425\u001b[0m\n",
      "\u001b[34mEpoch: 61, Training MSE: 0.52535945, Training MAE: 0.52087605\u001b[0m\n",
      "\u001b[34mEpoch: 62, Training MSE: 0.52533531, Training MAE: 0.52105600\u001b[0m\n",
      "\u001b[34mEpoch: 63, Training MSE: 0.52523226, Training MAE: 0.52085018\u001b[0m\n",
      "\u001b[34mEpoch: 64, Training MSE: 0.52530235, Training MAE: 0.52097088\u001b[0m\n",
      "\u001b[34mEpoch: 65, Training MSE: 0.52531916, Training MAE: 0.52098829\u001b[0m\n",
      "\u001b[34mEpoch: 66, Training MSE: 0.52535808, Training MAE: 0.52100575\u001b[0m\n",
      "\u001b[34mEpoch: 67, Training MSE: 0.52528077, Training MAE: 0.52088517\u001b[0m\n",
      "\u001b[34mEpoch: 68, Training MSE: 0.52528900, Training MAE: 0.52093285\u001b[0m\n",
      "\u001b[34mEpoch: 69, Training MSE: 0.52528965, Training MAE: 0.52089542\u001b[0m\n",
      "\u001b[34mEpoch: 70, Training MSE: 0.52528554, Training MAE: 0.52085072\u001b[0m\n",
      "\u001b[34mEpoch: 71, Training MSE: 0.52527833, Training MAE: 0.52085334\u001b[0m\n",
      "\u001b[34mEpoch: 72, Training MSE: 0.52527523, Training MAE: 0.52086329\u001b[0m\n",
      "\u001b[34mEpoch: 73, Training MSE: 0.52526557, Training MAE: 0.52085787\u001b[0m\n",
      "\u001b[34mEpoch: 74, Training MSE: 0.52525902, Training MAE: 0.52086943\u001b[0m\n",
      "\u001b[34mEpoch: 75, Training MSE: 0.52526301, Training MAE: 0.52087146\u001b[0m\n",
      "\u001b[34mEpoch: 76, Training MSE: 0.52526224, Training MAE: 0.52088118\u001b[0m\n",
      "\u001b[34mEpoch: 77, Training MSE: 0.52525419, Training MAE: 0.52087885\u001b[0m\n",
      "\u001b[34mEpoch: 78, Training MSE: 0.52525371, Training MAE: 0.52086425\u001b[0m\n",
      "\u001b[34mEpoch: 79, Training MSE: 0.52525550, Training MAE: 0.52087379\u001b[0m\n",
      "\u001b[34mEpoch: 80, Training MSE: 0.52525347, Training MAE: 0.52087969\u001b[0m\n",
      "\u001b[34mEpoch: 81, Training MSE: 0.52524859, Training MAE: 0.52085918\u001b[0m\n",
      "\u001b[34mEpoch: 82, Training MSE: 0.52525169, Training MAE: 0.52086103\u001b[0m\n",
      "\u001b[34mEpoch: 83, Training MSE: 0.52525878, Training MAE: 0.52086401\u001b[0m\n",
      "\u001b[34mEpoch: 84, Training MSE: 0.52525616, Training MAE: 0.52086031\u001b[0m\n",
      "\u001b[34mEpoch: 85, Training MSE: 0.52524841, Training MAE: 0.52085429\u001b[0m\n",
      "\u001b[34mEpoch: 86, Training MSE: 0.52525032, Training MAE: 0.52085149\u001b[0m\n",
      "\u001b[34mEpoch: 87, Training MSE: 0.52525157, Training MAE: 0.52086389\u001b[0m\n",
      "\u001b[34mEpoch: 88, Training MSE: 0.52525383, Training MAE: 0.52085882\u001b[0m\n",
      "\u001b[34mEpoch: 89, Training MSE: 0.52524883, Training MAE: 0.52085841\u001b[0m\n",
      "\u001b[34mEpoch: 90, Training MSE: 0.52524990, Training MAE: 0.52085632\u001b[0m\n",
      "\u001b[34mEpoch: 91, Training MSE: 0.52525014, Training MAE: 0.52085668\u001b[0m\n",
      "\u001b[34mEpoch: 92, Training MSE: 0.52524960, Training MAE: 0.52086455\u001b[0m\n",
      "\u001b[34mEpoch: 93, Training MSE: 0.52524805, Training MAE: 0.52085781\u001b[0m\n",
      "\u001b[34mEpoch: 94, Training MSE: 0.52524841, Training MAE: 0.52085954\u001b[0m\n",
      "\u001b[34mEpoch: 95, Training MSE: 0.52524650, Training MAE: 0.52085769\u001b[0m\n",
      "\u001b[34mEpoch: 96, Training MSE: 0.52524889, Training MAE: 0.52085423\u001b[0m\n",
      "\u001b[34mEpoch: 97, Training MSE: 0.52524775, Training MAE: 0.52085745\u001b[0m\n",
      "\u001b[34mEpoch: 98, Training MSE: 0.52524590, Training MAE: 0.52085584\u001b[0m\n",
      "\u001b[34mEpoch: 99, Training MSE: 0.52524334, Training MAE: 0.52085501\u001b[0m\n",
      "\u001b[34mEpoch: 100, Training MSE: 0.52524585, Training MAE: 0.52085620\u001b[0m\n",
      "\u001b[34m--------------------------------------\u001b[0m\n",
      "\u001b[34mScoring the model.\u001b[0m\n",
      "\u001b[34mtrain:mse 0.52524585\u001b[0m\n",
      "\u001b[34mtrain:mae 0.52085620\u001b[0m\n",
      "\u001b[34m--------------------------------------\u001b[0m\n",
      "\u001b[34m2023-09-08 19:06:01,822 sagemaker-training-toolkit INFO     Waiting for the process to finish and give a return code.\u001b[0m\n",
      "\u001b[34m2023-09-08 19:06:01,822 sagemaker-training-toolkit INFO     Done waiting for a return code. Received 0 from exiting process.\u001b[0m\n",
      "\u001b[34m2023-09-08 19:06:01,822 sagemaker-training-toolkit INFO     Reporting training SUCCESS\u001b[0m\n",
      "\n",
      "2023-09-08 19:06:17 Uploading - Uploading generated training model\n",
      "2023-09-08 19:06:17 Completed - Training job completed\n",
      "Training seconds: 804\n",
      "Billable seconds: 804\n"
     ]
    }
   ],
   "source": [
    "estimator = sagemaker.algorithm.AlgorithmEstimator(\n",
    "    algorithm_arn=algo_arn,\n",
    "    role=role,\n",
    "    instance_count=1,\n",
    "    instance_type=instance_type,\n",
    "    input_mode=\"File\",\n",
    "    sagemaker_session=sagemaker_session,\n",
    "    hyperparameters={\n",
    "        \"context-length\": context_length,\n",
    "        \"prediction-length\": prediction_length,\n",
    "        \"backbone-layers\": 1,\n",
    "        \"backbone-units\": 128,\n",
    "        \"backbone-activation\": \"silu\",\n",
    "        \"backbone-dropout\": 0,\n",
    "        \"hidden-size\": 64,\n",
    "        \"minimal\": 0,\n",
    "        \"no-gate\": 0,\n",
    "        \"use-ltc\": 0,\n",
    "        \"use-mixed\": 0,\n",
    "        \"lr\": 0.001,\n",
    "        \"lr-decay\": 0.9,\n",
    "        \"batch-size\": 64,\n",
    "        \"epochs\": 100,\n",
    "    },\n",
    ")\n",
    "\n",
    "estimator.fit({\"training\": training_data})"
   ]
  },
  {
   "cell_type": "markdown",
   "id": "b9b640bc-4c81-4040-bd78-8bad6dbd89cb",
   "metadata": {},
   "source": [
    "### 4. Inference"
   ]
  },
  {
   "cell_type": "markdown",
   "id": "d201c417-2f70-40e3-89c0-68addd15035a",
   "metadata": {},
   "source": [
    "Generate the test set predictions."
   ]
  },
  {
   "cell_type": "code",
   "execution_count": 16,
   "id": "7f13e378-b0e4-4cd3-8dba-31c578466c7f",
   "metadata": {
    "tags": []
   },
   "outputs": [
    {
     "name": "stderr",
     "output_type": "stream",
     "text": [
      "INFO:sagemaker:Creating model package with name: cfc-tsf-algo-v1-2-2023-09-08-19-06-43-505\n"
     ]
    },
    {
     "name": "stdout",
     "output_type": "stream",
     "text": [
      "................"
     ]
    },
    {
     "name": "stderr",
     "output_type": "stream",
     "text": [
      "INFO:sagemaker:Creating model with name: cfc-tsf-algo-v1-2-2023-09-08-19-06-43-5-2023-09-08-19-08-04-109\n"
     ]
    },
    {
     "name": "stdout",
     "output_type": "stream",
     "text": [
      "\n"
     ]
    },
    {
     "name": "stderr",
     "output_type": "stream",
     "text": [
      "INFO:sagemaker:Creating transform job with name: cfc-tsf-algo-v1-2-2023-09-08-19-08-04-846\n"
     ]
    },
    {
     "name": "stdout",
     "output_type": "stream",
     "text": [
      "...........................................\u001b[34mWarning: TorchServe is using non-default JVM parameters: -XX:-UseContainerSupport\u001b[0m\n",
      "\u001b[34mWARNING: sun.reflect.Reflection.getCallerClass is not supported. This will impact performance.\u001b[0m\n",
      "\u001b[34m2023-09-08T19:15:13,277 [INFO ] main org.pytorch.serve.servingsdk.impl.PluginsManager - Initializing plugins manager...\u001b[0m\n",
      "\u001b[34m2023-09-08T19:15:13,342 [INFO ] main org.pytorch.serve.metrics.configuration.MetricConfiguration - Successfully loaded metrics configuration from /opt/conda/lib/python3.10/site-packages/ts/configs/metrics.yaml\u001b[0m\n",
      "\u001b[34m2023-09-08T19:15:13,439 [INFO ] main org.pytorch.serve.ModelServer - \u001b[0m\n",
      "\u001b[34mTorchserve version: 0.8.1\u001b[0m\n",
      "\u001b[34mTS Home: /opt/conda/lib/python3.10/site-packages\u001b[0m\n",
      "\u001b[34mCurrent directory: /\u001b[0m\n",
      "\u001b[34mTemp directory: /home/model-server/tmp\u001b[0m\n",
      "\u001b[34mMetrics config path: /opt/conda/lib/python3.10/site-packages/ts/configs/metrics.yaml\u001b[0m\n",
      "\u001b[34mNumber of GPUs: 0\u001b[0m\n",
      "\u001b[34mNumber of CPUs: 8\u001b[0m\n",
      "\u001b[34mMax heap size: 7924 M\u001b[0m\n",
      "\u001b[34mPython executable: /opt/conda/bin/python3.10\u001b[0m\n",
      "\u001b[34mConfig file: /etc/sagemaker-ts.properties\u001b[0m\n",
      "\u001b[34mInference address: http://0.0.0.0:8080\u001b[0m\n",
      "\u001b[34mManagement address: http://0.0.0.0:8080\u001b[0m\n",
      "\u001b[34mMetrics address: http://127.0.0.1:8082\u001b[0m\n",
      "\u001b[34mModel Store: /.sagemaker/ts/models\u001b[0m\n",
      "\u001b[34mInitial Models: model=/opt/ml/model\u001b[0m\n",
      "\u001b[34mLog dir: /logs\u001b[0m\n",
      "\u001b[34mMetrics dir: /logs\u001b[0m\n",
      "\u001b[34mNetty threads: 0\u001b[0m\n",
      "\u001b[34mNetty client threads: 0\u001b[0m\n",
      "\u001b[34mDefault workers per model: 8\u001b[0m\n",
      "\u001b[34mBlacklist Regex: N/A\u001b[0m\n",
      "\u001b[34mMaximum Response Size: 6553500\u001b[0m\n",
      "\u001b[34mMaximum Request Size: 6553500\u001b[0m\n",
      "\u001b[34mLimit Maximum Image Pixels: true\u001b[0m\n",
      "\u001b[34mPrefer direct buffer: false\u001b[0m\n",
      "\u001b[34mAllowed Urls: [file://.*|http(s)?://.*]\u001b[0m\n",
      "\u001b[34mCustom python dependency for model allowed: false\u001b[0m\n",
      "\u001b[34mEnable metrics API: true\u001b[0m\n",
      "\u001b[34mMetrics mode: log\u001b[0m\n",
      "\u001b[34mDisable system metrics: true\u001b[0m\n",
      "\u001b[34mWorkflow Store: /.sagemaker/ts/models\u001b[0m\n",
      "\u001b[34mModel config: N/A\u001b[0m\n",
      "\u001b[34m2023-09-08T19:15:13,446 [INFO ] main org.pytorch.serve.servingsdk.impl.PluginsManager -  Loading snapshot serializer plugin...\u001b[0m\n",
      "\u001b[34m2023-09-08T19:15:13,464 [INFO ] main org.pytorch.serve.ModelServer - Loading initial models: /opt/ml/model\u001b[0m\n",
      "\u001b[34m2023-09-08T19:15:13,467 [WARN ] main org.pytorch.serve.archive.model.ModelArchive - Model archive version is not defined. Please upgrade to torch-model-archiver 0.2.0 or higher\u001b[0m\n",
      "\u001b[34m2023-09-08T19:15:13,467 [WARN ] main org.pytorch.serve.archive.model.ModelArchive - Model archive createdOn is not defined. Please upgrade to torch-model-archiver 0.2.0 or higher\u001b[0m\n",
      "\u001b[34m2023-09-08T19:15:13,469 [INFO ] main org.pytorch.serve.wlm.ModelManager - Model model loaded.\u001b[0m\n",
      "\u001b[34m2023-09-08T19:15:13,481 [INFO ] main org.pytorch.serve.ModelServer - Initialize Inference server with: EpollServerSocketChannel.\u001b[0m\n",
      "\u001b[34m2023-09-08T19:15:13,703 [INFO ] main org.pytorch.serve.ModelServer - Inference API bind to: http://0.0.0.0:8080\u001b[0m\n",
      "\u001b[34m2023-09-08T19:15:13,703 [INFO ] main org.pytorch.serve.ModelServer - Initialize Metrics server with: EpollServerSocketChannel.\u001b[0m\n",
      "\u001b[34m2023-09-08T19:15:13,794 [INFO ] main org.pytorch.serve.ModelServer - Metrics API bind to: http://127.0.0.1:8082\u001b[0m\n",
      "\u001b[34mModel server started.\u001b[0m\n",
      "\u001b[34m2023-09-08T19:15:15,954 [INFO ] W-9000-model_1.0-stdout MODEL_LOG - s_name_part0=/home/model-server/tmp/.ts.sock, s_name_part1=9000, pid=69\u001b[0m\n",
      "\u001b[34m2023-09-08T19:15:15,956 [INFO ] W-9000-model_1.0-stdout MODEL_LOG - Listening on port: /home/model-server/tmp/.ts.sock.9000\u001b[0m\n",
      "\u001b[34m2023-09-08T19:15:15,970 [INFO ] W-9000-model_1.0-stdout MODEL_LOG - Successfully loaded /opt/conda/lib/python3.10/site-packages/ts/configs/metrics.yaml.\u001b[0m\n",
      "\u001b[34m2023-09-08T19:15:15,971 [INFO ] W-9000-model_1.0-stdout MODEL_LOG - [PID]69\u001b[0m\n",
      "\u001b[34m2023-09-08T19:15:15,972 [INFO ] W-9000-model_1.0-stdout MODEL_LOG - Torch worker started.\u001b[0m\n",
      "\u001b[34m2023-09-08T19:15:15,972 [INFO ] W-9000-model_1.0-stdout MODEL_LOG - Python runtime: 3.10.9\u001b[0m\n",
      "\u001b[34m2023-09-08T19:15:15,980 [INFO ] W-9000-model_1.0 org.pytorch.serve.wlm.WorkerThread - Connecting to: /home/model-server/tmp/.ts.sock.9000\u001b[0m\n",
      "\u001b[34m2023-09-08T19:15:15,995 [INFO ] W-9000-model_1.0-stdout MODEL_LOG - Connection accepted: /home/model-server/tmp/.ts.sock.9000.\u001b[0m\n",
      "\u001b[34m2023-09-08T19:15:16,005 [INFO ] W-9004-model_1.0-stdout MODEL_LOG - s_name_part0=/home/model-server/tmp/.ts.sock, s_name_part1=9004, pid=66\u001b[0m\n",
      "\u001b[34m2023-09-08T19:15:16,006 [INFO ] W-9004-model_1.0-stdout MODEL_LOG - Listening on port: /home/model-server/tmp/.ts.sock.9004\u001b[0m\n",
      "\u001b[34m2023-09-08T19:15:16,008 [INFO ] W-9000-model_1.0 org.pytorch.serve.wlm.WorkerThread - Flushing req.cmd LOAD to backend at: 1694200516008\u001b[0m\n",
      "\u001b[34m2023-09-08T19:15:16,012 [INFO ] W-9003-model_1.0-stdout MODEL_LOG - s_name_part0=/home/model-server/tmp/.ts.sock, s_name_part1=9003, pid=65\u001b[0m\n",
      "\u001b[34m2023-09-08T19:15:16,013 [INFO ] W-9003-model_1.0-stdout MODEL_LOG - Listening on port: /home/model-server/tmp/.ts.sock.9003\u001b[0m\n",
      "\u001b[34m2023-09-08T19:15:16,030 [INFO ] W-9004-model_1.0-stdout MODEL_LOG - Successfully loaded /opt/conda/lib/python3.10/site-packages/ts/configs/metrics.yaml.\u001b[0m\n",
      "\u001b[34m2023-09-08T19:15:16,031 [INFO ] W-9004-model_1.0-stdout MODEL_LOG - [PID]66\u001b[0m\n",
      "\u001b[34m2023-09-08T19:15:16,031 [INFO ] W-9004-model_1.0-stdout MODEL_LOG - Torch worker started.\u001b[0m\n",
      "\u001b[34m2023-09-08T19:15:16,032 [INFO ] W-9004-model_1.0-stdout MODEL_LOG - Python runtime: 3.10.9\u001b[0m\n",
      "\u001b[34m2023-09-08T19:15:16,032 [INFO ] W-9004-model_1.0 org.pytorch.serve.wlm.WorkerThread - Connecting to: /home/model-server/tmp/.ts.sock.9004\u001b[0m\n",
      "\u001b[34m2023-09-08T19:15:16,039 [INFO ] W-9003-model_1.0-stdout MODEL_LOG - Successfully loaded /opt/conda/lib/python3.10/site-packages/ts/configs/metrics.yaml.\u001b[0m\n",
      "\u001b[34m2023-09-08T19:15:16,040 [INFO ] W-9003-model_1.0-stdout MODEL_LOG - [PID]65\u001b[0m\n",
      "\u001b[34m2023-09-08T19:15:16,040 [INFO ] W-9003-model_1.0-stdout MODEL_LOG - Torch worker started.\u001b[0m\n",
      "\u001b[34m2023-09-08T19:15:16,040 [INFO ] W-9003-model_1.0 org.pytorch.serve.wlm.WorkerThread - Connecting to: /home/model-server/tmp/.ts.sock.9003\u001b[0m\n",
      "\u001b[34m2023-09-08T19:15:16,042 [INFO ] W-9003-model_1.0-stdout MODEL_LOG - Python runtime: 3.10.9\u001b[0m\n",
      "\u001b[34m2023-09-08T19:15:16,045 [INFO ] W-9004-model_1.0-stdout MODEL_LOG - Connection accepted: /home/model-server/tmp/.ts.sock.9004.\u001b[0m\n",
      "\u001b[34m2023-09-08T19:15:16,046 [INFO ] W-9004-model_1.0 org.pytorch.serve.wlm.WorkerThread - Flushing req.cmd LOAD to backend at: 1694200516046\u001b[0m\n",
      "\u001b[34m2023-09-08T19:15:16,065 [INFO ] W-9000-model_1.0-stdout MODEL_LOG - model_name: model, batchSize: 1\u001b[0m\n",
      "\u001b[34m2023-09-08T19:15:16,066 [INFO ] W-9003-model_1.0-stdout MODEL_LOG - Connection accepted: /home/model-server/tmp/.ts.sock.9003.\u001b[0m\n",
      "\u001b[34m2023-09-08T19:15:16,066 [INFO ] W-9003-model_1.0 org.pytorch.serve.wlm.WorkerThread - Flushing req.cmd LOAD to backend at: 1694200516066\u001b[0m\n",
      "\u001b[34m2023-09-08T19:15:16,099 [INFO ] W-9004-model_1.0-stdout MODEL_LOG - model_name: model, batchSize: 1\u001b[0m\n",
      "\u001b[34m2023-09-08T19:15:16,105 [INFO ] W-9003-model_1.0-stdout MODEL_LOG - model_name: model, batchSize: 1\u001b[0m\n",
      "\u001b[34m2023-09-08T19:15:16,145 [INFO ] W-9007-model_1.0-stdout MODEL_LOG - s_name_part0=/home/model-server/tmp/.ts.sock, s_name_part1=9007, pid=68\u001b[0m\n",
      "\u001b[34m2023-09-08T19:15:16,146 [INFO ] W-9007-model_1.0-stdout MODEL_LOG - Listening on port: /home/model-server/tmp/.ts.sock.9007\u001b[0m\n",
      "\u001b[34m2023-09-08T19:15:16,175 [INFO ] W-9007-model_1.0-stdout MODEL_LOG - Successfully loaded /opt/conda/lib/python3.10/site-packages/ts/configs/metrics.yaml.\u001b[0m\n",
      "\u001b[34m2023-09-08T19:15:16,175 [INFO ] W-9007-model_1.0-stdout MODEL_LOG - [PID]68\u001b[0m\n",
      "\u001b[34m2023-09-08T19:15:16,176 [INFO ] W-9007-model_1.0-stdout MODEL_LOG - Torch worker started.\u001b[0m\n",
      "\u001b[34m2023-09-08T19:15:16,176 [INFO ] W-9007-model_1.0-stdout MODEL_LOG - Python runtime: 3.10.9\u001b[0m\n",
      "\u001b[34m2023-09-08T19:15:16,176 [INFO ] W-9007-model_1.0 org.pytorch.serve.wlm.WorkerThread - Connecting to: /home/model-server/tmp/.ts.sock.9007\u001b[0m\n",
      "\u001b[34m2023-09-08T19:15:16,196 [INFO ] W-9007-model_1.0-stdout MODEL_LOG - Connection accepted: /home/model-server/tmp/.ts.sock.9007.\u001b[0m\n",
      "\u001b[34m2023-09-08T19:15:16,197 [INFO ] W-9007-model_1.0 org.pytorch.serve.wlm.WorkerThread - Flushing req.cmd LOAD to backend at: 1694200516197\u001b[0m\n",
      "\u001b[34m2023-09-08T19:15:16,229 [INFO ] W-9007-model_1.0-stdout MODEL_LOG - model_name: model, batchSize: 1\u001b[0m\n",
      "\u001b[34m2023-09-08T19:15:16,274 [INFO ] W-9006-model_1.0-stdout MODEL_LOG - s_name_part0=/home/model-server/tmp/.ts.sock, s_name_part1=9006, pid=64\u001b[0m\n",
      "\u001b[34m2023-09-08T19:15:16,276 [INFO ] W-9006-model_1.0-stdout MODEL_LOG - Listening on port: /home/model-server/tmp/.ts.sock.9006\u001b[0m\n",
      "\u001b[34m2023-09-08T19:15:16,293 [INFO ] W-9006-model_1.0-stdout MODEL_LOG - Successfully loaded /opt/conda/lib/python3.10/site-packages/ts/configs/metrics.yaml.\u001b[0m\n",
      "\u001b[34m2023-09-08T19:15:16,309 [INFO ] W-9006-model_1.0-stdout MODEL_LOG - [PID]64\u001b[0m\n",
      "\u001b[34m2023-09-08T19:15:16,310 [INFO ] W-9006-model_1.0-stdout MODEL_LOG - Torch worker started.\u001b[0m\n",
      "\u001b[34m2023-09-08T19:15:16,311 [INFO ] W-9006-model_1.0-stdout MODEL_LOG - Python runtime: 3.10.9\u001b[0m\n",
      "\u001b[34m2023-09-08T19:15:16,310 [INFO ] W-9006-model_1.0 org.pytorch.serve.wlm.WorkerThread - Connecting to: /home/model-server/tmp/.ts.sock.9006\u001b[0m\n",
      "\u001b[34m2023-09-08T19:15:16,313 [INFO ] W-9006-model_1.0-stdout MODEL_LOG - Connection accepted: /home/model-server/tmp/.ts.sock.9006.\u001b[0m\n",
      "\u001b[34m2023-09-08T19:15:16,313 [INFO ] W-9006-model_1.0 org.pytorch.serve.wlm.WorkerThread - Flushing req.cmd LOAD to backend at: 1694200516313\u001b[0m\n",
      "\u001b[34m2023-09-08T19:15:16,329 [INFO ] W-9002-model_1.0-stdout MODEL_LOG - s_name_part0=/home/model-server/tmp/.ts.sock, s_name_part1=9002, pid=70\u001b[0m\n",
      "\u001b[34m2023-09-08T19:15:16,331 [INFO ] W-9002-model_1.0-stdout MODEL_LOG - Listening on port: /home/model-server/tmp/.ts.sock.9002\u001b[0m\n",
      "\u001b[34m2023-09-08T19:15:16,344 [INFO ] W-9001-model_1.0-stdout MODEL_LOG - s_name_part0=/home/model-server/tmp/.ts.sock, s_name_part1=9001, pid=63\u001b[0m\n",
      "\u001b[34m2023-09-08T19:15:16,345 [INFO ] W-9001-model_1.0-stdout MODEL_LOG - Listening on port: /home/model-server/tmp/.ts.sock.9001\u001b[0m\n",
      "\u001b[34m2023-09-08T19:15:16,368 [INFO ] W-9001-model_1.0-stdout MODEL_LOG - Successfully loaded /opt/conda/lib/python3.10/site-packages/ts/configs/metrics.yaml.\u001b[0m\n",
      "\u001b[34m2023-09-08T19:15:16,369 [INFO ] W-9001-model_1.0-stdout MODEL_LOG - [PID]63\u001b[0m\n",
      "\u001b[34m2023-09-08T19:15:16,369 [INFO ] W-9001-model_1.0-stdout MODEL_LOG - Torch worker started.\u001b[0m\n",
      "\u001b[34m2023-09-08T19:15:16,370 [INFO ] W-9001-model_1.0 org.pytorch.serve.wlm.WorkerThread - Connecting to: /home/model-server/tmp/.ts.sock.9001\u001b[0m\n",
      "\u001b[34m2023-09-08T19:15:16,370 [INFO ] W-9001-model_1.0-stdout MODEL_LOG - Python runtime: 3.10.9\u001b[0m\n",
      "\u001b[34m2023-09-08T19:15:16,390 [INFO ] W-9002-model_1.0-stdout MODEL_LOG - Successfully loaded /opt/conda/lib/python3.10/site-packages/ts/configs/metrics.yaml.\u001b[0m\n",
      "\u001b[34m2023-09-08T19:15:16,390 [INFO ] W-9002-model_1.0-stdout MODEL_LOG - [PID]70\u001b[0m\n",
      "\u001b[34m2023-09-08T19:15:16,391 [INFO ] W-9002-model_1.0-stdout MODEL_LOG - Torch worker started.\u001b[0m\n",
      "\u001b[34m2023-09-08T19:15:16,391 [INFO ] W-9002-model_1.0 org.pytorch.serve.wlm.WorkerThread - Connecting to: /home/model-server/tmp/.ts.sock.9002\u001b[0m\n",
      "\u001b[34m2023-09-08T19:15:16,392 [INFO ] W-9002-model_1.0-stdout MODEL_LOG - Python runtime: 3.10.9\u001b[0m\n",
      "\u001b[34m2023-09-08T19:15:16,394 [INFO ] W-9001-model_1.0-stdout MODEL_LOG - Connection accepted: /home/model-server/tmp/.ts.sock.9001.\u001b[0m\n",
      "\u001b[34m2023-09-08T19:15:16,395 [INFO ] W-9001-model_1.0 org.pytorch.serve.wlm.WorkerThread - Flushing req.cmd LOAD to backend at: 1694200516395\u001b[0m\n",
      "\u001b[34m2023-09-08T19:15:16,399 [INFO ] W-9006-model_1.0-stdout MODEL_LOG - model_name: model, batchSize: 1\u001b[0m\n",
      "\u001b[34m2023-09-08T19:15:16,411 [INFO ] W-9002-model_1.0-stdout MODEL_LOG - Connection accepted: /home/model-server/tmp/.ts.sock.9002.\u001b[0m\n",
      "\u001b[34m2023-09-08T19:15:16,422 [INFO ] W-9002-model_1.0 org.pytorch.serve.wlm.WorkerThread - Flushing req.cmd LOAD to backend at: 1694200516422\u001b[0m\n",
      "\u001b[34m2023-09-08T19:15:16,477 [INFO ] W-9001-model_1.0-stdout MODEL_LOG - model_name: model, batchSize: 1\u001b[0m\n",
      "\u001b[34m2023-09-08T19:15:16,509 [INFO ] W-9002-model_1.0-stdout MODEL_LOG - model_name: model, batchSize: 1\u001b[0m\n",
      "\u001b[34m2023-09-08T19:15:16,762 [INFO ] W-9000-model_1.0 org.pytorch.serve.wlm.WorkerThread - Backend response time: 707\u001b[0m\n",
      "\u001b[34m2023-09-08T19:15:16,763 [INFO ] W-9000-model_1.0 TS_METRICS - WorkerLoadTime.Milliseconds:3287.0|#WorkerName:W-9000-model_1.0,Level:Host|#hostname:ba750fd8404b,timestamp:1694200516\u001b[0m\n",
      "\u001b[34m2023-09-08T19:15:16,763 [INFO ] W-9000-model_1.0 TS_METRICS - WorkerThreadTime.Milliseconds:48.0|#Level:Host|#hostname:ba750fd8404b,timestamp:1694200516\u001b[0m\n",
      "\u001b[34m2023-09-08T19:15:16,852 [INFO ] W-9004-model_1.0 org.pytorch.serve.wlm.WorkerThread - Backend response time: 754\u001b[0m\n",
      "\u001b[34m2023-09-08T19:15:16,854 [INFO ] W-9004-model_1.0 TS_METRICS - WorkerLoadTime.Milliseconds:3377.0|#WorkerName:W-9004-model_1.0,Level:Host|#hostname:ba750fd8404b,timestamp:1694200516\u001b[0m\n",
      "\u001b[34m2023-09-08T19:15:16,855 [INFO ] W-9004-model_1.0 TS_METRICS - WorkerThreadTime.Milliseconds:55.0|#Level:Host|#hostname:ba750fd8404b,timestamp:1694200516\u001b[0m\n",
      "\u001b[34m2023-09-08T19:15:16,999 [INFO ] W-9005-model_1.0-stdout MODEL_LOG - s_name_part0=/home/model-server/tmp/.ts.sock, s_name_part1=9005, pid=67\u001b[0m\n",
      "\u001b[34m2023-09-08T19:15:17,000 [INFO ] W-9005-model_1.0-stdout MODEL_LOG - Listening on port: /home/model-server/tmp/.ts.sock.9005\u001b[0m\n",
      "\u001b[34m2023-09-08T19:15:17,012 [INFO ] W-9007-model_1.0 org.pytorch.serve.wlm.WorkerThread - Backend response time: 755\u001b[0m\n",
      "\u001b[34m2023-09-08T19:15:17,013 [INFO ] W-9007-model_1.0 TS_METRICS - WorkerLoadTime.Milliseconds:3535.0|#WorkerName:W-9007-model_1.0,Level:Host|#hostname:ba750fd8404b,timestamp:1694200517\u001b[0m\n",
      "\u001b[34m2023-09-08T19:15:17,013 [INFO ] W-9007-model_1.0 TS_METRICS - WorkerThreadTime.Milliseconds:61.0|#Level:Host|#hostname:ba750fd8404b,timestamp:1694200517\u001b[0m\n",
      "\u001b[34m2023-09-08T19:15:17,016 [INFO ] W-9005-model_1.0-stdout MODEL_LOG - Successfully loaded /opt/conda/lib/python3.10/site-packages/ts/configs/metrics.yaml.\u001b[0m\n",
      "\u001b[34m2023-09-08T19:15:17,017 [INFO ] W-9005-model_1.0-stdout MODEL_LOG - [PID]67\u001b[0m\n",
      "\u001b[34m2023-09-08T19:15:17,017 [INFO ] W-9005-model_1.0-stdout MODEL_LOG - Torch worker started.\u001b[0m\n",
      "\u001b[34m2023-09-08T19:15:17,017 [INFO ] W-9005-model_1.0-stdout MODEL_LOG - Python runtime: 3.10.9\u001b[0m\n",
      "\u001b[34m2023-09-08T19:15:17,017 [INFO ] W-9005-model_1.0 org.pytorch.serve.wlm.WorkerThread - Connecting to: /home/model-server/tmp/.ts.sock.9005\u001b[0m\n",
      "\u001b[34m2023-09-08T19:15:17,027 [INFO ] W-9005-model_1.0-stdout MODEL_LOG - Connection accepted: /home/model-server/tmp/.ts.sock.9005.\u001b[0m\n",
      "\u001b[34m2023-09-08T19:15:17,034 [INFO ] W-9005-model_1.0 org.pytorch.serve.wlm.WorkerThread - Flushing req.cmd LOAD to backend at: 1694200517034\u001b[0m\n",
      "\u001b[34m2023-09-08T19:15:17,062 [INFO ] W-9003-model_1.0 org.pytorch.serve.wlm.WorkerThread - Backend response time: 961\u001b[0m\n",
      "\u001b[34m2023-09-08T19:15:17,063 [INFO ] W-9003-model_1.0 TS_METRICS - WorkerLoadTime.Milliseconds:3585.0|#WorkerName:W-9003-model_1.0,Level:Host|#hostname:ba750fd8404b,timestamp:1694200517\u001b[0m\n",
      "\u001b[34m2023-09-08T19:15:17,063 [INFO ] W-9003-model_1.0 TS_METRICS - WorkerThreadTime.Milliseconds:36.0|#Level:Host|#hostname:ba750fd8404b,timestamp:1694200517\u001b[0m\n",
      "\u001b[34m2023-09-08T19:15:17,064 [INFO ] W-9005-model_1.0-stdout MODEL_LOG - model_name: model, batchSize: 1\u001b[0m\n",
      "\u001b[34m2023-09-08T19:15:17,128 [INFO ] W-9006-model_1.0 org.pytorch.serve.wlm.WorkerThread - Backend response time: 707\u001b[0m\n",
      "\u001b[34m2023-09-08T19:15:17,128 [INFO ] W-9006-model_1.0 TS_METRICS - WorkerLoadTime.Milliseconds:3651.0|#WorkerName:W-9006-model_1.0,Level:Host|#hostname:ba750fd8404b,timestamp:1694200517\u001b[0m\n",
      "\u001b[34m2023-09-08T19:15:17,129 [INFO ] W-9006-model_1.0 TS_METRICS - WorkerThreadTime.Milliseconds:109.0|#Level:Host|#hostname:ba750fd8404b,timestamp:1694200517\u001b[0m\n",
      "\u001b[34m2023-09-08T19:15:17,224 [INFO ] W-9002-model_1.0 org.pytorch.serve.wlm.WorkerThread - Backend response time: 720\u001b[0m\n",
      "\u001b[34m2023-09-08T19:15:17,225 [INFO ] W-9002-model_1.0 TS_METRICS - WorkerLoadTime.Milliseconds:3748.0|#WorkerName:W-9002-model_1.0,Level:Host|#hostname:ba750fd8404b,timestamp:1694200517\u001b[0m\n",
      "\u001b[34m2023-09-08T19:15:17,225 [INFO ] W-9002-model_1.0 TS_METRICS - WorkerThreadTime.Milliseconds:83.0|#Level:Host|#hostname:ba750fd8404b,timestamp:1694200517\u001b[0m\n",
      "\u001b[34m2023-09-08T19:15:17,232 [INFO ] W-9001-model_1.0 org.pytorch.serve.wlm.WorkerThread - Backend response time: 735\u001b[0m\n",
      "\u001b[34m2023-09-08T19:15:17,233 [INFO ] W-9001-model_1.0 TS_METRICS - WorkerLoadTime.Milliseconds:3756.0|#WorkerName:W-9001-model_1.0,Level:Host|#hostname:ba750fd8404b,timestamp:1694200517\u001b[0m\n",
      "\u001b[34m2023-09-08T19:15:17,233 [INFO ] W-9001-model_1.0 TS_METRICS - WorkerThreadTime.Milliseconds:103.0|#Level:Host|#hostname:ba750fd8404b,timestamp:1694200517\u001b[0m\n",
      "\u001b[34m2023-09-08T19:15:17,473 [INFO ] W-9005-model_1.0 org.pytorch.serve.wlm.WorkerThread - Backend response time: 409\u001b[0m\n",
      "\u001b[34m2023-09-08T19:15:17,474 [INFO ] W-9005-model_1.0 TS_METRICS - WorkerLoadTime.Milliseconds:3997.0|#WorkerName:W-9005-model_1.0,Level:Host|#hostname:ba750fd8404b,timestamp:1694200517\u001b[0m\n",
      "\u001b[34m2023-09-08T19:15:17,475 [INFO ] W-9005-model_1.0 TS_METRICS - WorkerThreadTime.Milliseconds:32.0|#Level:Host|#hostname:ba750fd8404b,timestamp:1694200517\u001b[0m\n",
      "\u001b[34m2023-09-08T19:15:18,736 [INFO ] pool-2-thread-9 ACCESS_LOG - /169.254.255.130:57880 \"GET /ping HTTP/1.1\" 200 13\u001b[0m\n",
      "\u001b[34m2023-09-08T19:15:18,737 [INFO ] pool-2-thread-9 TS_METRICS - Requests2XX.Count:1.0|#Level:Host|#hostname:ba750fd8404b,timestamp:1694200518\u001b[0m\n",
      "\u001b[34m2023-09-08T19:15:18,753 [INFO ] epollEventLoopGroup-3-2 ACCESS_LOG - /169.254.255.130:57888 \"GET /execution-parameters HTTP/1.1\" 404 1\u001b[0m\n",
      "\u001b[34m2023-09-08T19:15:18,754 [INFO ] epollEventLoopGroup-3-2 TS_METRICS - Requests4XX.Count:1.0|#Level:Host|#hostname:ba750fd8404b,timestamp:1694200518\u001b[0m\n",
      "\u001b[34m2023-09-08T19:15:18,845 [INFO ] epollEventLoopGroup-3-3 TS_METRICS - ts_inference_requests_total.Count:1.0|#model_name:model,model_version:default|#hostname:ba750fd8404b,timestamp:1694200518\u001b[0m\n",
      "\u001b[34m2023-09-08T19:15:18,846 [INFO ] W-9000-model_1.0 org.pytorch.serve.wlm.WorkerThread - Flushing req.cmd PREDICT to backend at: 1694200518846\u001b[0m\n",
      "\u001b[34m2023-09-08T19:15:18,847 [INFO ] W-9000-model_1.0-stdout MODEL_LOG - Backend received inference at: 1694200518\u001b[0m\n",
      "\u001b[34m2023-09-08T19:15:19,136 [INFO ] W-9000-model_1.0-stdout org.pytorch.serve.wlm.WorkerLifeCycle - result=[METRICS]PredictionTime.Milliseconds:287.9|#ModelName:model,Level:Model|#hostname:ba750fd8404b,1694200519,bbb7bc68-9b20-45e6-9979-ae9f8192f42e, pattern=[METRICS]\u001b[0m\n",
      "\u001b[34m2023-09-08T19:15:19,137 [INFO ] W-9000-model_1.0-stdout MODEL_METRICS - PredictionTime.ms:287.9|#ModelName:model,Level:Model|#hostname:ba750fd8404b,requestID:bbb7bc68-9b20-45e6-9979-ae9f8192f42e,timestamp:1694200519\u001b[0m\n",
      "\u001b[34m2023-09-08T19:15:19,137 [INFO ] W-9000-model_1.0 ACCESS_LOG - /169.254.255.130:57890 \"POST /invocations HTTP/1.1\" 200 293\u001b[0m\n",
      "\u001b[34m2023-09-08T19:15:19,137 [INFO ] W-9000-model_1.0 TS_METRICS - Requests2XX.Count:1.0|#Level:Host|#hostname:ba750fd8404b,timestamp:1694200519\u001b[0m\n",
      "\u001b[34m2023-09-08T19:15:19,138 [INFO ] W-9000-model_1.0 TS_METRICS - ts_inference_latency_microseconds.Microseconds:291172.07|#model_name:model,model_version:default|#hostname:ba750fd8404b,timestamp:1694200519\u001b[0m\n",
      "\u001b[34m2023-09-08T19:15:19,138 [INFO ] W-9000-model_1.0 TS_METRICS - ts_queue_latency_microseconds.Microseconds:172.234|#model_name:model,model_version:default|#hostname:ba750fd8404b,timestamp:1694200519\u001b[0m\n",
      "\u001b[34m2023-09-08T19:15:19,138 [INFO ] W-9000-model_1.0 TS_METRICS - QueueTime.Milliseconds:0.0|#Level:Host|#hostname:ba750fd8404b,timestamp:1694200519\u001b[0m\n",
      "\u001b[34m2023-09-08T19:15:19,138 [INFO ] W-9000-model_1.0 org.pytorch.serve.wlm.WorkerThread - Backend response time: 284\u001b[0m\n",
      "\u001b[34m2023-09-08T19:15:19,139 [INFO ] W-9000-model_1.0 TS_METRICS - WorkerThreadTime.Milliseconds:8.0|#Level:Host|#hostname:ba750fd8404b,timestamp:1694200519\u001b[0m\n",
      "\u001b[32m2023-09-08T19:15:18.758:[sagemaker logs]: MaxConcurrentTransforms=1, MaxPayloadInMB=100, BatchStrategy=MULTI_RECORD\u001b[0m\n",
      "\n"
     ]
    }
   ],
   "source": [
    "transformer = estimator.transformer(\n",
    "    instance_count=1,\n",
    "    instance_type=instance_type,\n",
    "    max_payload=100,\n",
    ")\n",
    "\n",
    "transformer.transform(\n",
    "    data=test_data,\n",
    "    content_type=\"text/csv\",\n",
    ")"
   ]
  },
  {
   "cell_type": "markdown",
   "id": "a1404972-89a8-475b-a281-948955a8417c",
   "metadata": {},
   "source": [
    "Load the test set predictions from S3."
   ]
  },
  {
   "cell_type": "code",
   "execution_count": 17,
   "id": "d66ec3b4-9b56-4c7f-8351-256cd93c3809",
   "metadata": {
    "tags": []
   },
   "outputs": [],
   "source": [
    "predictions = sagemaker_session.read_s3_file(\n",
    "    bucket=bucket,\n",
    "    key_prefix=f\"{transformer.latest_transform_job.name}/AirQuality_test.csv.out\"\n",
    ")\n",
    "\n",
    "predictions = pd.DataFrame(\n",
    "    data=predictions.split(\"\\n\")[1:-1],\n",
    "    columns=predictions.split(\"\\n\")[:1]\n",
    ").replace('\"\"', np.nan).astype(float)"
   ]
  },
  {
   "cell_type": "code",
   "execution_count": 18,
   "id": "b977e690-e2e7-40d2-9112-36fa7fef8de9",
   "metadata": {
    "tags": []
   },
   "outputs": [
    {
     "data": {
      "text/plain": [
       "(792, 1)"
      ]
     },
     "execution_count": 18,
     "metadata": {},
     "output_type": "execute_result"
    }
   ],
   "source": [
    "predictions.shape"
   ]
  },
  {
   "cell_type": "code",
   "execution_count": 19,
   "id": "1c635817-9d68-4634-a6fa-6e5df4d97792",
   "metadata": {
    "tags": []
   },
   "outputs": [
    {
     "data": {
      "text/html": [
       "<div>\n",
       "<style scoped>\n",
       "    .dataframe tbody tr th:only-of-type {\n",
       "        vertical-align: middle;\n",
       "    }\n",
       "\n",
       "    .dataframe tbody tr th {\n",
       "        vertical-align: top;\n",
       "    }\n",
       "\n",
       "    .dataframe thead th {\n",
       "        text-align: right;\n",
       "    }\n",
       "</style>\n",
       "<table border=\"1\" class=\"dataframe\">\n",
       "  <thead>\n",
       "    <tr style=\"text-align: right;\">\n",
       "      <th></th>\n",
       "      <th>y</th>\n",
       "    </tr>\n",
       "  </thead>\n",
       "  <tbody>\n",
       "    <tr>\n",
       "      <th>0</th>\n",
       "      <td>NaN</td>\n",
       "    </tr>\n",
       "    <tr>\n",
       "      <th>1</th>\n",
       "      <td>NaN</td>\n",
       "    </tr>\n",
       "    <tr>\n",
       "      <th>2</th>\n",
       "      <td>NaN</td>\n",
       "    </tr>\n",
       "    <tr>\n",
       "      <th>3</th>\n",
       "      <td>NaN</td>\n",
       "    </tr>\n",
       "    <tr>\n",
       "      <th>4</th>\n",
       "      <td>NaN</td>\n",
       "    </tr>\n",
       "  </tbody>\n",
       "</table>\n",
       "</div>"
      ],
      "text/plain": [
       "    y\n",
       "0 NaN\n",
       "1 NaN\n",
       "2 NaN\n",
       "3 NaN\n",
       "4 NaN"
      ]
     },
     "execution_count": 19,
     "metadata": {},
     "output_type": "execute_result"
    }
   ],
   "source": [
    "predictions.head()"
   ]
  },
  {
   "cell_type": "code",
   "execution_count": 20,
   "id": "57ccce34-9119-479b-a555-63e423aad4bb",
   "metadata": {
    "tags": []
   },
   "outputs": [
    {
     "data": {
      "text/html": [
       "<div>\n",
       "<style scoped>\n",
       "    .dataframe tbody tr th:only-of-type {\n",
       "        vertical-align: middle;\n",
       "    }\n",
       "\n",
       "    .dataframe tbody tr th {\n",
       "        vertical-align: top;\n",
       "    }\n",
       "\n",
       "    .dataframe thead th {\n",
       "        text-align: right;\n",
       "    }\n",
       "</style>\n",
       "<table border=\"1\" class=\"dataframe\">\n",
       "  <thead>\n",
       "    <tr style=\"text-align: right;\">\n",
       "      <th></th>\n",
       "      <th>y</th>\n",
       "    </tr>\n",
       "  </thead>\n",
       "  <tbody>\n",
       "    <tr>\n",
       "      <th>787</th>\n",
       "      <td>2.702807</td>\n",
       "    </tr>\n",
       "    <tr>\n",
       "      <th>788</th>\n",
       "      <td>2.462340</td>\n",
       "    </tr>\n",
       "    <tr>\n",
       "      <th>789</th>\n",
       "      <td>2.221536</td>\n",
       "    </tr>\n",
       "    <tr>\n",
       "      <th>790</th>\n",
       "      <td>2.291478</td>\n",
       "    </tr>\n",
       "    <tr>\n",
       "      <th>791</th>\n",
       "      <td>2.189827</td>\n",
       "    </tr>\n",
       "  </tbody>\n",
       "</table>\n",
       "</div>"
      ],
      "text/plain": [
       "            y\n",
       "787  2.702807\n",
       "788  2.462340\n",
       "789  2.221536\n",
       "790  2.291478\n",
       "791  2.189827"
      ]
     },
     "execution_count": 20,
     "metadata": {},
     "output_type": "execute_result"
    }
   ],
   "source": [
    "predictions.tail()"
   ]
  },
  {
   "cell_type": "markdown",
   "id": "50e993c6-fd22-4733-be24-3263393ab938",
   "metadata": {},
   "source": [
    "Visualize the test set predictions."
   ]
  },
  {
   "cell_type": "code",
   "execution_count": 21,
   "id": "0506b76a-f1e6-40cd-9900-1f0ad13ebff6",
   "metadata": {
    "tags": []
   },
   "outputs": [
    {
     "data": {
      "image/png": "[encoded data removed]",
      "text/plain": [
       "<Figure size 600x350 with 1 Axes>"
      ]
     },
     "metadata": {},
     "output_type": "display_data"
    }
   ],
   "source": [
    "fig, ax = plt.subplots(figsize=(6, 3.5))\n",
    "ax.plot(test_dataset[\"y\"].iloc[context_length:].values, color=\"#AFB8C1\", lw=0.6, label=\"Actual\")\n",
    "ax.plot(predictions[\"y\"].iloc[context_length: - prediction_length].values, color=\"#009ad3\", lw=0.6, label=\"Predicted\")\n",
    "ax.set(xlabel=\"Time\", ylabel=\"Value\")\n",
    "ax.tick_params(axis=\"both\", which=\"major\", labelsize=7)\n",
    "ax.tick_params(axis=\"both\", which=\"minor\", labelsize=7)\n",
    "fig.legend(frameon=False, bbox_to_anchor=(1.2, 1, 0, 0))\n",
    "fig.tight_layout()\n",
    "fig.show()"
   ]
  },
  {
   "cell_type": "markdown",
   "id": "d985e8e7-72bc-444f-942a-3e1cd2f1a043",
   "metadata": {},
   "source": [
    "Calculate the error metrics."
   ]
  },
  {
   "cell_type": "code",
   "execution_count": 22,
   "id": "c5dfd574-e1c8-4872-adc2-aa8b07f6326f",
   "metadata": {
    "tags": []
   },
   "outputs": [
    {
     "name": "stdout",
     "output_type": "stream",
     "text": [
      "MSE: 0.93, MAE: 0.71\n"
     ]
    }
   ],
   "source": [
    "mse = mean_squared_error(\n",
    "    test_dataset[\"y\"].iloc[context_length:],\n",
    "    predictions[\"y\"].iloc[context_length: - prediction_length]\n",
    ")\n",
    "\n",
    "mae = mean_absolute_error(\n",
    "    test_dataset[\"y\"].iloc[context_length:],\n",
    "    predictions[\"y\"].iloc[context_length: - prediction_length]\n",
    ")\n",
    "\n",
    "print(f\"MSE: {format(mse, '.2f')}, MAE: {format(mae, '.2f')}\")"
   ]
  }
 ],
 "metadata": {
  "kernelspec": {
   "display_name": "conda_python3",
   "language": "python",
   "name": "conda_python3"
  },
  "language_info": {
   "codemirror_mode": {
    "name": "ipython",
    "version": 3
   },
   "file_extension": ".py",
   "mimetype": "text/x-python",
   "name": "python",
   "nbconvert_exporter": "python",
   "pygments_lexer": "ipython3",
   "version": "3.10.12"
  }
 },
 "nbformat": 4,
 "nbformat_minor": 5
}
