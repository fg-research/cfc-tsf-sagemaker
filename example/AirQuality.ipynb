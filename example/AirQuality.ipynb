{
 "cells": [
  {
   "cell_type": "markdown",
   "id": "5abd699a-784e-4001-946e-40fae4af6885",
   "metadata": {
    "tags": []
   },
   "source": [
    "# UCI Dataset: Air Quality"
   ]
  },
  {
   "cell_type": "markdown",
   "id": "721cb54b-ace5-431e-9952-9ab8d52166b8",
   "metadata": {},
   "source": [
    "**Dataset Homepage:** https://archive.ics.uci.edu/dataset/360/air+quality"
   ]
  },
  {
   "cell_type": "markdown",
   "id": "b6ba64ab-408d-4443-a08f-39b95d9621c8",
   "metadata": {},
   "source": [
    "### 1. Environment set-up"
   ]
  },
  {
   "cell_type": "markdown",
   "id": "11f28e0b-f927-4832-9761-2bad9545d5c4",
   "metadata": {
    "tags": []
   },
   "source": [
    "1. This notebook contains elements which render correctly in Jupyter interface. Open this notebook from an Amazon SageMaker Notebook Instance or Amazon SageMaker Studio.\n",
    "1. Ensure that IAM role used has **AmazonSageMakerFullAccess**\n",
    "1. Some hands-on experience using [Amazon SageMaker](https://aws.amazon.com/sagemaker/).\n",
    "1. To use this algorithm successfully, ensure that:\n",
    "    1. Either your IAM role has these three permissions and you have authority to make AWS Marketplace subscriptions in the AWS account used: \n",
    "        1. **aws-marketplace:ViewSubscriptions**\n",
    "        1. **aws-marketplace:Unsubscribe**\n",
    "        1. **aws-marketplace:Subscribe**  \n",
    "    2. or your AWS account has a subscription to the [Time Series Forecasting (CfC) Algorithm from AWS Marketplace](https://aws.amazon.com/marketplace/pp/prodview-7s4giphluwgta).\n",
    "\n",
    "To subscribe to the algorithm:\n",
    "1. Open the algorithm listing page.\n",
    "1. On the AWS Marketplace listing, click on the **Continue to subscribe** button.\n",
    "1. On the **Subscribe to this software** page, review and click on **\"Accept Offer\"** if you agree with EULA, pricing, and support terms. \n",
    "1. Once you click on the **Continue to configuration** button and then choose a **region**, you will see a **Product ARN**. This is the algorithm ARN that you need to specify while training a custom ML model. **Copy the ARN corresponding to your region and specify the same in the following cell.**"
   ]
  },
  {
   "cell_type": "code",
   "execution_count": 1,
   "id": "6105729c-392b-4ab4-b4c2-f75d5a11ea23",
   "metadata": {
    "tags": []
   },
   "outputs": [],
   "source": [
    "algo_arn = \"ALGO_ARN\""
   ]
  },
  {
   "cell_type": "code",
   "execution_count": 2,
   "id": "85efac29-68b8-461f-8e80-8f26dad0fd7e",
   "metadata": {
    "tags": []
   },
   "outputs": [
    {
     "name": "stderr",
     "output_type": "stream",
     "text": [
      "/home/ec2-user/anaconda3/envs/python3/lib/python3.10/site-packages/pandas/core/computation/expressions.py:21: UserWarning: Pandas requires version '2.8.0' or newer of 'numexpr' (version '2.7.3' currently installed).\n",
      "  from pandas.core.computation.check import NUMEXPR_INSTALLED\n"
     ]
    },
    {
     "name": "stdout",
     "output_type": "stream",
     "text": [
      "sagemaker.config INFO - Not applying SDK defaults from location: /etc/xdg/sagemaker/config.yaml\n",
      "sagemaker.config INFO - Not applying SDK defaults from location: /home/ec2-user/.config/sagemaker/config.yaml\n",
      "sagemaker.config INFO - Not applying SDK defaults from location: /etc/xdg/sagemaker/config.yaml\n",
      "sagemaker.config INFO - Not applying SDK defaults from location: /home/ec2-user/.config/sagemaker/config.yaml\n",
      "sagemaker.config INFO - Not applying SDK defaults from location: /etc/xdg/sagemaker/config.yaml\n",
      "sagemaker.config INFO - Not applying SDK defaults from location: /home/ec2-user/.config/sagemaker/config.yaml\n"
     ]
    }
   ],
   "source": [
    "import sagemaker\n",
    "import pandas as pd\n",
    "import numpy as np\n",
    "import matplotlib.pyplot as plt\n",
    "from sklearn.metrics import mean_squared_error, mean_absolute_error\n",
    "\n",
    "# SageMaker session\n",
    "sagemaker_session = sagemaker.Session()\n",
    "\n",
    "# SageMaker role\n",
    "role = sagemaker.get_execution_role()\n",
    "\n",
    "# S3 bucket\n",
    "bucket = sagemaker_session.default_bucket()\n",
    "\n",
    "# EC2 instance\n",
    "instance_type = \"ml.m5.2xlarge\""
   ]
  },
  {
   "cell_type": "markdown",
   "id": "8e8be62c-ab24-4c83-84df-5784ce5ef8c8",
   "metadata": {},
   "source": [
    "### 2. Data preparation"
   ]
  },
  {
   "cell_type": "markdown",
   "id": "a490e012-f3d7-404c-8b5a-3cfc5f57d4be",
   "metadata": {},
   "source": [
    "Load and prepare the data."
   ]
  },
  {
   "cell_type": "code",
   "execution_count": 3,
   "id": "ddc5e574-8b56-4452-85cb-26611abc6f8f",
   "metadata": {
    "tags": []
   },
   "outputs": [],
   "source": [
    "# load the data\n",
    "dataset = pd.read_excel(\n",
    "    \"AirQualityUCI.xlsx\",\n",
    "    usecols=[\"Date\", \"Time\", \"CO(GT)\"],\n",
    ")\n",
    "\n",
    "# format the time stamps and replace the missing values with NaN\n",
    "dataset = pd.DataFrame({\n",
    "    \"ts\": pd.to_datetime(\n",
    "        dataset[\"Date\"].dt.strftime(\"%Y-%m-%d\") + \" \" + dataset[\"Time\"].astype(str),\n",
    "        format=\"%Y-%m-%d %H:%M:%S\"\n",
    "    ),\n",
    "    \"y\": dataset[\"CO(GT)\"].replace(-200, np.nan)\n",
    "})\n",
    "\n",
    "# drop the missing values\n",
    "dataset.dropna(inplace=True, ignore_index=True)\n",
    "\n",
    "# calculate the time spans\n",
    "dataset[\"ts\"] = dataset[\"ts\"].diff().dt.total_seconds().fillna(value=0) / (60 * 60)"
   ]
  },
  {
   "cell_type": "code",
   "execution_count": 4,
   "id": "808f7ae1-9a31-436d-9bc7-da4a4c2ad083",
   "metadata": {
    "tags": []
   },
   "outputs": [
    {
     "data": {
      "text/plain": [
       "(7674, 2)"
      ]
     },
     "execution_count": 4,
     "metadata": {},
     "output_type": "execute_result"
    }
   ],
   "source": [
    "dataset.shape"
   ]
  },
  {
   "cell_type": "code",
   "execution_count": 5,
   "id": "8101c9ff-8b45-4e5f-928d-974d0199e1a8",
   "metadata": {
    "tags": []
   },
   "outputs": [
    {
     "data": {
      "text/html": [
       "<div>\n",
       "<style scoped>\n",
       "    .dataframe tbody tr th:only-of-type {\n",
       "        vertical-align: middle;\n",
       "    }\n",
       "\n",
       "    .dataframe tbody tr th {\n",
       "        vertical-align: top;\n",
       "    }\n",
       "\n",
       "    .dataframe thead th {\n",
       "        text-align: right;\n",
       "    }\n",
       "</style>\n",
       "<table border=\"1\" class=\"dataframe\">\n",
       "  <thead>\n",
       "    <tr style=\"text-align: right;\">\n",
       "      <th></th>\n",
       "      <th>ts</th>\n",
       "      <th>y</th>\n",
       "    </tr>\n",
       "  </thead>\n",
       "  <tbody>\n",
       "    <tr>\n",
       "      <th>0</th>\n",
       "      <td>0.0</td>\n",
       "      <td>2.6</td>\n",
       "    </tr>\n",
       "    <tr>\n",
       "      <th>1</th>\n",
       "      <td>1.0</td>\n",
       "      <td>2.0</td>\n",
       "    </tr>\n",
       "    <tr>\n",
       "      <th>2</th>\n",
       "      <td>1.0</td>\n",
       "      <td>2.2</td>\n",
       "    </tr>\n",
       "    <tr>\n",
       "      <th>3</th>\n",
       "      <td>1.0</td>\n",
       "      <td>2.2</td>\n",
       "    </tr>\n",
       "    <tr>\n",
       "      <th>4</th>\n",
       "      <td>1.0</td>\n",
       "      <td>1.6</td>\n",
       "    </tr>\n",
       "  </tbody>\n",
       "</table>\n",
       "</div>"
      ],
      "text/plain": [
       "    ts    y\n",
       "0  0.0  2.6\n",
       "1  1.0  2.0\n",
       "2  1.0  2.2\n",
       "3  1.0  2.2\n",
       "4  1.0  1.6"
      ]
     },
     "execution_count": 5,
     "metadata": {},
     "output_type": "execute_result"
    }
   ],
   "source": [
    "dataset.head()"
   ]
  },
  {
   "cell_type": "code",
   "execution_count": 6,
   "id": "22db7b7e-73af-4c32-a324-e6cada551d88",
   "metadata": {
    "tags": []
   },
   "outputs": [
    {
     "data": {
      "text/html": [
       "<div>\n",
       "<style scoped>\n",
       "    .dataframe tbody tr th:only-of-type {\n",
       "        vertical-align: middle;\n",
       "    }\n",
       "\n",
       "    .dataframe tbody tr th {\n",
       "        vertical-align: top;\n",
       "    }\n",
       "\n",
       "    .dataframe thead th {\n",
       "        text-align: right;\n",
       "    }\n",
       "</style>\n",
       "<table border=\"1\" class=\"dataframe\">\n",
       "  <thead>\n",
       "    <tr style=\"text-align: right;\">\n",
       "      <th></th>\n",
       "      <th>ts</th>\n",
       "      <th>y</th>\n",
       "    </tr>\n",
       "  </thead>\n",
       "  <tbody>\n",
       "    <tr>\n",
       "      <th>7669</th>\n",
       "      <td>1.0</td>\n",
       "      <td>3.1</td>\n",
       "    </tr>\n",
       "    <tr>\n",
       "      <th>7670</th>\n",
       "      <td>1.0</td>\n",
       "      <td>2.4</td>\n",
       "    </tr>\n",
       "    <tr>\n",
       "      <th>7671</th>\n",
       "      <td>1.0</td>\n",
       "      <td>2.4</td>\n",
       "    </tr>\n",
       "    <tr>\n",
       "      <th>7672</th>\n",
       "      <td>1.0</td>\n",
       "      <td>2.1</td>\n",
       "    </tr>\n",
       "    <tr>\n",
       "      <th>7673</th>\n",
       "      <td>1.0</td>\n",
       "      <td>2.2</td>\n",
       "    </tr>\n",
       "  </tbody>\n",
       "</table>\n",
       "</div>"
      ],
      "text/plain": [
       "       ts    y\n",
       "7669  1.0  3.1\n",
       "7670  1.0  2.4\n",
       "7671  1.0  2.4\n",
       "7672  1.0  2.1\n",
       "7673  1.0  2.2"
      ]
     },
     "execution_count": 6,
     "metadata": {},
     "output_type": "execute_result"
    }
   ],
   "source": [
    "dataset.tail()"
   ]
  },
  {
   "cell_type": "code",
   "execution_count": 7,
   "id": "824c9da1-1f0b-407d-a17b-765479f0da12",
   "metadata": {
    "tags": []
   },
   "outputs": [
    {
     "data": {
      "text/plain": [
       "count    7674.000000\n",
       "mean        1.219182\n",
       "std         4.229401\n",
       "min         0.000000\n",
       "25%         1.000000\n",
       "50%         1.000000\n",
       "75%         1.000000\n",
       "max       174.000000\n",
       "Name: ts, dtype: float64"
      ]
     },
     "execution_count": 7,
     "metadata": {},
     "output_type": "execute_result"
    }
   ],
   "source": [
    "dataset[\"ts\"].describe()"
   ]
  },
  {
   "cell_type": "code",
   "execution_count": 8,
   "id": "63d7f534-8c84-44a8-bc74-486eb8144f21",
   "metadata": {
    "tags": []
   },
   "outputs": [
    {
     "data": {
      "text/plain": [
       "count    7674.000000\n",
       "mean        2.152750\n",
       "std         1.453252\n",
       "min         0.100000\n",
       "25%         1.100000\n",
       "50%         1.800000\n",
       "75%         2.900000\n",
       "max        11.900000\n",
       "Name: y, dtype: float64"
      ]
     },
     "execution_count": 8,
     "metadata": {},
     "output_type": "execute_result"
    }
   ],
   "source": [
    "dataset[\"y\"].describe()"
   ]
  },
  {
   "cell_type": "markdown",
   "id": "a43f083b-4d28-45a4-8748-813572690f74",
   "metadata": {},
   "source": [
    "Visualize the data."
   ]
  },
  {
   "cell_type": "code",
   "execution_count": 9,
   "id": "00591bc4-4836-4fd6-9b2e-c4e5ac4419ff",
   "metadata": {
    "tags": []
   },
   "outputs": [
    {
     "data": {
      "image/png": "[encoded data removed]",
      "text/plain": [
       "<Figure size 600x350 with 1 Axes>"
      ]
     },
     "metadata": {},
     "output_type": "display_data"
    }
   ],
   "source": [
    "fig, ax = plt.subplots(figsize=(6, 3.5))\n",
    "ax.plot(dataset[\"y\"], color=\"#AFB8C1\", lw=0.3)\n",
    "ax.set(xlabel=\"Time\", ylabel=\"Value\")\n",
    "ax.tick_params(axis=\"both\", which=\"major\", labelsize=7)\n",
    "ax.tick_params(axis=\"both\", which=\"minor\", labelsize=7)\n",
    "fig.tight_layout()\n",
    "fig.show()"
   ]
  },
  {
   "cell_type": "markdown",
   "id": "c5be8de2-3112-4b0e-9e74-d6088d2ed7fd",
   "metadata": {},
   "source": [
    "Split the data."
   ]
  },
  {
   "cell_type": "code",
   "execution_count": 10,
   "id": "2c1bc4d8-ff53-4c6e-9906-388fd838e160",
   "metadata": {
    "tags": []
   },
   "outputs": [],
   "source": [
    "# number of time steps used as input\n",
    "context_length = 48\n",
    "\n",
    "# number of time steps to output\n",
    "prediction_length = 24\n",
    "\n",
    "# number of time steps used for testing\n",
    "cutoff = 30 * 24\n",
    "\n",
    "# training set\n",
    "training_dataset = dataset.iloc[:- cutoff]\n",
    "\n",
    "# test set\n",
    "test_dataset = dataset.iloc[- cutoff - context_length:]"
   ]
  },
  {
   "cell_type": "markdown",
   "id": "c15d3082-f038-479a-a0c5-fc800d161151",
   "metadata": {},
   "source": [
    "Upload the data to S3."
   ]
  },
  {
   "cell_type": "code",
   "execution_count": 11,
   "id": "6671e6ee-7352-475b-ba49-2090a4b3700b",
   "metadata": {
    "tags": []
   },
   "outputs": [],
   "source": [
    "training_data = sagemaker_session.upload_string_as_file_body(\n",
    "    body=training_dataset.to_csv(index=False),\n",
    "    bucket=bucket,\n",
    "    key=\"AirQuality_train.csv\"\n",
    ")"
   ]
  },
  {
   "cell_type": "code",
   "execution_count": 12,
   "id": "f89da63a-343c-4aec-aa14-648b844c6b59",
   "metadata": {
    "tags": []
   },
   "outputs": [
    {
     "data": {
      "text/plain": [
       "'s3://sagemaker-eu-west-1-661670223746/AirQuality_train.csv'"
      ]
     },
     "execution_count": 12,
     "metadata": {},
     "output_type": "execute_result"
    }
   ],
   "source": [
    "training_data"
   ]
  },
  {
   "cell_type": "code",
   "execution_count": 13,
   "id": "5dadd495-6a09-4deb-9c95-979a567b7bef",
   "metadata": {
    "tags": []
   },
   "outputs": [],
   "source": [
    "test_data = sagemaker_session.upload_string_as_file_body(\n",
    "    body=test_dataset.to_csv(index=False),\n",
    "    bucket=bucket,\n",
    "    key=\"AirQuality_test.csv\"\n",
    ")"
   ]
  },
  {
   "cell_type": "code",
   "execution_count": 14,
   "id": "a155f44a-ac2a-4d59-85f0-1a99d086e320",
   "metadata": {
    "tags": []
   },
   "outputs": [
    {
     "data": {
      "text/plain": [
       "'s3://sagemaker-eu-west-1-661670223746/AirQuality_test.csv'"
      ]
     },
     "execution_count": 14,
     "metadata": {},
     "output_type": "execute_result"
    }
   ],
   "source": [
    "test_data"
   ]
  },
  {
   "cell_type": "markdown",
   "id": "074fdfd5-ff39-4c3c-9a9b-ae822e9f8e10",
   "metadata": {},
   "source": [
    "### 3. Training"
   ]
  },
  {
   "cell_type": "markdown",
   "id": "a536a153-8265-4631-8bbd-58bd71a742e2",
   "metadata": {},
   "source": [
    "Fit the model to the training set."
   ]
  },
  {
   "cell_type": "code",
   "execution_count": 15,
   "id": "811effcc-16be-4f31-b860-2477a6aab964",
   "metadata": {
    "tags": []
   },
   "outputs": [
    {
     "name": "stderr",
     "output_type": "stream",
     "text": [
      "INFO:sagemaker:Creating training-job with name: cfc-tsf-v1-5-2023-12-11-15-54-27-305\n"
     ]
    },
    {
     "name": "stdout",
     "output_type": "stream",
     "text": [
      "2023-12-11 15:54:27 Starting - Starting the training job...\n",
      "2023-12-11 15:54:42 Starting - Preparing the instances for training......\n",
      "2023-12-11 15:55:39 Downloading - Downloading input data...\n",
      "2023-12-11 15:56:14 Training - Downloading the training image............\n",
      "2023-12-11 15:58:24 Training - Training image download completed. Training in progress.....\u001b[34mbash: cannot set terminal process group (-1): Inappropriate ioctl for device\u001b[0m\n",
      "\u001b[34mbash: no job control in this shell\u001b[0m\n",
      "\u001b[34m2023-12-11 15:58:54,675 sagemaker-training-toolkit INFO     Imported framework sagemaker_pytorch_container.training\u001b[0m\n",
      "\u001b[34m2023-12-11 15:58:54,676 sagemaker-training-toolkit INFO     No GPUs detected (normal if no gpus installed)\u001b[0m\n",
      "\u001b[34m2023-12-11 15:58:54,676 sagemaker-training-toolkit INFO     No Neurons detected (normal if no neurons installed)\u001b[0m\n",
      "\u001b[34m2023-12-11 15:58:54,676 sagemaker-training-toolkit INFO     Failed to parse hyperparameter backbone-activation value silu to Json.\u001b[0m\n",
      "\u001b[34mReturning the value itself\u001b[0m\n",
      "\u001b[34m2023-12-11 15:58:54,687 sagemaker_pytorch_container.training INFO     Block until all host DNS lookups succeed.\u001b[0m\n",
      "\u001b[34m2023-12-11 15:58:54,689 sagemaker_pytorch_container.training INFO     Invoking user training script.\u001b[0m\n",
      "\u001b[34m2023-12-11 15:58:56,131 sagemaker-training-toolkit INFO     No GPUs detected (normal if no gpus installed)\u001b[0m\n",
      "\u001b[34m2023-12-11 15:58:56,132 sagemaker-training-toolkit INFO     No Neurons detected (normal if no neurons installed)\u001b[0m\n",
      "\u001b[34m2023-12-11 15:58:56,132 sagemaker-training-toolkit INFO     Failed to parse hyperparameter backbone-activation value silu to Json.\u001b[0m\n",
      "\u001b[34mReturning the value itself\u001b[0m\n",
      "\u001b[34m2023-12-11 15:58:56,144 sagemaker-training-toolkit INFO     No GPUs detected (normal if no gpus installed)\u001b[0m\n",
      "\u001b[34m2023-12-11 15:58:56,144 sagemaker-training-toolkit INFO     No Neurons detected (normal if no neurons installed)\u001b[0m\n",
      "\u001b[34m2023-12-11 15:58:56,145 sagemaker-training-toolkit INFO     Failed to parse hyperparameter backbone-activation value silu to Json.\u001b[0m\n",
      "\u001b[34mReturning the value itself\u001b[0m\n",
      "\u001b[34m2023-12-11 15:58:56,156 sagemaker-training-toolkit INFO     No GPUs detected (normal if no gpus installed)\u001b[0m\n",
      "\u001b[34m2023-12-11 15:58:56,157 sagemaker-training-toolkit INFO     No Neurons detected (normal if no neurons installed)\u001b[0m\n",
      "\u001b[34m2023-12-11 15:58:56,157 sagemaker-training-toolkit INFO     Failed to parse hyperparameter backbone-activation value silu to Json.\u001b[0m\n",
      "\u001b[34mReturning the value itself\u001b[0m\n",
      "\u001b[34m2023-12-11 15:58:56,168 sagemaker-training-toolkit INFO     Invoking user script\u001b[0m\n",
      "\u001b[34mTraining Env:\u001b[0m\n",
      "\u001b[34m{\n",
      "    \"additional_framework_parameters\": {},\n",
      "    \"channel_input_dirs\": {\n",
      "        \"training\": \"/opt/ml/input/data/training\"\n",
      "    },\n",
      "    \"current_host\": \"algo-1\",\n",
      "    \"current_instance_group\": \"homogeneousCluster\",\n",
      "    \"current_instance_group_hosts\": [\n",
      "        \"algo-1\"\n",
      "    ],\n",
      "    \"current_instance_type\": \"ml.m5.2xlarge\",\n",
      "    \"distribution_hosts\": [],\n",
      "    \"distribution_instance_groups\": [],\n",
      "    \"framework_module\": \"sagemaker_pytorch_container.training:main\",\n",
      "    \"hosts\": [\n",
      "        \"algo-1\"\n",
      "    ],\n",
      "    \"hyperparameters\": {\n",
      "        \"backbone-activation\": \"silu\",\n",
      "        \"backbone-dropout\": 0.0,\n",
      "        \"backbone-layers\": 1,\n",
      "        \"backbone-units\": 128,\n",
      "        \"batch-size\": 64,\n",
      "        \"context-length\": 48,\n",
      "        \"epochs\": 100,\n",
      "        \"hidden-size\": 64,\n",
      "        \"lr\": 0.001,\n",
      "        \"lr-decay\": 0.9,\n",
      "        \"minimal\": 0,\n",
      "        \"no-gate\": 0,\n",
      "        \"prediction-length\": 24,\n",
      "        \"sequence-stride\": 1,\n",
      "        \"use-ltc\": 0,\n",
      "        \"use-mixed\": 0\n",
      "    },\n",
      "    \"input_config_dir\": \"/opt/ml/input/config\",\n",
      "    \"input_data_config\": {\n",
      "        \"training\": {\n",
      "            \"TrainingInputMode\": \"File\",\n",
      "            \"S3DistributionType\": \"FullyReplicated\",\n",
      "            \"RecordWrapperType\": \"None\"\n",
      "        }\n",
      "    },\n",
      "    \"input_dir\": \"/opt/ml/input\",\n",
      "    \"instance_groups\": [\n",
      "        \"homogeneousCluster\"\n",
      "    ],\n",
      "    \"instance_groups_dict\": {\n",
      "        \"homogeneousCluster\": {\n",
      "            \"instance_group_name\": \"homogeneousCluster\",\n",
      "            \"instance_type\": \"ml.m5.2xlarge\",\n",
      "            \"hosts\": [\n",
      "                \"algo-1\"\n",
      "            ]\n",
      "        }\n",
      "    },\n",
      "    \"is_hetero\": false,\n",
      "    \"is_master\": true,\n",
      "    \"is_modelparallel_enabled\": null,\n",
      "    \"is_smddpmprun_installed\": false,\n",
      "    \"is_smddprun_installed\": false,\n",
      "    \"job_name\": \"cfc-tsf-v1-5-2023-12-11-15-54-27-305\",\n",
      "    \"log_level\": 20,\n",
      "    \"master_hostname\": \"algo-1\",\n",
      "    \"model_dir\": \"/opt/ml/model\",\n",
      "    \"module_dir\": \"/opt/ml/code\",\n",
      "    \"module_name\": \"training\",\n",
      "    \"network_interface_name\": \"eth0\",\n",
      "    \"num_cpus\": 8,\n",
      "    \"num_gpus\": 0,\n",
      "    \"num_neurons\": 0,\n",
      "    \"output_data_dir\": \"/opt/ml/output/data\",\n",
      "    \"output_dir\": \"/opt/ml/output\",\n",
      "    \"output_intermediate_dir\": \"/opt/ml/output/intermediate\",\n",
      "    \"resource_config\": {\n",
      "        \"current_host\": \"algo-1\",\n",
      "        \"current_instance_type\": \"ml.m5.2xlarge\",\n",
      "        \"current_group_name\": \"homogeneousCluster\",\n",
      "        \"hosts\": [\n",
      "            \"algo-1\"\n",
      "        ],\n",
      "        \"instance_groups\": [\n",
      "            {\n",
      "                \"instance_group_name\": \"homogeneousCluster\",\n",
      "                \"instance_type\": \"ml.m5.2xlarge\",\n",
      "                \"hosts\": [\n",
      "                    \"algo-1\"\n",
      "                ]\n",
      "            }\n",
      "        ],\n",
      "        \"network_interface_name\": \"eth0\"\n",
      "    },\n",
      "    \"user_entry_point\": \"training.py\"\u001b[0m\n",
      "\u001b[34m}\u001b[0m\n",
      "\u001b[34mEnvironment variables:\u001b[0m\n",
      "\u001b[34mSM_HOSTS=[\"algo-1\"]\u001b[0m\n",
      "\u001b[34mSM_NETWORK_INTERFACE_NAME=eth0\u001b[0m\n",
      "\u001b[34mSM_HPS={\"backbone-activation\":\"silu\",\"backbone-dropout\":0.0,\"backbone-layers\":1,\"backbone-units\":128,\"batch-size\":64,\"context-length\":48,\"epochs\":100,\"hidden-size\":64,\"lr\":0.001,\"lr-decay\":0.9,\"minimal\":0,\"no-gate\":0,\"prediction-length\":24,\"sequence-stride\":1,\"use-ltc\":0,\"use-mixed\":0}\u001b[0m\n",
      "\u001b[34mSM_USER_ENTRY_POINT=training.py\u001b[0m\n",
      "\u001b[34mSM_FRAMEWORK_PARAMS={}\u001b[0m\n",
      "\u001b[34mSM_RESOURCE_CONFIG={\"current_group_name\":\"homogeneousCluster\",\"current_host\":\"algo-1\",\"current_instance_type\":\"ml.m5.2xlarge\",\"hosts\":[\"algo-1\"],\"instance_groups\":[{\"hosts\":[\"algo-1\"],\"instance_group_name\":\"homogeneousCluster\",\"instance_type\":\"ml.m5.2xlarge\"}],\"network_interface_name\":\"eth0\"}\u001b[0m\n",
      "\u001b[34mSM_INPUT_DATA_CONFIG={\"training\":{\"RecordWrapperType\":\"None\",\"S3DistributionType\":\"FullyReplicated\",\"TrainingInputMode\":\"File\"}}\u001b[0m\n",
      "\u001b[34mSM_OUTPUT_DATA_DIR=/opt/ml/output/data\u001b[0m\n",
      "\u001b[34mSM_CHANNELS=[\"training\"]\u001b[0m\n",
      "\u001b[34mSM_CURRENT_HOST=algo-1\u001b[0m\n",
      "\u001b[34mSM_CURRENT_INSTANCE_TYPE=ml.m5.2xlarge\u001b[0m\n",
      "\u001b[34mSM_CURRENT_INSTANCE_GROUP=homogeneousCluster\u001b[0m\n",
      "\u001b[34mSM_CURRENT_INSTANCE_GROUP_HOSTS=[\"algo-1\"]\u001b[0m\n",
      "\u001b[34mSM_INSTANCE_GROUPS=[\"homogeneousCluster\"]\u001b[0m\n",
      "\u001b[34mSM_INSTANCE_GROUPS_DICT={\"homogeneousCluster\":{\"hosts\":[\"algo-1\"],\"instance_group_name\":\"homogeneousCluster\",\"instance_type\":\"ml.m5.2xlarge\"}}\u001b[0m\n",
      "\u001b[34mSM_DISTRIBUTION_INSTANCE_GROUPS=[]\u001b[0m\n",
      "\u001b[34mSM_IS_HETERO=false\u001b[0m\n",
      "\u001b[34mSM_MODULE_NAME=training\u001b[0m\n",
      "\u001b[34mSM_LOG_LEVEL=20\u001b[0m\n",
      "\u001b[34mSM_FRAMEWORK_MODULE=sagemaker_pytorch_container.training:main\u001b[0m\n",
      "\u001b[34mSM_INPUT_DIR=/opt/ml/input\u001b[0m\n",
      "\u001b[34mSM_INPUT_CONFIG_DIR=/opt/ml/input/config\u001b[0m\n",
      "\u001b[34mSM_OUTPUT_DIR=/opt/ml/output\u001b[0m\n",
      "\u001b[34mSM_NUM_CPUS=8\u001b[0m\n",
      "\u001b[34mSM_NUM_GPUS=0\u001b[0m\n",
      "\u001b[34mSM_NUM_NEURONS=0\u001b[0m\n",
      "\u001b[34mSM_MODEL_DIR=/opt/ml/model\u001b[0m\n",
      "\u001b[34mSM_MODULE_DIR=/opt/ml/code\u001b[0m\n",
      "\u001b[34mSM_TRAINING_ENV={\"additional_framework_parameters\":{},\"channel_input_dirs\":{\"training\":\"/opt/ml/input/data/training\"},\"current_host\":\"algo-1\",\"current_instance_group\":\"homogeneousCluster\",\"current_instance_group_hosts\":[\"algo-1\"],\"current_instance_type\":\"ml.m5.2xlarge\",\"distribution_hosts\":[],\"distribution_instance_groups\":[],\"framework_module\":\"sagemaker_pytorch_container.training:main\",\"hosts\":[\"algo-1\"],\"hyperparameters\":{\"backbone-activation\":\"silu\",\"backbone-dropout\":0.0,\"backbone-layers\":1,\"backbone-units\":128,\"batch-size\":64,\"context-length\":48,\"epochs\":100,\"hidden-size\":64,\"lr\":0.001,\"lr-decay\":0.9,\"minimal\":0,\"no-gate\":0,\"prediction-length\":24,\"sequence-stride\":1,\"use-ltc\":0,\"use-mixed\":0},\"input_config_dir\":\"/opt/ml/input/config\",\"input_data_config\":{\"training\":{\"RecordWrapperType\":\"None\",\"S3DistributionType\":\"FullyReplicated\",\"TrainingInputMode\":\"File\"}},\"input_dir\":\"/opt/ml/input\",\"instance_groups\":[\"homogeneousCluster\"],\"instance_groups_dict\":{\"homogeneousCluster\":{\"hosts\":[\"algo-1\"],\"instance_group_name\":\"homogeneousCluster\",\"instance_type\":\"ml.m5.2xlarge\"}},\"is_hetero\":false,\"is_master\":true,\"is_modelparallel_enabled\":null,\"is_smddpmprun_installed\":false,\"is_smddprun_installed\":false,\"job_name\":\"cfc-tsf-v1-5-2023-12-11-15-54-27-305\",\"log_level\":20,\"master_hostname\":\"algo-1\",\"model_dir\":\"/opt/ml/model\",\"module_dir\":\"/opt/ml/code\",\"module_name\":\"training\",\"network_interface_name\":\"eth0\",\"num_cpus\":8,\"num_gpus\":0,\"num_neurons\":0,\"output_data_dir\":\"/opt/ml/output/data\",\"output_dir\":\"/opt/ml/output\",\"output_intermediate_dir\":\"/opt/ml/output/intermediate\",\"resource_config\":{\"current_group_name\":\"homogeneousCluster\",\"current_host\":\"algo-1\",\"current_instance_type\":\"ml.m5.2xlarge\",\"hosts\":[\"algo-1\"],\"instance_groups\":[{\"hosts\":[\"algo-1\"],\"instance_group_name\":\"homogeneousCluster\",\"instance_type\":\"ml.m5.2xlarge\"}],\"network_interface_name\":\"eth0\"},\"user_entry_point\":\"training.py\"}\u001b[0m\n",
      "\u001b[34mSM_USER_ARGS=[\"--backbone-activation\",\"silu\",\"--backbone-dropout\",\"0.0\",\"--backbone-layers\",\"1\",\"--backbone-units\",\"128\",\"--batch-size\",\"64\",\"--context-length\",\"48\",\"--epochs\",\"100\",\"--hidden-size\",\"64\",\"--lr\",\"0.001\",\"--lr-decay\",\"0.9\",\"--minimal\",\"0\",\"--no-gate\",\"0\",\"--prediction-length\",\"24\",\"--sequence-stride\",\"1\",\"--use-ltc\",\"0\",\"--use-mixed\",\"0\"]\u001b[0m\n",
      "\u001b[34mSM_OUTPUT_INTERMEDIATE_DIR=/opt/ml/output/intermediate\u001b[0m\n",
      "\u001b[34mSM_CHANNEL_TRAINING=/opt/ml/input/data/training\u001b[0m\n",
      "\u001b[34mSM_HP_BACKBONE-ACTIVATION=silu\u001b[0m\n",
      "\u001b[34mSM_HP_BACKBONE-DROPOUT=0.0\u001b[0m\n",
      "\u001b[34mSM_HP_BACKBONE-LAYERS=1\u001b[0m\n",
      "\u001b[34mSM_HP_BACKBONE-UNITS=128\u001b[0m\n",
      "\u001b[34mSM_HP_BATCH-SIZE=64\u001b[0m\n",
      "\u001b[34mSM_HP_CONTEXT-LENGTH=48\u001b[0m\n",
      "\u001b[34mSM_HP_EPOCHS=100\u001b[0m\n",
      "\u001b[34mSM_HP_HIDDEN-SIZE=64\u001b[0m\n",
      "\u001b[34mSM_HP_LR=0.001\u001b[0m\n",
      "\u001b[34mSM_HP_LR-DECAY=0.9\u001b[0m\n",
      "\u001b[34mSM_HP_MINIMAL=0\u001b[0m\n",
      "\u001b[34mSM_HP_NO-GATE=0\u001b[0m\n",
      "\u001b[34mSM_HP_PREDICTION-LENGTH=24\u001b[0m\n",
      "\u001b[34mSM_HP_SEQUENCE-STRIDE=1\u001b[0m\n",
      "\u001b[34mSM_HP_USE-LTC=0\u001b[0m\n",
      "\u001b[34mSM_HP_USE-MIXED=0\u001b[0m\n",
      "\u001b[34mPYTHONPATH=/opt/ml/code:/opt/conda/bin:/opt/conda/lib/python310.zip:/opt/conda/lib/python3.10:/opt/conda/lib/python3.10/lib-dynload:/opt/conda/lib/python3.10/site-packages\u001b[0m\n",
      "\u001b[34mInvoking script with the following command:\u001b[0m\n",
      "\u001b[34m/opt/conda/bin/python3.10 training.py --backbone-activation silu --backbone-dropout 0.0 --backbone-layers 1 --backbone-units 128 --batch-size 64 --context-length 48 --epochs 100 --hidden-size 64 --lr 0.001 --lr-decay 0.9 --minimal 0 --no-gate 0 --prediction-length 24 --sequence-stride 1 --use-ltc 0 --use-mixed 0\u001b[0m\n",
      "\u001b[34m2023-12-11 15:58:56,168 sagemaker-training-toolkit INFO     Exceptions not imported for SageMaker Debugger as it is not installed.\u001b[0m\n",
      "\u001b[34m2023-12-11 15:58:56,168 sagemaker-training-toolkit INFO     Exceptions not imported for SageMaker TF as Tensorflow is not installed.\u001b[0m\n",
      "\u001b[34m--------------------------------------\u001b[0m\n",
      "\u001b[34mTraining on 6954 samples.\u001b[0m\n",
      "\u001b[34m--------------------------------------\u001b[0m\n",
      "\u001b[34m--------------------------------------\u001b[0m\n",
      "\u001b[34mTimespans: ['ts']\u001b[0m\n",
      "\u001b[34mFeatures: []\u001b[0m\n",
      "\u001b[34mTargets: ['y']\u001b[0m\n",
      "\u001b[34m--------------------------------------\u001b[0m\n",
      "\u001b[34m--------------------------------------\u001b[0m\n",
      "\u001b[34mBuilding the model.\u001b[0m\n",
      "\u001b[34mNumber of parameters: 43032\u001b[0m\n",
      "\u001b[34m--------------------------------------\u001b[0m\n",
      "\u001b[34m--------------------------------------\u001b[0m\n",
      "\u001b[34mTraining the model.\u001b[0m\n",
      "\u001b[34mepoch: 1, train_mse: 0.81099600 train_mae: 0.67830527\u001b[0m\n",
      "\u001b[34mepoch: 2, train_mse: 0.73508829 train_mae: 0.63774675\u001b[0m\n",
      "\u001b[34mepoch: 3, train_mse: 0.65472227 train_mae: 0.60431772\u001b[0m\n",
      "\u001b[34mepoch: 4, train_mse: 0.62121332 train_mae: 0.58142048\u001b[0m\n",
      "\u001b[34mepoch: 5, train_mse: 0.62747240 train_mae: 0.56585574\u001b[0m\n",
      "\u001b[34mepoch: 6, train_mse: 0.61036122 train_mae: 0.57634884\u001b[0m\n",
      "\u001b[34mepoch: 7, train_mse: 0.58918852 train_mae: 0.55791390\u001b[0m\n",
      "\u001b[34mepoch: 8, train_mse: 0.57688510 train_mae: 0.55300391\u001b[0m\n",
      "\u001b[34mepoch: 9, train_mse: 0.57176840 train_mae: 0.54855174\u001b[0m\n",
      "\u001b[34mepoch: 10, train_mse: 0.56728870 train_mae: 0.54669058\u001b[0m\n",
      "\u001b[34mepoch: 11, train_mse: 0.55989116 train_mae: 0.53934491\u001b[0m\n",
      "\u001b[34mepoch: 12, train_mse: 0.55367851 train_mae: 0.53369850\u001b[0m\n",
      "\u001b[34mepoch: 13, train_mse: 0.54566628 train_mae: 0.52825660\u001b[0m\n",
      "\u001b[34mepoch: 14, train_mse: 0.54599851 train_mae: 0.52685589\u001b[0m\n",
      "\u001b[34mepoch: 15, train_mse: 0.54142892 train_mae: 0.52998281\u001b[0m\n",
      "\u001b[34mepoch: 16, train_mse: 0.53989112 train_mae: 0.52363366\u001b[0m\n",
      "\u001b[34mepoch: 17, train_mse: 0.53935677 train_mae: 0.52380693\u001b[0m\n",
      "\u001b[34mepoch: 18, train_mse: 0.53774136 train_mae: 0.53188998\u001b[0m\n",
      "\u001b[34mepoch: 19, train_mse: 0.53681517 train_mae: 0.52454293\u001b[0m\n",
      "\u001b[34mepoch: 20, train_mse: 0.53118956 train_mae: 0.52197742\u001b[0m\n",
      "\u001b[34mepoch: 21, train_mse: 0.53026175 train_mae: 0.52566117\u001b[0m\n",
      "\u001b[34mepoch: 22, train_mse: 0.52998424 train_mae: 0.52305007\u001b[0m\n",
      "\u001b[34mepoch: 23, train_mse: 0.53065562 train_mae: 0.52431947\u001b[0m\n",
      "\u001b[34mepoch: 24, train_mse: 0.52738392 train_mae: 0.51891524\u001b[0m\n",
      "\u001b[34mepoch: 25, train_mse: 0.53000826 train_mae: 0.52424234\u001b[0m\n",
      "\u001b[34mepoch: 26, train_mse: 0.52397585 train_mae: 0.52002257\u001b[0m\n",
      "\u001b[34mepoch: 27, train_mse: 0.52481139 train_mae: 0.52272844\u001b[0m\n",
      "\u001b[34mepoch: 28, train_mse: 0.52423364 train_mae: 0.51681554\u001b[0m\n",
      "\u001b[34mepoch: 29, train_mse: 0.52290308 train_mae: 0.52028799\u001b[0m\n",
      "\u001b[34mepoch: 30, train_mse: 0.52272958 train_mae: 0.51752901\u001b[0m\n",
      "\u001b[34mepoch: 31, train_mse: 0.52575731 train_mae: 0.52142030\u001b[0m\n",
      "\u001b[34mepoch: 32, train_mse: 0.52434623 train_mae: 0.51949638\u001b[0m\n",
      "\u001b[34mepoch: 33, train_mse: 0.52141935 train_mae: 0.52025610\u001b[0m\n",
      "\u001b[34mepoch: 34, train_mse: 0.52154565 train_mae: 0.51657629\u001b[0m\n",
      "\u001b[34mepoch: 35, train_mse: 0.52067190 train_mae: 0.51911700\u001b[0m\n",
      "\u001b[34mepoch: 36, train_mse: 0.52071309 train_mae: 0.51840466\u001b[0m\n",
      "\u001b[34mepoch: 37, train_mse: 0.52041978 train_mae: 0.51821858\u001b[0m\n",
      "\u001b[34mepoch: 38, train_mse: 0.52082014 train_mae: 0.51789236\u001b[0m\n",
      "\u001b[34mepoch: 39, train_mse: 0.51991922 train_mae: 0.51815915\u001b[0m\n",
      "\u001b[34mepoch: 40, train_mse: 0.51973921 train_mae: 0.51823562\u001b[0m\n",
      "\u001b[34mepoch: 41, train_mse: 0.52042449 train_mae: 0.51852781\u001b[0m\n",
      "\u001b[34mepoch: 42, train_mse: 0.51956409 train_mae: 0.51815289\u001b[0m\n",
      "\u001b[34mepoch: 43, train_mse: 0.52000332 train_mae: 0.51909101\u001b[0m\n",
      "\u001b[34mepoch: 44, train_mse: 0.51972967 train_mae: 0.51707536\u001b[0m\n",
      "\u001b[34mepoch: 45, train_mse: 0.51909208 train_mae: 0.51776356\u001b[0m\n",
      "\u001b[34mepoch: 46, train_mse: 0.51928443 train_mae: 0.51718187\u001b[0m\n",
      "\u001b[34mepoch: 47, train_mse: 0.51918960 train_mae: 0.51728719\u001b[0m\n",
      "\u001b[34mepoch: 48, train_mse: 0.51952571 train_mae: 0.51760948\u001b[0m\n",
      "\u001b[34mepoch: 49, train_mse: 0.51927918 train_mae: 0.51815259\u001b[0m\n",
      "\u001b[34mepoch: 50, train_mse: 0.51888865 train_mae: 0.51754045\u001b[0m\n",
      "\u001b[34mepoch: 51, train_mse: 0.51919514 train_mae: 0.51750827\u001b[0m\n",
      "\u001b[34mepoch: 52, train_mse: 0.51891661 train_mae: 0.51735938\u001b[0m\n",
      "\u001b[34mepoch: 53, train_mse: 0.51898414 train_mae: 0.51765370\u001b[0m\n",
      "\u001b[34mepoch: 54, train_mse: 0.51889902 train_mae: 0.51773024\u001b[0m\n",
      "\u001b[34mepoch: 55, train_mse: 0.51881164 train_mae: 0.51731235\u001b[0m\n",
      "\u001b[34mepoch: 56, train_mse: 0.51900971 train_mae: 0.51764166\u001b[0m\n",
      "\u001b[34mepoch: 57, train_mse: 0.51883495 train_mae: 0.51762140\u001b[0m\n",
      "\u001b[34mepoch: 58, train_mse: 0.51877320 train_mae: 0.51742601\u001b[0m\n",
      "\u001b[34mepoch: 59, train_mse: 0.51884127 train_mae: 0.51740396\u001b[0m\n",
      "\u001b[34mepoch: 60, train_mse: 0.51884699 train_mae: 0.51743007\u001b[0m\n",
      "\u001b[34mepoch: 61, train_mse: 0.51883411 train_mae: 0.51742864\u001b[0m\n",
      "\u001b[34mepoch: 62, train_mse: 0.51872629 train_mae: 0.51763940\u001b[0m\n",
      "\u001b[34mepoch: 63, train_mse: 0.51871681 train_mae: 0.51743960\u001b[0m\n",
      "\u001b[34mepoch: 64, train_mse: 0.51873410 train_mae: 0.51749963\u001b[0m\n",
      "\u001b[34mepoch: 65, train_mse: 0.51875079 train_mae: 0.51749289\u001b[0m\n",
      "\u001b[34mepoch: 66, train_mse: 0.51877475 train_mae: 0.51749521\u001b[0m\n",
      "\u001b[34mepoch: 67, train_mse: 0.51874167 train_mae: 0.51740527\u001b[0m\n",
      "\u001b[34mepoch: 68, train_mse: 0.51874542 train_mae: 0.51745439\u001b[0m\n",
      "\u001b[34mepoch: 69, train_mse: 0.51871794 train_mae: 0.51740730\u001b[0m\n",
      "\u001b[34mepoch: 70, train_mse: 0.51872605 train_mae: 0.51737636\u001b[0m\n",
      "\u001b[34mepoch: 71, train_mse: 0.51873213 train_mae: 0.51737374\u001b[0m\n",
      "\u001b[34mepoch: 72, train_mse: 0.51871520 train_mae: 0.51739395\u001b[0m\n",
      "\u001b[34mepoch: 73, train_mse: 0.51870751 train_mae: 0.51739335\u001b[0m\n",
      "\u001b[34mepoch: 74, train_mse: 0.51869005 train_mae: 0.51742840\u001b[0m\n",
      "\u001b[34mepoch: 75, train_mse: 0.51870227 train_mae: 0.51741105\u001b[0m\n",
      "\u001b[34mepoch: 76, train_mse: 0.51868939 train_mae: 0.51741517\u001b[0m\n",
      "\u001b[34mepoch: 77, train_mse: 0.51868433 train_mae: 0.51741129\u001b[0m\n",
      "\u001b[34mepoch: 78, train_mse: 0.51869130 train_mae: 0.51739365\u001b[0m\n",
      "\u001b[34mepoch: 79, train_mse: 0.51868981 train_mae: 0.51741517\u001b[0m\n",
      "\u001b[34mepoch: 80, train_mse: 0.51868492 train_mae: 0.51742542\u001b[0m\n",
      "\u001b[34mepoch: 81, train_mse: 0.51868725 train_mae: 0.51740187\u001b[0m\n",
      "\u001b[34mepoch: 82, train_mse: 0.51868492 train_mae: 0.51739955\u001b[0m\n",
      "\u001b[34mepoch: 83, train_mse: 0.51868773 train_mae: 0.51740694\u001b[0m\n",
      "\u001b[34mepoch: 84, train_mse: 0.51869351 train_mae: 0.51740539\u001b[0m\n",
      "\u001b[34mepoch: 85, train_mse: 0.51868707 train_mae: 0.51739395\u001b[0m\n",
      "\u001b[34mepoch: 86, train_mse: 0.51868814 train_mae: 0.51739246\u001b[0m\n",
      "\u001b[34mepoch: 87, train_mse: 0.51868498 train_mae: 0.51740640\u001b[0m\n",
      "\u001b[34mepoch: 88, train_mse: 0.51869035 train_mae: 0.51740521\u001b[0m\n",
      "\u001b[34mepoch: 89, train_mse: 0.51868534 train_mae: 0.51740491\u001b[0m\n",
      "\u001b[34mepoch: 90, train_mse: 0.51868653 train_mae: 0.51740062\u001b[0m\n",
      "\u001b[34mepoch: 91, train_mse: 0.51868552 train_mae: 0.51740134\u001b[0m\n",
      "\u001b[34mepoch: 92, train_mse: 0.51868689 train_mae: 0.51740676\u001b[0m\n",
      "\u001b[34mepoch: 93, train_mse: 0.51868337 train_mae: 0.51740092\u001b[0m\n",
      "\u001b[34mepoch: 94, train_mse: 0.51868498 train_mae: 0.51740402\u001b[0m\n",
      "\u001b[34mepoch: 95, train_mse: 0.51868457 train_mae: 0.51740295\u001b[0m\n",
      "\u001b[34mepoch: 96, train_mse: 0.51868683 train_mae: 0.51739907\u001b[0m\n",
      "\u001b[34mepoch: 97, train_mse: 0.51868415 train_mae: 0.51740205\u001b[0m\n",
      "\u001b[34mepoch: 98, train_mse: 0.51868290 train_mae: 0.51740110\u001b[0m\n",
      "\u001b[34mepoch: 99, train_mse: 0.51868159 train_mae: 0.51740152\u001b[0m\n",
      "\u001b[34mepoch: 100, train_mse: 0.51868296 train_mae: 0.51740229\u001b[0m\n",
      "\u001b[34m--------------------------------------\u001b[0m\n",
      "\u001b[34mScoring the model.\u001b[0m\n",
      "\u001b[34mtrain:mse 0.51868296\u001b[0m\n",
      "\u001b[34mtrain:mae 0.51740229\u001b[0m\n",
      "\u001b[34m--------------------------------------\u001b[0m\n",
      "\u001b[34m2023-12-11 16:06:52,898 sagemaker-training-toolkit INFO     Waiting for the process to finish and give a return code.\u001b[0m\n",
      "\u001b[34m2023-12-11 16:06:52,898 sagemaker-training-toolkit INFO     Done waiting for a return code. Received 0 from exiting process.\u001b[0m\n",
      "\u001b[34m2023-12-11 16:06:52,898 sagemaker-training-toolkit INFO     Reporting training SUCCESS\u001b[0m\n",
      "\n",
      "2023-12-11 16:07:08 Uploading - Uploading generated training model\n",
      "2023-12-11 16:07:08 Completed - Training job completed\n",
      "Training seconds: 689\n",
      "Billable seconds: 689\n"
     ]
    }
   ],
   "source": [
    "estimator = sagemaker.algorithm.AlgorithmEstimator(\n",
    "    algorithm_arn=algo_arn,\n",
    "    role=role,\n",
    "    instance_count=1,\n",
    "    instance_type=instance_type,\n",
    "    input_mode=\"File\",\n",
    "    sagemaker_session=sagemaker_session,\n",
    "    hyperparameters={\n",
    "        \"context-length\": context_length,\n",
    "        \"prediction-length\": prediction_length,\n",
    "        \"sequence-stride\": 1,\n",
    "        \"backbone-layers\": 1,\n",
    "        \"backbone-units\": 128,\n",
    "        \"backbone-activation\": \"silu\",\n",
    "        \"backbone-dropout\": 0,\n",
    "        \"hidden-size\": 64,\n",
    "        \"minimal\": 0,\n",
    "        \"no-gate\": 0,\n",
    "        \"use-ltc\": 0,\n",
    "        \"use-mixed\": 0,\n",
    "        \"lr\": 0.001,\n",
    "        \"lr-decay\": 0.9,\n",
    "        \"batch-size\": 64,\n",
    "        \"epochs\": 100,\n",
    "    },\n",
    ")\n",
    "\n",
    "estimator.fit({\"training\": training_data})"
   ]
  },
  {
   "cell_type": "markdown",
   "id": "b9b640bc-4c81-4040-bd78-8bad6dbd89cb",
   "metadata": {},
   "source": [
    "### 4. Inference"
   ]
  },
  {
   "cell_type": "markdown",
   "id": "d201c417-2f70-40e3-89c0-68addd15035a",
   "metadata": {},
   "source": [
    "Generate the test set predictions."
   ]
  },
  {
   "cell_type": "code",
   "execution_count": 16,
   "id": "7f13e378-b0e4-4cd3-8dba-31c578466c7f",
   "metadata": {
    "tags": []
   },
   "outputs": [
    {
     "name": "stderr",
     "output_type": "stream",
     "text": [
      "INFO:sagemaker:Creating model package with name: cfc-tsf-v1-5-2023-12-11-16-07-26-346\n"
     ]
    },
    {
     "name": "stdout",
     "output_type": "stream",
     "text": [
      "........."
     ]
    },
    {
     "name": "stderr",
     "output_type": "stream",
     "text": [
      "INFO:sagemaker:Creating model with name: cfc-tsf-v1-5-2023-12-11-16-07-26-346-2023-12-11-16-08-11-822\n"
     ]
    },
    {
     "name": "stdout",
     "output_type": "stream",
     "text": [
      "\n"
     ]
    },
    {
     "name": "stderr",
     "output_type": "stream",
     "text": [
      "INFO:sagemaker:Creating transform job with name: cfc-tsf-v1-5-2023-12-11-16-08-14-997\n"
     ]
    },
    {
     "name": "stdout",
     "output_type": "stream",
     "text": [
      ".............................................\n",
      "\u001b[34mWarning: TorchServe is using non-default JVM parameters: -XX:-UseContainerSupport\u001b[0m\n",
      "\u001b[34mWARNING: sun.reflect.Reflection.getCallerClass is not supported. This will impact performance.\u001b[0m\n",
      "\u001b[34m2023-12-11T16:15:46,393 [WARN ] main org.pytorch.serve.util.ConfigManager - Your torchserve instance can access any URL to load models. When deploying to production, make sure to limit the set of allowed_urls in config.properties\u001b[0m\n",
      "\u001b[34m2023-12-11T16:15:46,395 [INFO ] main org.pytorch.serve.servingsdk.impl.PluginsManager - Initializing plugins manager...\u001b[0m\n",
      "\u001b[34m2023-12-11T16:15:46,461 [INFO ] main org.pytorch.serve.metrics.configuration.MetricConfiguration - Successfully loaded metrics configuration from /opt/conda/lib/python3.10/site-packages/ts/configs/metrics.yaml\u001b[0m\n",
      "\u001b[34m2023-12-11T16:15:46,573 [INFO ] main org.pytorch.serve.ModelServer - \u001b[0m\n",
      "\u001b[34mTorchserve version: 0.8.2\u001b[0m\n",
      "\u001b[34mTS Home: /opt/conda/lib/python3.10/site-packages\u001b[0m\n",
      "\u001b[34mCurrent directory: /\u001b[0m\n",
      "\u001b[34mTemp directory: /home/model-server/tmp\u001b[0m\n",
      "\u001b[34mMetrics config path: /opt/conda/lib/python3.10/site-packages/ts/configs/metrics.yaml\u001b[0m\n",
      "\u001b[34mNumber of GPUs: 0\u001b[0m\n",
      "\u001b[34mNumber of CPUs: 8\u001b[0m\n",
      "\u001b[34mMax heap size: 7924 M\u001b[0m\n",
      "\u001b[34mPython executable: /opt/conda/bin/python3.10\u001b[0m\n",
      "\u001b[34mConfig file: /etc/sagemaker-ts.properties\u001b[0m\n",
      "\u001b[34mInference address: http://0.0.0.0:8080\u001b[0m\n",
      "\u001b[34mManagement address: http://0.0.0.0:8080\u001b[0m\n",
      "\u001b[34mMetrics address: http://127.0.0.1:8082\u001b[0m\n",
      "\u001b[34mModel Store: /.sagemaker/ts/models\u001b[0m\n",
      "\u001b[34mInitial Models: model=/opt/ml/model\u001b[0m\n",
      "\u001b[34mLog dir: /logs\u001b[0m\n",
      "\u001b[34mMetrics dir: /logs\u001b[0m\n",
      "\u001b[34mNetty threads: 0\u001b[0m\n",
      "\u001b[34mNetty client threads: 0\u001b[0m\n",
      "\u001b[34mDefault workers per model: 8\u001b[0m\n",
      "\u001b[34mBlacklist Regex: N/A\u001b[0m\n",
      "\u001b[34mMaximum Response Size: 6553500\u001b[0m\n",
      "\u001b[34mMaximum Request Size: 6553500\u001b[0m\n",
      "\u001b[34mLimit Maximum Image Pixels: true\u001b[0m\n",
      "\u001b[34mPrefer direct buffer: false\u001b[0m\n",
      "\u001b[34mAllowed Urls: [file://.*|http(s)?://.*]\u001b[0m\n",
      "\u001b[34mCustom python dependency for model allowed: false\u001b[0m\n",
      "\u001b[34mEnable metrics API: true\u001b[0m\n",
      "\u001b[34mMetrics mode: log\u001b[0m\n",
      "\u001b[34mDisable system metrics: true\u001b[0m\n",
      "\u001b[34mWorkflow Store: /.sagemaker/ts/models\u001b[0m\n",
      "\u001b[34mModel config: N/A\u001b[0m\n",
      "\u001b[34m2023-12-11T16:15:46,582 [INFO ] main org.pytorch.serve.servingsdk.impl.PluginsManager -  Loading snapshot serializer plugin...\u001b[0m\n",
      "\u001b[34m2023-12-11T16:15:46,604 [INFO ] main org.pytorch.serve.ModelServer - Loading initial models: /opt/ml/model\u001b[0m\n",
      "\u001b[34m2023-12-11T16:15:46,608 [WARN ] main org.pytorch.serve.archive.model.ModelArchive - Model archive version is not defined. Please upgrade to torch-model-archiver 0.2.0 or higher\u001b[0m\n",
      "\u001b[34m2023-12-11T16:15:46,608 [WARN ] main org.pytorch.serve.archive.model.ModelArchive - Model archive createdOn is not defined. Please upgrade to torch-model-archiver 0.2.0 or higher\u001b[0m\n",
      "\u001b[34m2023-12-11T16:15:46,610 [INFO ] main org.pytorch.serve.wlm.ModelManager - Model model loaded.\u001b[0m\n",
      "\u001b[34m2023-12-11T16:15:46,623 [INFO ] main org.pytorch.serve.ModelServer - Initialize Inference server with: EpollServerSocketChannel.\u001b[0m\n",
      "\u001b[34m2023-12-11T16:15:46,861 [INFO ] main org.pytorch.serve.ModelServer - Inference API bind to: http://0.0.0.0:8080\u001b[0m\n",
      "\u001b[34m2023-12-11T16:15:46,861 [INFO ] main org.pytorch.serve.ModelServer - Initialize Metrics server with: EpollServerSocketChannel.\u001b[0m\n",
      "\u001b[34m2023-12-11T16:15:46,923 [INFO ] main org.pytorch.serve.ModelServer - Metrics API bind to: http://127.0.0.1:8082\u001b[0m\n",
      "\u001b[34mModel server started.\u001b[0m\n",
      "\u001b[34m2023-12-11T16:15:49,234 [INFO ] W-9001-model_1.0-stdout MODEL_LOG - s_name_part0=/home/model-server/tmp/.ts.sock, s_name_part1=9001, pid=68\u001b[0m\n",
      "\u001b[34m2023-12-11T16:15:49,236 [INFO ] W-9001-model_1.0-stdout MODEL_LOG - Listening on port: /home/model-server/tmp/.ts.sock.9001\u001b[0m\n",
      "\u001b[34m2023-12-11T16:15:49,312 [INFO ] W-9001-model_1.0-stdout MODEL_LOG - Successfully loaded /opt/conda/lib/python3.10/site-packages/ts/configs/metrics.yaml.\u001b[0m\n",
      "\u001b[34m2023-12-11T16:15:49,313 [INFO ] W-9001-model_1.0-stdout MODEL_LOG - [PID]68\u001b[0m\n",
      "\u001b[34m2023-12-11T16:15:49,313 [INFO ] W-9001-model_1.0-stdout MODEL_LOG - Torch worker started.\u001b[0m\n",
      "\u001b[34m2023-12-11T16:15:49,314 [INFO ] W-9001-model_1.0-stdout MODEL_LOG - Python runtime: 3.10.9\u001b[0m\n",
      "\u001b[34m2023-12-11T16:15:49,319 [INFO ] W-9001-model_1.0 org.pytorch.serve.wlm.WorkerThread - Connecting to: /home/model-server/tmp/.ts.sock.9001\u001b[0m\n",
      "\u001b[34m2023-12-11T16:15:49,338 [INFO ] W-9003-model_1.0-stdout MODEL_LOG - s_name_part0=/home/model-server/tmp/.ts.sock, s_name_part1=9003, pid=62\u001b[0m\n",
      "\u001b[34m2023-12-11T16:15:49,339 [INFO ] W-9003-model_1.0-stdout MODEL_LOG - Listening on port: /home/model-server/tmp/.ts.sock.9003\u001b[0m\n",
      "\u001b[34m2023-12-11T16:15:49,348 [INFO ] W-9001-model_1.0-stdout MODEL_LOG - Connection accepted: /home/model-server/tmp/.ts.sock.9001.\u001b[0m\n",
      "\u001b[34m2023-12-11T16:15:49,352 [INFO ] W-9001-model_1.0 org.pytorch.serve.wlm.WorkerThread - Flushing req.cmd LOAD to backend at: 1702311349352\u001b[0m\n",
      "\u001b[34m2023-12-11T16:15:49,366 [INFO ] W-9005-model_1.0-stdout MODEL_LOG - s_name_part0=/home/model-server/tmp/.ts.sock, s_name_part1=9005, pid=64\u001b[0m\n",
      "\u001b[34m2023-12-11T16:15:49,369 [INFO ] W-9005-model_1.0-stdout MODEL_LOG - Listening on port: /home/model-server/tmp/.ts.sock.9005\u001b[0m\n",
      "\u001b[34m2023-12-11T16:15:49,388 [INFO ] W-9004-model_1.0-stdout MODEL_LOG - s_name_part0=/home/model-server/tmp/.ts.sock, s_name_part1=9004, pid=65\u001b[0m\n",
      "\u001b[34m2023-12-11T16:15:49,389 [INFO ] W-9004-model_1.0-stdout MODEL_LOG - Listening on port: /home/model-server/tmp/.ts.sock.9004\u001b[0m\n",
      "\u001b[34m2023-12-11T16:15:49,413 [INFO ] W-9007-model_1.0-stdout MODEL_LOG - s_name_part0=/home/model-server/tmp/.ts.sock, s_name_part1=9007, pid=69\u001b[0m\n",
      "\u001b[34m2023-12-11T16:15:49,414 [INFO ] W-9007-model_1.0-stdout MODEL_LOG - Listening on port: /home/model-server/tmp/.ts.sock.9007\u001b[0m\n",
      "\u001b[34m2023-12-11T16:15:49,425 [INFO ] W-9003-model_1.0-stdout MODEL_LOG - Successfully loaded /opt/conda/lib/python3.10/site-packages/ts/configs/metrics.yaml.\u001b[0m\n",
      "\u001b[34m2023-12-11T16:15:49,426 [INFO ] W-9003-model_1.0-stdout MODEL_LOG - [PID]62\u001b[0m\n",
      "\u001b[34m2023-12-11T16:15:49,427 [INFO ] W-9003-model_1.0-stdout MODEL_LOG - Torch worker started.\u001b[0m\n",
      "\u001b[34m2023-12-11T16:15:49,427 [INFO ] W-9003-model_1.0 org.pytorch.serve.wlm.WorkerThread - Connecting to: /home/model-server/tmp/.ts.sock.9003\u001b[0m\n",
      "\u001b[34m2023-12-11T16:15:49,431 [INFO ] W-9003-model_1.0-stdout MODEL_LOG - Python runtime: 3.10.9\u001b[0m\n",
      "\u001b[34m2023-12-11T16:15:49,442 [INFO ] W-9001-model_1.0-stdout MODEL_LOG - model_name: model, batchSize: 1\u001b[0m\n",
      "\u001b[34m2023-12-11T16:15:49,456 [INFO ] W-9003-model_1.0-stdout MODEL_LOG - Connection accepted: /home/model-server/tmp/.ts.sock.9003.\u001b[0m\n",
      "\u001b[34m2023-12-11T16:15:49,457 [INFO ] W-9003-model_1.0 org.pytorch.serve.wlm.WorkerThread - Flushing req.cmd LOAD to backend at: 1702311349457\u001b[0m\n",
      "\u001b[34m2023-12-11T16:15:49,487 [INFO ] W-9004-model_1.0-stdout MODEL_LOG - Successfully loaded /opt/conda/lib/python3.10/site-packages/ts/configs/metrics.yaml.\u001b[0m\n",
      "\u001b[34m2023-12-11T16:15:49,487 [INFO ] W-9003-model_1.0-stdout MODEL_LOG - model_name: model, batchSize: 1\u001b[0m\n",
      "\u001b[34m2023-12-11T16:15:49,488 [INFO ] W-9004-model_1.0-stdout MODEL_LOG - [PID]65\u001b[0m\n",
      "\u001b[34m2023-12-11T16:15:49,489 [INFO ] W-9004-model_1.0-stdout MODEL_LOG - Torch worker started.\u001b[0m\n",
      "\u001b[34m2023-12-11T16:15:49,489 [INFO ] W-9004-model_1.0 org.pytorch.serve.wlm.WorkerThread - Connecting to: /home/model-server/tmp/.ts.sock.9004\u001b[0m\n",
      "\u001b[34m2023-12-11T16:15:49,491 [INFO ] W-9004-model_1.0-stdout MODEL_LOG - Python runtime: 3.10.9\u001b[0m\n",
      "\u001b[34m2023-12-11T16:15:49,494 [INFO ] W-9004-model_1.0-stdout MODEL_LOG - Connection accepted: /home/model-server/tmp/.ts.sock.9004.\u001b[0m\n",
      "\u001b[34m2023-12-11T16:15:49,495 [INFO ] W-9004-model_1.0 org.pytorch.serve.wlm.WorkerThread - Flushing req.cmd LOAD to backend at: 1702311349494\u001b[0m\n",
      "\u001b[34m2023-12-11T16:15:49,522 [INFO ] W-9004-model_1.0-stdout MODEL_LOG - model_name: model, batchSize: 1\u001b[0m\n",
      "\u001b[34m2023-12-11T16:15:49,534 [INFO ] W-9002-model_1.0-stdout MODEL_LOG - s_name_part0=/home/model-server/tmp/.ts.sock, s_name_part1=9002, pid=63\u001b[0m\n",
      "\u001b[34m2023-12-11T16:15:49,537 [INFO ] W-9002-model_1.0-stdout MODEL_LOG - Listening on port: /home/model-server/tmp/.ts.sock.9002\u001b[0m\n",
      "\u001b[34m2023-12-11T16:15:49,542 [INFO ] W-9000-model_1.0-stdout MODEL_LOG - s_name_part0=/home/model-server/tmp/.ts.sock, s_name_part1=9000, pid=67\u001b[0m\n",
      "\u001b[34m2023-12-11T16:15:49,543 [INFO ] W-9000-model_1.0-stdout MODEL_LOG - Listening on port: /home/model-server/tmp/.ts.sock.9000\u001b[0m\n",
      "\u001b[34m2023-12-11T16:15:49,545 [INFO ] W-9005-model_1.0-stdout MODEL_LOG - Successfully loaded /opt/conda/lib/python3.10/site-packages/ts/configs/metrics.yaml.\u001b[0m\n",
      "\u001b[34m2023-12-11T16:15:49,555 [INFO ] W-9005-model_1.0-stdout MODEL_LOG - [PID]64\u001b[0m\n",
      "\u001b[34m2023-12-11T16:15:49,555 [INFO ] W-9005-model_1.0-stdout MODEL_LOG - Torch worker started.\u001b[0m\n",
      "\u001b[34m2023-12-11T16:15:49,555 [INFO ] W-9005-model_1.0-stdout MODEL_LOG - Python runtime: 3.10.9\u001b[0m\n",
      "\u001b[34m2023-12-11T16:15:49,555 [INFO ] W-9005-model_1.0 org.pytorch.serve.wlm.WorkerThread - Connecting to: /home/model-server/tmp/.ts.sock.9005\u001b[0m\n",
      "\u001b[34m2023-12-11T16:15:49,571 [INFO ] W-9005-model_1.0-stdout MODEL_LOG - Connection accepted: /home/model-server/tmp/.ts.sock.9005.\u001b[0m\n",
      "\u001b[34m2023-12-11T16:15:49,571 [INFO ] W-9005-model_1.0 org.pytorch.serve.wlm.WorkerThread - Flushing req.cmd LOAD to backend at: 1702311349571\u001b[0m\n",
      "\u001b[34m2023-12-11T16:15:49,636 [INFO ] W-9007-model_1.0-stdout MODEL_LOG - Successfully loaded /opt/conda/lib/python3.10/site-packages/ts/configs/metrics.yaml.\u001b[0m\n",
      "\u001b[34m2023-12-11T16:15:49,655 [INFO ] W-9007-model_1.0-stdout MODEL_LOG - [PID]69\u001b[0m\n",
      "\u001b[34m2023-12-11T16:15:49,655 [INFO ] W-9007-model_1.0-stdout MODEL_LOG - Torch worker started.\u001b[0m\n",
      "\u001b[34m2023-12-11T16:15:49,656 [INFO ] W-9007-model_1.0-stdout MODEL_LOG - Python runtime: 3.10.9\u001b[0m\n",
      "\u001b[34m2023-12-11T16:15:49,656 [INFO ] W-9007-model_1.0 org.pytorch.serve.wlm.WorkerThread - Connecting to: /home/model-server/tmp/.ts.sock.9007\u001b[0m\n",
      "\u001b[34m2023-12-11T16:15:49,668 [INFO ] W-9005-model_1.0-stdout MODEL_LOG - model_name: model, batchSize: 1\u001b[0m\n",
      "\u001b[34m2023-12-11T16:15:49,671 [INFO ] W-9007-model_1.0-stdout MODEL_LOG - Connection accepted: /home/model-server/tmp/.ts.sock.9007.\u001b[0m\n",
      "\u001b[34m2023-12-11T16:15:49,678 [INFO ] W-9007-model_1.0 org.pytorch.serve.wlm.WorkerThread - Flushing req.cmd LOAD to backend at: 1702311349678\u001b[0m\n",
      "\u001b[34m2023-12-11T16:15:49,734 [INFO ] W-9007-model_1.0-stdout MODEL_LOG - model_name: model, batchSize: 1\u001b[0m\n",
      "\u001b[34m2023-12-11T16:15:49,763 [INFO ] W-9000-model_1.0-stdout MODEL_LOG - Successfully loaded /opt/conda/lib/python3.10/site-packages/ts/configs/metrics.yaml.\u001b[0m\n",
      "\u001b[34m2023-12-11T16:15:49,764 [INFO ] W-9000-model_1.0-stdout MODEL_LOG - [PID]67\u001b[0m\n",
      "\u001b[34m2023-12-11T16:15:49,764 [INFO ] W-9000-model_1.0-stdout MODEL_LOG - Torch worker started.\u001b[0m\n",
      "\u001b[34m2023-12-11T16:15:49,765 [INFO ] W-9000-model_1.0-stdout MODEL_LOG - Python runtime: 3.10.9\u001b[0m\n",
      "\u001b[34m2023-12-11T16:15:49,765 [INFO ] W-9000-model_1.0 org.pytorch.serve.wlm.WorkerThread - Connecting to: /home/model-server/tmp/.ts.sock.9000\u001b[0m\n",
      "\u001b[34m2023-12-11T16:15:49,767 [INFO ] W-9006-model_1.0-stdout MODEL_LOG - s_name_part0=/home/model-server/tmp/.ts.sock, s_name_part1=9006, pid=66\u001b[0m\n",
      "\u001b[34m2023-12-11T16:15:49,768 [INFO ] W-9006-model_1.0-stdout MODEL_LOG - Listening on port: /home/model-server/tmp/.ts.sock.9006\u001b[0m\n",
      "\u001b[34m2023-12-11T16:15:49,775 [INFO ] W-9000-model_1.0-stdout MODEL_LOG - Connection accepted: /home/model-server/tmp/.ts.sock.9000.\u001b[0m\n",
      "\u001b[34m2023-12-11T16:15:49,776 [INFO ] W-9000-model_1.0 org.pytorch.serve.wlm.WorkerThread - Flushing req.cmd LOAD to backend at: 1702311349776\u001b[0m\n",
      "\u001b[34m2023-12-11T16:15:49,805 [INFO ] W-9002-model_1.0-stdout MODEL_LOG - Successfully loaded /opt/conda/lib/python3.10/site-packages/ts/configs/metrics.yaml.\u001b[0m\n",
      "\u001b[34m2023-12-11T16:15:49,807 [INFO ] W-9002-model_1.0-stdout MODEL_LOG - [PID]63\u001b[0m\n",
      "\u001b[34m2023-12-11T16:15:49,809 [INFO ] W-9002-model_1.0-stdout MODEL_LOG - Torch worker started.\u001b[0m\n",
      "\u001b[34m2023-12-11T16:15:49,809 [INFO ] W-9002-model_1.0 org.pytorch.serve.wlm.WorkerThread - Connecting to: /home/model-server/tmp/.ts.sock.9002\u001b[0m\n",
      "\u001b[34m2023-12-11T16:15:49,811 [INFO ] W-9002-model_1.0-stdout MODEL_LOG - Python runtime: 3.10.9\u001b[0m\n",
      "\u001b[34m2023-12-11T16:15:49,838 [INFO ] W-9000-model_1.0-stdout MODEL_LOG - model_name: model, batchSize: 1\u001b[0m\n",
      "\u001b[34m2023-12-11T16:15:49,847 [INFO ] W-9002-model_1.0 org.pytorch.serve.wlm.WorkerThread - Flushing req.cmd LOAD to backend at: 1702311349847\u001b[0m\n",
      "\u001b[34m2023-12-11T16:15:49,848 [INFO ] W-9002-model_1.0-stdout MODEL_LOG - Connection accepted: /home/model-server/tmp/.ts.sock.9002.\u001b[0m\n",
      "\u001b[34m2023-12-11T16:15:49,906 [INFO ] W-9002-model_1.0-stdout MODEL_LOG - model_name: model, batchSize: 1\u001b[0m\n",
      "\u001b[34m2023-12-11T16:15:50,107 [INFO ] W-9006-model_1.0-stdout MODEL_LOG - Successfully loaded /opt/conda/lib/python3.10/site-packages/ts/configs/metrics.yaml.\u001b[0m\n",
      "\u001b[34m2023-12-11T16:15:50,108 [INFO ] W-9006-model_1.0-stdout MODEL_LOG - [PID]66\u001b[0m\n",
      "\u001b[34m2023-12-11T16:15:50,109 [INFO ] W-9006-model_1.0-stdout MODEL_LOG - Torch worker started.\u001b[0m\n",
      "\u001b[34m2023-12-11T16:15:50,110 [INFO ] W-9006-model_1.0 org.pytorch.serve.wlm.WorkerThread - Connecting to: /home/model-server/tmp/.ts.sock.9006\u001b[0m\n",
      "\u001b[34m2023-12-11T16:15:50,111 [INFO ] W-9006-model_1.0-stdout MODEL_LOG - Python runtime: 3.10.9\u001b[0m\n",
      "\u001b[34m2023-12-11T16:15:50,113 [INFO ] W-9006-model_1.0-stdout MODEL_LOG - Connection accepted: /home/model-server/tmp/.ts.sock.9006.\u001b[0m\n",
      "\u001b[34m2023-12-11T16:15:50,116 [INFO ] W-9006-model_1.0 org.pytorch.serve.wlm.WorkerThread - Flushing req.cmd LOAD to backend at: 1702311350116\u001b[0m\n",
      "\u001b[34m2023-12-11T16:15:50,154 [INFO ] W-9006-model_1.0-stdout MODEL_LOG - model_name: model, batchSize: 1\u001b[0m\n",
      "\u001b[34m2023-12-11T16:15:50,241 [INFO ] W-9003-model_1.0 org.pytorch.serve.wlm.WorkerThread - Backend response time: 731\u001b[0m\n",
      "\u001b[34m2023-12-11T16:15:50,242 [INFO ] W-9003-model_1.0 TS_METRICS - WorkerLoadTime.Milliseconds:3624.0|#WorkerName:W-9003-model_1.0,Level:Host|#hostname:d71ebe7c0584,timestamp:1702311350\u001b[0m\n",
      "\u001b[34m2023-12-11T16:15:50,243 [INFO ] W-9003-model_1.0 TS_METRICS - WorkerThreadTime.Milliseconds:55.0|#Level:Host|#hostname:d71ebe7c0584,timestamp:1702311350\u001b[0m\n",
      "\u001b[34m2023-12-11T16:15:50,309 [INFO ] W-9004-model_1.0 org.pytorch.serve.wlm.WorkerThread - Backend response time: 775\u001b[0m\n",
      "\u001b[34m2023-12-11T16:15:50,309 [INFO ] W-9004-model_1.0 TS_METRICS - WorkerLoadTime.Milliseconds:3690.0|#WorkerName:W-9004-model_1.0,Level:Host|#hostname:d71ebe7c0584,timestamp:1702311350\u001b[0m\n",
      "\u001b[34m2023-12-11T16:15:50,310 [INFO ] W-9004-model_1.0 TS_METRICS - WorkerThreadTime.Milliseconds:41.0|#Level:Host|#hostname:d71ebe7c0584,timestamp:1702311350\u001b[0m\n",
      "\u001b[34m2023-12-11T16:15:50,384 [INFO ] W-9001-model_1.0 org.pytorch.serve.wlm.WorkerThread - Backend response time: 951\u001b[0m\n",
      "\u001b[34m2023-12-11T16:15:50,384 [INFO ] W-9001-model_1.0 TS_METRICS - WorkerLoadTime.Milliseconds:3766.0|#WorkerName:W-9001-model_1.0,Level:Host|#hostname:d71ebe7c0584,timestamp:1702311350\u001b[0m\n",
      "\u001b[34m2023-12-11T16:15:50,385 [INFO ] W-9001-model_1.0 TS_METRICS - WorkerThreadTime.Milliseconds:82.0|#Level:Host|#hostname:d71ebe7c0584,timestamp:1702311350\u001b[0m\n",
      "\u001b[34m2023-12-11T16:15:50,422 [INFO ] W-9002-model_1.0 org.pytorch.serve.wlm.WorkerThread - Backend response time: 518\u001b[0m\n",
      "\u001b[34m2023-12-11T16:15:50,423 [INFO ] W-9002-model_1.0 TS_METRICS - WorkerLoadTime.Milliseconds:3805.0|#WorkerName:W-9002-model_1.0,Level:Host|#hostname:d71ebe7c0584,timestamp:1702311350\u001b[0m\n",
      "\u001b[34m2023-12-11T16:15:50,424 [INFO ] W-9002-model_1.0 TS_METRICS - WorkerThreadTime.Milliseconds:59.0|#Level:Host|#hostname:d71ebe7c0584,timestamp:1702311350\u001b[0m\n",
      "\u001b[34m2023-12-11T16:15:50,446 [INFO ] W-9000-model_1.0 org.pytorch.serve.wlm.WorkerThread - Backend response time: 600\u001b[0m\n",
      "\u001b[34m2023-12-11T16:15:50,447 [INFO ] W-9000-model_1.0 TS_METRICS - WorkerLoadTime.Milliseconds:3830.0|#WorkerName:W-9000-model_1.0,Level:Host|#hostname:d71ebe7c0584,timestamp:1702311350\u001b[0m\n",
      "\u001b[34m2023-12-11T16:15:50,447 [INFO ] W-9000-model_1.0 TS_METRICS - WorkerThreadTime.Milliseconds:71.0|#Level:Host|#hostname:d71ebe7c0584,timestamp:1702311350\u001b[0m\n",
      "\u001b[34m2023-12-11T16:15:50,462 [INFO ] W-9007-model_1.0 org.pytorch.serve.wlm.WorkerThread - Backend response time: 736\u001b[0m\n",
      "\u001b[34m2023-12-11T16:15:50,463 [INFO ] W-9007-model_1.0 TS_METRICS - WorkerLoadTime.Milliseconds:3841.0|#WorkerName:W-9007-model_1.0,Level:Host|#hostname:d71ebe7c0584,timestamp:1702311350\u001b[0m\n",
      "\u001b[34m2023-12-11T16:15:50,463 [INFO ] W-9007-model_1.0 TS_METRICS - WorkerThreadTime.Milliseconds:49.0|#Level:Host|#hostname:d71ebe7c0584,timestamp:1702311350\u001b[0m\n",
      "\u001b[34m2023-12-11T16:15:50,472 [INFO ] W-9005-model_1.0 org.pytorch.serve.wlm.WorkerThread - Backend response time: 793\u001b[0m\n",
      "\u001b[34m2023-12-11T16:15:50,472 [INFO ] W-9005-model_1.0 TS_METRICS - WorkerLoadTime.Milliseconds:3853.0|#WorkerName:W-9005-model_1.0,Level:Host|#hostname:d71ebe7c0584,timestamp:1702311350\u001b[0m\n",
      "\u001b[34m2023-12-11T16:15:50,472 [INFO ] W-9005-model_1.0 TS_METRICS - WorkerThreadTime.Milliseconds:108.0|#Level:Host|#hostname:d71ebe7c0584,timestamp:1702311350\u001b[0m\n",
      "\u001b[34m2023-12-11T16:15:50,509 [INFO ] W-9006-model_1.0 org.pytorch.serve.wlm.WorkerThread - Backend response time: 343\u001b[0m\n",
      "\u001b[34m2023-12-11T16:15:50,509 [INFO ] W-9006-model_1.0 TS_METRICS - WorkerLoadTime.Milliseconds:3888.0|#WorkerName:W-9006-model_1.0,Level:Host|#hostname:d71ebe7c0584,timestamp:1702311350\u001b[0m\n",
      "\u001b[34m2023-12-11T16:15:50,510 [INFO ] W-9006-model_1.0 TS_METRICS - WorkerThreadTime.Milliseconds:51.0|#Level:Host|#hostname:d71ebe7c0584,timestamp:1702311350\u001b[0m\n",
      "\u001b[34m2023-12-11T16:15:52,104 [INFO ] pool-2-thread-9 ACCESS_LOG - /169.254.255.130:36264 \"GET /ping HTTP/1.1\" 200 10\u001b[0m\n",
      "\u001b[34m2023-12-11T16:15:52,105 [INFO ] pool-2-thread-9 TS_METRICS - Requests2XX.Count:1.0|#Level:Host|#hostname:d71ebe7c0584,timestamp:1702311352\u001b[0m\n",
      "\u001b[34m2023-12-11T16:15:52,121 [INFO ] epollEventLoopGroup-3-2 ACCESS_LOG - /169.254.255.130:36278 \"GET /execution-parameters HTTP/1.1\" 404 1\u001b[0m\n",
      "\u001b[34m2023-12-11T16:15:52,121 [INFO ] epollEventLoopGroup-3-2 TS_METRICS - Requests4XX.Count:1.0|#Level:Host|#hostname:d71ebe7c0584,timestamp:1702311352\u001b[0m\n",
      "\u001b[34m2023-12-11T16:15:52,193 [INFO ] epollEventLoopGroup-3-3 TS_METRICS - ts_inference_requests_total.Count:1.0|#model_name:model,model_version:default|#hostname:d71ebe7c0584,timestamp:1702311352\u001b[0m\n",
      "\u001b[34m2023-12-11T16:15:52,193 [INFO ] W-9003-model_1.0 org.pytorch.serve.wlm.WorkerThread - Flushing req.cmd PREDICT to backend at: 1702311352193\u001b[0m\n",
      "\u001b[34m2023-12-11T16:15:52,197 [INFO ] W-9003-model_1.0-stdout MODEL_LOG - Backend received inference at: 1702311352\u001b[0m\n",
      "\u001b[34m2023-12-11T16:15:52,495 [INFO ] W-9003-model_1.0-stdout org.pytorch.serve.wlm.WorkerLifeCycle - result=[METRICS]PredictionTime.Milliseconds:299.44|#ModelName:model,Level:Model|#hostname:d71ebe7c0584,1702311352,8734f7ae-9382-4258-bfa9-01dcf53980eb, pattern=[METRICS]\u001b[0m\n",
      "\u001b[34m2023-12-11T16:15:52,496 [INFO ] W-9003-model_1.0-stdout MODEL_METRICS - PredictionTime.ms:299.44|#ModelName:model,Level:Model|#hostname:d71ebe7c0584,requestID:8734f7ae-9382-4258-bfa9-01dcf53980eb,timestamp:1702311352\u001b[0m\n",
      "\u001b[34m2023-12-11T16:15:52,496 [INFO ] W-9003-model_1.0 ACCESS_LOG - /169.254.255.130:36286 \"POST /invocations HTTP/1.1\" 200 306\u001b[0m\n",
      "\u001b[34m2023-12-11T16:15:52,496 [INFO ] W-9003-model_1.0 TS_METRICS - Requests2XX.Count:1.0|#Level:Host|#hostname:d71ebe7c0584,timestamp:1702311352\u001b[0m\n",
      "\u001b[34m2023-12-11T16:15:52,497 [INFO ] W-9003-model_1.0 TS_METRICS - ts_inference_latency_microseconds.Microseconds:302599.247|#model_name:model,model_version:default|#hostname:d71ebe7c0584,timestamp:1702311352\u001b[0m\n",
      "\u001b[34m2023-12-11T16:15:52,497 [INFO ] W-9003-model_1.0 TS_METRICS - ts_queue_latency_microseconds.Microseconds:176.713|#model_name:model,model_version:default|#hostname:d71ebe7c0584,timestamp:1702311352\u001b[0m\n",
      "\u001b[34m2023-12-11T16:15:52,497 [INFO ] W-9003-model_1.0 TS_METRICS - QueueTime.Milliseconds:0.0|#Level:Host|#hostname:d71ebe7c0584,timestamp:1702311352\u001b[0m\n",
      "\u001b[34m2023-12-11T16:15:52,497 [INFO ] W-9003-model_1.0 org.pytorch.serve.wlm.WorkerThread - Backend response time: 301\u001b[0m\n",
      "\u001b[34m2023-12-11T16:15:52,498 [INFO ] W-9003-model_1.0 TS_METRICS - WorkerThreadTime.Milliseconds:3.0|#Level:Host|#hostname:d71ebe7c0584,timestamp:1702311352\u001b[0m\n",
      "\u001b[32m2023-12-11T16:15:52.126:[sagemaker logs]: MaxConcurrentTransforms=1, MaxPayloadInMB=100, BatchStrategy=MULTI_RECORD\u001b[0m\n"
     ]
    }
   ],
   "source": [
    "transformer = estimator.transformer(\n",
    "    instance_count=1,\n",
    "    instance_type=instance_type,\n",
    "    max_payload=100,\n",
    ")\n",
    "\n",
    "transformer.transform(\n",
    "    data=test_data,\n",
    "    content_type=\"text/csv\",\n",
    ")"
   ]
  },
  {
   "cell_type": "markdown",
   "id": "a1404972-89a8-475b-a281-948955a8417c",
   "metadata": {},
   "source": [
    "Load the test set predictions from S3."
   ]
  },
  {
   "cell_type": "code",
   "execution_count": 17,
   "id": "d66ec3b4-9b56-4c7f-8351-256cd93c3809",
   "metadata": {
    "tags": []
   },
   "outputs": [],
   "source": [
    "predictions = sagemaker_session.read_s3_file(\n",
    "    bucket=bucket,\n",
    "    key_prefix=f\"{transformer.latest_transform_job.name}/AirQuality_test.csv.out\"\n",
    ")\n",
    "\n",
    "predictions = pd.DataFrame(\n",
    "    data=predictions.split(\"\\n\")[1:-1],\n",
    "    columns=predictions.split(\"\\n\")[:1]\n",
    ").replace('\"\"', np.nan).astype(float)"
   ]
  },
  {
   "cell_type": "code",
   "execution_count": 18,
   "id": "b977e690-e2e7-40d2-9112-36fa7fef8de9",
   "metadata": {
    "tags": []
   },
   "outputs": [
    {
     "data": {
      "text/plain": [
       "(792, 1)"
      ]
     },
     "execution_count": 18,
     "metadata": {},
     "output_type": "execute_result"
    }
   ],
   "source": [
    "predictions.shape"
   ]
  },
  {
   "cell_type": "code",
   "execution_count": 19,
   "id": "1c635817-9d68-4634-a6fa-6e5df4d97792",
   "metadata": {
    "tags": []
   },
   "outputs": [
    {
     "data": {
      "text/html": [
       "<div>\n",
       "<style scoped>\n",
       "    .dataframe tbody tr th:only-of-type {\n",
       "        vertical-align: middle;\n",
       "    }\n",
       "\n",
       "    .dataframe tbody tr th {\n",
       "        vertical-align: top;\n",
       "    }\n",
       "\n",
       "    .dataframe thead th {\n",
       "        text-align: right;\n",
       "    }\n",
       "</style>\n",
       "<table border=\"1\" class=\"dataframe\">\n",
       "  <thead>\n",
       "    <tr style=\"text-align: right;\">\n",
       "      <th></th>\n",
       "      <th>y</th>\n",
       "    </tr>\n",
       "  </thead>\n",
       "  <tbody>\n",
       "    <tr>\n",
       "      <th>0</th>\n",
       "      <td>NaN</td>\n",
       "    </tr>\n",
       "    <tr>\n",
       "      <th>1</th>\n",
       "      <td>NaN</td>\n",
       "    </tr>\n",
       "    <tr>\n",
       "      <th>2</th>\n",
       "      <td>NaN</td>\n",
       "    </tr>\n",
       "    <tr>\n",
       "      <th>3</th>\n",
       "      <td>NaN</td>\n",
       "    </tr>\n",
       "    <tr>\n",
       "      <th>4</th>\n",
       "      <td>NaN</td>\n",
       "    </tr>\n",
       "  </tbody>\n",
       "</table>\n",
       "</div>"
      ],
      "text/plain": [
       "    y\n",
       "0 NaN\n",
       "1 NaN\n",
       "2 NaN\n",
       "3 NaN\n",
       "4 NaN"
      ]
     },
     "execution_count": 19,
     "metadata": {},
     "output_type": "execute_result"
    }
   ],
   "source": [
    "predictions.head()"
   ]
  },
  {
   "cell_type": "code",
   "execution_count": 20,
   "id": "57ccce34-9119-479b-a555-63e423aad4bb",
   "metadata": {
    "tags": []
   },
   "outputs": [
    {
     "data": {
      "text/html": [
       "<div>\n",
       "<style scoped>\n",
       "    .dataframe tbody tr th:only-of-type {\n",
       "        vertical-align: middle;\n",
       "    }\n",
       "\n",
       "    .dataframe tbody tr th {\n",
       "        vertical-align: top;\n",
       "    }\n",
       "\n",
       "    .dataframe thead th {\n",
       "        text-align: right;\n",
       "    }\n",
       "</style>\n",
       "<table border=\"1\" class=\"dataframe\">\n",
       "  <thead>\n",
       "    <tr style=\"text-align: right;\">\n",
       "      <th></th>\n",
       "      <th>y</th>\n",
       "    </tr>\n",
       "  </thead>\n",
       "  <tbody>\n",
       "    <tr>\n",
       "      <th>787</th>\n",
       "      <td>2.707612</td>\n",
       "    </tr>\n",
       "    <tr>\n",
       "      <th>788</th>\n",
       "      <td>2.409199</td>\n",
       "    </tr>\n",
       "    <tr>\n",
       "      <th>789</th>\n",
       "      <td>2.157663</td>\n",
       "    </tr>\n",
       "    <tr>\n",
       "      <th>790</th>\n",
       "      <td>2.222788</td>\n",
       "    </tr>\n",
       "    <tr>\n",
       "      <th>791</th>\n",
       "      <td>2.163877</td>\n",
       "    </tr>\n",
       "  </tbody>\n",
       "</table>\n",
       "</div>"
      ],
      "text/plain": [
       "            y\n",
       "787  2.707612\n",
       "788  2.409199\n",
       "789  2.157663\n",
       "790  2.222788\n",
       "791  2.163877"
      ]
     },
     "execution_count": 20,
     "metadata": {},
     "output_type": "execute_result"
    }
   ],
   "source": [
    "predictions.tail()"
   ]
  },
  {
   "cell_type": "markdown",
   "id": "50e993c6-fd22-4733-be24-3263393ab938",
   "metadata": {},
   "source": [
    "Visualize the test set predictions."
   ]
  },
  {
   "cell_type": "code",
   "execution_count": 21,
   "id": "0506b76a-f1e6-40cd-9900-1f0ad13ebff6",
   "metadata": {
    "tags": []
   },
   "outputs": [
    {
     "data": {
      "image/png": "[encoded data removed]",
      "text/plain": [
       "<Figure size 600x350 with 1 Axes>"
      ]
     },
     "metadata": {},
     "output_type": "display_data"
    }
   ],
   "source": [
    "fig, ax = plt.subplots(figsize=(6, 3.5))\n",
    "ax.plot(test_dataset[\"y\"].iloc[context_length:].values, color=\"#AFB8C1\", lw=0.6, label=\"Actual\")\n",
    "ax.plot(predictions[\"y\"].iloc[context_length: - prediction_length].values, color=\"#009ad3\", lw=0.6, label=\"Predicted\")\n",
    "ax.set(xlabel=\"Time\", ylabel=\"Value\")\n",
    "ax.tick_params(axis=\"both\", which=\"major\", labelsize=7)\n",
    "ax.tick_params(axis=\"both\", which=\"minor\", labelsize=7)\n",
    "fig.legend(frameon=False, bbox_to_anchor=(1.2, 1, 0, 0))\n",
    "fig.tight_layout()\n",
    "fig.show()"
   ]
  },
  {
   "cell_type": "markdown",
   "id": "d985e8e7-72bc-444f-942a-3e1cd2f1a043",
   "metadata": {},
   "source": [
    "Calculate the error metrics."
   ]
  },
  {
   "cell_type": "code",
   "execution_count": 22,
   "id": "c5dfd574-e1c8-4872-adc2-aa8b07f6326f",
   "metadata": {
    "tags": []
   },
   "outputs": [
    {
     "name": "stdout",
     "output_type": "stream",
     "text": [
      "MSE: 0.94, MAE: 0.71\n"
     ]
    }
   ],
   "source": [
    "mse = mean_squared_error(\n",
    "    test_dataset[\"y\"].iloc[context_length:],\n",
    "    predictions[\"y\"].iloc[context_length: - prediction_length]\n",
    ")\n",
    "\n",
    "mae = mean_absolute_error(\n",
    "    test_dataset[\"y\"].iloc[context_length:],\n",
    "    predictions[\"y\"].iloc[context_length: - prediction_length]\n",
    ")\n",
    "\n",
    "print(f\"MSE: {format(mse, '.2f')}, MAE: {format(mae, '.2f')}\")"
   ]
  }
 ],
 "metadata": {
  "kernelspec": {
   "display_name": "conda_python3",
   "language": "python",
   "name": "conda_python3"
  },
  "language_info": {
   "codemirror_mode": {
    "name": "ipython",
    "version": 3
   },
   "file_extension": ".py",
   "mimetype": "text/x-python",
   "name": "python",
   "nbconvert_exporter": "python",
   "pygments_lexer": "ipython3",
   "version": "3.10.13"
  }
 },
 "nbformat": 4,
 "nbformat_minor": 5
}
