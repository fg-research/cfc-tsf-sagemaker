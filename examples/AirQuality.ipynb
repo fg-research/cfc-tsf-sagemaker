{
 "cells": [
  {
   "cell_type": "markdown",
   "id": "5abd699a-784e-4001-946e-40fae4af6885",
   "metadata": {
    "tags": []
   },
   "source": [
    "# UCI Dataset: Air Quality"
   ]
  },
  {
   "cell_type": "markdown",
   "id": "721cb54b-ace5-431e-9952-9ab8d52166b8",
   "metadata": {},
   "source": [
    "**Dataset Homepage:** https://archive.ics.uci.edu/dataset/360/air+quality"
   ]
  },
  {
   "cell_type": "markdown",
   "id": "b6ba64ab-408d-4443-a08f-39b95d9621c8",
   "metadata": {},
   "source": [
    "### 1. Environment set-up"
   ]
  },
  {
   "cell_type": "markdown",
   "id": "11f28e0b-f927-4832-9761-2bad9545d5c4",
   "metadata": {
    "tags": []
   },
   "source": [
    "1. This notebook contains elements which render correctly in Jupyter interface. Open this notebook from an Amazon SageMaker Notebook Instance or Amazon SageMaker Studio.\n",
    "1. Ensure that IAM role used has **AmazonSageMakerFullAccess**\n",
    "1. Some hands-on experience using [Amazon SageMaker](https://aws.amazon.com/sagemaker/).\n",
    "1. To use this algorithm successfully, ensure that:\n",
    "    1. Either your IAM role has these three permissions and you have authority to make AWS Marketplace subscriptions in the AWS account used: \n",
    "        1. **aws-marketplace:ViewSubscriptions**\n",
    "        1. **aws-marketplace:Unsubscribe**\n",
    "        1. **aws-marketplace:Subscribe**  \n",
    "    2. or your AWS account has a subscription to the [Time Series Forecasting (CfC) Algorithm from AWS Marketplace](https://aws.amazon.com/marketplace/pp/prodview-7s4giphluwgta).\n",
    "\n",
    "To subscribe to the algorithm:\n",
    "1. Open the algorithm listing page.\n",
    "1. On the AWS Marketplace listing, click on the **Continue to subscribe** button.\n",
    "1. On the **Subscribe to this software** page, review and click on **\"Accept Offer\"** if you agree with EULA, pricing, and support terms. \n",
    "1. Once you click on the **Continue to configuration** button and then choose a **region**, you will see a **Product ARN**. This is the algorithm ARN that you need to specify while training a custom ML model. **Copy the ARN corresponding to your region and specify the same in the following cell.**"
   ]
  },
  {
   "cell_type": "code",
   "execution_count": 1,
   "id": "6105729c-392b-4ab4-b4c2-f75d5a11ea23",
   "metadata": {
    "tags": []
   },
   "outputs": [],
   "source": [
    "# SageMaker algorithm ARN from AWS Marketplace\n",
    "algo_arn = \"arn:aws:sagemaker:<...>\""
   ]
  },
  {
   "cell_type": "code",
   "execution_count": 2,
   "id": "85efac29-68b8-461f-8e80-8f26dad0fd7e",
   "metadata": {
    "tags": []
   },
   "outputs": [
    {
     "name": "stderr",
     "output_type": "stream",
     "text": [
      "/home/ec2-user/anaconda3/envs/python3/lib/python3.10/site-packages/pandas/core/computation/expressions.py:21: UserWarning: Pandas requires version '2.8.0' or newer of 'numexpr' (version '2.7.3' currently installed).\n",
      "  from pandas.core.computation.check import NUMEXPR_INSTALLED\n"
     ]
    },
    {
     "name": "stdout",
     "output_type": "stream",
     "text": [
      "sagemaker.config INFO - Not applying SDK defaults from location: /etc/xdg/sagemaker/config.yaml\n",
      "sagemaker.config INFO - Not applying SDK defaults from location: /home/ec2-user/.config/sagemaker/config.yaml\n"
     ]
    }
   ],
   "source": [
    "import io\n",
    "import sagemaker\n",
    "import pandas as pd\n",
    "import numpy as np\n",
    "import matplotlib.pyplot as plt\n",
    "from sklearn.metrics import mean_squared_error, mean_absolute_error\n",
    "\n",
    "# SageMaker session\n",
    "sagemaker_session = sagemaker.Session()\n",
    "\n",
    "# SageMaker role\n",
    "role = sagemaker.get_execution_role()\n",
    "\n",
    "# S3 bucket\n",
    "bucket = sagemaker_session.default_bucket()\n",
    "\n",
    "# EC2 instance\n",
    "instance_type = \"ml.m5.2xlarge\""
   ]
  },
  {
   "cell_type": "markdown",
   "id": "8e8be62c-ab24-4c83-84df-5784ce5ef8c8",
   "metadata": {},
   "source": [
    "### 2. Data preparation"
   ]
  },
  {
   "cell_type": "markdown",
   "id": "a490e012-f3d7-404c-8b5a-3cfc5f57d4be",
   "metadata": {},
   "source": [
    "Load and prepare the data."
   ]
  },
  {
   "cell_type": "code",
   "execution_count": 3,
   "id": "ddc5e574-8b56-4452-85cb-26611abc6f8f",
   "metadata": {
    "tags": []
   },
   "outputs": [],
   "source": [
    "# load the data\n",
    "dataset = pd.read_excel(\n",
    "    \"AirQualityUCI.xlsx\",\n",
    "    usecols=[\"Date\", \"Time\", \"CO(GT)\"],\n",
    ")\n",
    "\n",
    "# format the time stamps and replace the missing values with NaN\n",
    "dataset = pd.DataFrame({\n",
    "    \"ts\": pd.to_datetime(\n",
    "        dataset[\"Date\"].dt.strftime(\"%Y-%m-%d\") + \" \" + dataset[\"Time\"].astype(str),\n",
    "        format=\"%Y-%m-%d %H:%M:%S\"\n",
    "    ),\n",
    "    \"y\": dataset[\"CO(GT)\"].replace(-200, np.nan)\n",
    "})\n",
    "\n",
    "# drop the missing values\n",
    "dataset.dropna(inplace=True, ignore_index=True)\n",
    "\n",
    "# calculate the time spans\n",
    "dataset[\"ts\"] = dataset[\"ts\"].diff().dt.total_seconds().fillna(value=0) / (60 * 60)"
   ]
  },
  {
   "cell_type": "code",
   "execution_count": 4,
   "id": "808f7ae1-9a31-436d-9bc7-da4a4c2ad083",
   "metadata": {
    "tags": []
   },
   "outputs": [
    {
     "data": {
      "text/plain": [
       "(7674, 2)"
      ]
     },
     "execution_count": 4,
     "metadata": {},
     "output_type": "execute_result"
    }
   ],
   "source": [
    "dataset.shape"
   ]
  },
  {
   "cell_type": "code",
   "execution_count": 5,
   "id": "8101c9ff-8b45-4e5f-928d-974d0199e1a8",
   "metadata": {
    "tags": []
   },
   "outputs": [
    {
     "data": {
      "text/html": [
       "<div>\n",
       "<style scoped>\n",
       "    .dataframe tbody tr th:only-of-type {\n",
       "        vertical-align: middle;\n",
       "    }\n",
       "\n",
       "    .dataframe tbody tr th {\n",
       "        vertical-align: top;\n",
       "    }\n",
       "\n",
       "    .dataframe thead th {\n",
       "        text-align: right;\n",
       "    }\n",
       "</style>\n",
       "<table border=\"1\" class=\"dataframe\">\n",
       "  <thead>\n",
       "    <tr style=\"text-align: right;\">\n",
       "      <th></th>\n",
       "      <th>ts</th>\n",
       "      <th>y</th>\n",
       "    </tr>\n",
       "  </thead>\n",
       "  <tbody>\n",
       "    <tr>\n",
       "      <th>0</th>\n",
       "      <td>0.0</td>\n",
       "      <td>2.6</td>\n",
       "    </tr>\n",
       "    <tr>\n",
       "      <th>1</th>\n",
       "      <td>1.0</td>\n",
       "      <td>2.0</td>\n",
       "    </tr>\n",
       "    <tr>\n",
       "      <th>2</th>\n",
       "      <td>1.0</td>\n",
       "      <td>2.2</td>\n",
       "    </tr>\n",
       "    <tr>\n",
       "      <th>3</th>\n",
       "      <td>1.0</td>\n",
       "      <td>2.2</td>\n",
       "    </tr>\n",
       "    <tr>\n",
       "      <th>4</th>\n",
       "      <td>1.0</td>\n",
       "      <td>1.6</td>\n",
       "    </tr>\n",
       "  </tbody>\n",
       "</table>\n",
       "</div>"
      ],
      "text/plain": [
       "    ts    y\n",
       "0  0.0  2.6\n",
       "1  1.0  2.0\n",
       "2  1.0  2.2\n",
       "3  1.0  2.2\n",
       "4  1.0  1.6"
      ]
     },
     "execution_count": 5,
     "metadata": {},
     "output_type": "execute_result"
    }
   ],
   "source": [
    "dataset.head()"
   ]
  },
  {
   "cell_type": "code",
   "execution_count": 6,
   "id": "22db7b7e-73af-4c32-a324-e6cada551d88",
   "metadata": {
    "tags": []
   },
   "outputs": [
    {
     "data": {
      "text/html": [
       "<div>\n",
       "<style scoped>\n",
       "    .dataframe tbody tr th:only-of-type {\n",
       "        vertical-align: middle;\n",
       "    }\n",
       "\n",
       "    .dataframe tbody tr th {\n",
       "        vertical-align: top;\n",
       "    }\n",
       "\n",
       "    .dataframe thead th {\n",
       "        text-align: right;\n",
       "    }\n",
       "</style>\n",
       "<table border=\"1\" class=\"dataframe\">\n",
       "  <thead>\n",
       "    <tr style=\"text-align: right;\">\n",
       "      <th></th>\n",
       "      <th>ts</th>\n",
       "      <th>y</th>\n",
       "    </tr>\n",
       "  </thead>\n",
       "  <tbody>\n",
       "    <tr>\n",
       "      <th>7669</th>\n",
       "      <td>1.0</td>\n",
       "      <td>3.1</td>\n",
       "    </tr>\n",
       "    <tr>\n",
       "      <th>7670</th>\n",
       "      <td>1.0</td>\n",
       "      <td>2.4</td>\n",
       "    </tr>\n",
       "    <tr>\n",
       "      <th>7671</th>\n",
       "      <td>1.0</td>\n",
       "      <td>2.4</td>\n",
       "    </tr>\n",
       "    <tr>\n",
       "      <th>7672</th>\n",
       "      <td>1.0</td>\n",
       "      <td>2.1</td>\n",
       "    </tr>\n",
       "    <tr>\n",
       "      <th>7673</th>\n",
       "      <td>1.0</td>\n",
       "      <td>2.2</td>\n",
       "    </tr>\n",
       "  </tbody>\n",
       "</table>\n",
       "</div>"
      ],
      "text/plain": [
       "       ts    y\n",
       "7669  1.0  3.1\n",
       "7670  1.0  2.4\n",
       "7671  1.0  2.4\n",
       "7672  1.0  2.1\n",
       "7673  1.0  2.2"
      ]
     },
     "execution_count": 6,
     "metadata": {},
     "output_type": "execute_result"
    }
   ],
   "source": [
    "dataset.tail()"
   ]
  },
  {
   "cell_type": "code",
   "execution_count": 7,
   "id": "824c9da1-1f0b-407d-a17b-765479f0da12",
   "metadata": {
    "tags": []
   },
   "outputs": [
    {
     "data": {
      "text/plain": [
       "count    7674.000000\n",
       "mean        1.219182\n",
       "std         4.229401\n",
       "min         0.000000\n",
       "25%         1.000000\n",
       "50%         1.000000\n",
       "75%         1.000000\n",
       "max       174.000000\n",
       "Name: ts, dtype: float64"
      ]
     },
     "execution_count": 7,
     "metadata": {},
     "output_type": "execute_result"
    }
   ],
   "source": [
    "dataset[\"ts\"].describe()"
   ]
  },
  {
   "cell_type": "code",
   "execution_count": 8,
   "id": "63d7f534-8c84-44a8-bc74-486eb8144f21",
   "metadata": {
    "tags": []
   },
   "outputs": [
    {
     "data": {
      "text/plain": [
       "count    7674.000000\n",
       "mean        2.152750\n",
       "std         1.453252\n",
       "min         0.100000\n",
       "25%         1.100000\n",
       "50%         1.800000\n",
       "75%         2.900000\n",
       "max        11.900000\n",
       "Name: y, dtype: float64"
      ]
     },
     "execution_count": 8,
     "metadata": {},
     "output_type": "execute_result"
    }
   ],
   "source": [
    "dataset[\"y\"].describe()"
   ]
  },
  {
   "cell_type": "markdown",
   "id": "a43f083b-4d28-45a4-8748-813572690f74",
   "metadata": {},
   "source": [
    "Visualize the data."
   ]
  },
  {
   "cell_type": "code",
   "execution_count": 9,
   "id": "00591bc4-4836-4fd6-9b2e-c4e5ac4419ff",
   "metadata": {
    "tags": []
   },
   "outputs": [
    {
     "data": {
      "image/png": "[encoded data removed]",
      "text/plain": [
       "<Figure size 600x350 with 1 Axes>"
      ]
     },
     "metadata": {},
     "output_type": "display_data"
    }
   ],
   "source": [
    "fig, ax = plt.subplots(figsize=(6, 3.5))\n",
    "ax.plot(dataset[\"y\"], color=\"#AFB8C1\", lw=0.3)\n",
    "ax.set(xlabel=\"Time\", ylabel=\"Value\")\n",
    "ax.tick_params(axis=\"both\", which=\"major\", labelsize=7)\n",
    "ax.tick_params(axis=\"both\", which=\"minor\", labelsize=7)\n",
    "fig.tight_layout()\n",
    "fig.show()"
   ]
  },
  {
   "cell_type": "markdown",
   "id": "c5be8de2-3112-4b0e-9e74-d6088d2ed7fd",
   "metadata": {},
   "source": [
    "Split the data."
   ]
  },
  {
   "cell_type": "code",
   "execution_count": 10,
   "id": "2c1bc4d8-ff53-4c6e-9906-388fd838e160",
   "metadata": {
    "tags": []
   },
   "outputs": [],
   "source": [
    "# number of time steps used as input\n",
    "context_length = 48\n",
    "\n",
    "# number of time steps to output\n",
    "prediction_length = 24\n",
    "\n",
    "# number of time steps used for testing\n",
    "cutoff = 30 * 24\n",
    "\n",
    "# training set\n",
    "training_dataset = dataset.iloc[:- cutoff]\n",
    "\n",
    "# test set\n",
    "test_dataset = dataset.iloc[- cutoff - context_length:]"
   ]
  },
  {
   "cell_type": "markdown",
   "id": "c15d3082-f038-479a-a0c5-fc800d161151",
   "metadata": {},
   "source": [
    "Upload the data to S3."
   ]
  },
  {
   "cell_type": "code",
   "execution_count": 11,
   "id": "6671e6ee-7352-475b-ba49-2090a4b3700b",
   "metadata": {
    "tags": []
   },
   "outputs": [],
   "source": [
    "training_data = sagemaker_session.upload_string_as_file_body(\n",
    "    body=training_dataset.to_csv(index=False),\n",
    "    bucket=bucket,\n",
    "    key=\"AirQuality_train.csv\"\n",
    ")"
   ]
  },
  {
   "cell_type": "code",
   "execution_count": 12,
   "id": "f89da63a-343c-4aec-aa14-648b844c6b59",
   "metadata": {
    "tags": []
   },
   "outputs": [
    {
     "data": {
      "text/plain": [
       "'s3://sagemaker-eu-west-1-661670223746/AirQuality_train.csv'"
      ]
     },
     "execution_count": 12,
     "metadata": {},
     "output_type": "execute_result"
    }
   ],
   "source": [
    "training_data"
   ]
  },
  {
   "cell_type": "code",
   "execution_count": 13,
   "id": "5dadd495-6a09-4deb-9c95-979a567b7bef",
   "metadata": {
    "tags": []
   },
   "outputs": [],
   "source": [
    "test_data = sagemaker_session.upload_string_as_file_body(\n",
    "    body=test_dataset.to_csv(index=False),\n",
    "    bucket=bucket,\n",
    "    key=\"AirQuality_test.csv\"\n",
    ")"
   ]
  },
  {
   "cell_type": "code",
   "execution_count": 14,
   "id": "a155f44a-ac2a-4d59-85f0-1a99d086e320",
   "metadata": {
    "tags": []
   },
   "outputs": [
    {
     "data": {
      "text/plain": [
       "'s3://sagemaker-eu-west-1-661670223746/AirQuality_test.csv'"
      ]
     },
     "execution_count": 14,
     "metadata": {},
     "output_type": "execute_result"
    }
   ],
   "source": [
    "test_data"
   ]
  },
  {
   "cell_type": "markdown",
   "id": "074fdfd5-ff39-4c3c-9a9b-ae822e9f8e10",
   "metadata": {},
   "source": [
    "### 3. Training"
   ]
  },
  {
   "cell_type": "markdown",
   "id": "a536a153-8265-4631-8bbd-58bd71a742e2",
   "metadata": {},
   "source": [
    "Fit the model to the training set."
   ]
  },
  {
   "cell_type": "code",
   "execution_count": 15,
   "id": "811effcc-16be-4f31-b860-2477a6aab964",
   "metadata": {
    "tags": []
   },
   "outputs": [
    {
     "name": "stderr",
     "output_type": "stream",
     "text": [
      "INFO:sagemaker:Creating training-job with name: cfc-tsf-v1-6-2024-02-01-19-16-42-214\n"
     ]
    },
    {
     "name": "stdout",
     "output_type": "stream",
     "text": [
      "2024-02-01 19:16:42 Starting - Starting the training job...\n",
      "2024-02-01 19:16:56 Starting - Preparing the instances for training......\n",
      "2024-02-01 19:17:54 Downloading - Downloading input data...\n",
      "2024-02-01 19:18:19 Downloading - Downloading the training image...............\n",
      "2024-02-01 19:20:45 Training - Training image download completed. Training in progress..\u001b[34mbash: cannot set terminal process group (-1): Inappropriate ioctl for device\u001b[0m\n",
      "\u001b[34mbash: no job control in this shell\u001b[0m\n",
      "\u001b[34m2024-02-01 19:21:08,635 sagemaker-training-toolkit INFO     Imported framework sagemaker_pytorch_container.training\u001b[0m\n",
      "\u001b[34m2024-02-01 19:21:08,636 sagemaker-training-toolkit INFO     No GPUs detected (normal if no gpus installed)\u001b[0m\n",
      "\u001b[34m2024-02-01 19:21:08,637 sagemaker-training-toolkit INFO     No Neurons detected (normal if no neurons installed)\u001b[0m\n",
      "\u001b[34m2024-02-01 19:21:08,637 sagemaker-training-toolkit INFO     Failed to parse hyperparameter backbone-activation value silu to Json.\u001b[0m\n",
      "\u001b[34mReturning the value itself\u001b[0m\n",
      "\u001b[34m2024-02-01 19:21:08,647 sagemaker_pytorch_container.training INFO     Block until all host DNS lookups succeed.\u001b[0m\n",
      "\u001b[34m2024-02-01 19:21:08,649 sagemaker_pytorch_container.training INFO     Invoking user training script.\u001b[0m\n",
      "\u001b[34m2024-02-01 19:21:10,015 sagemaker-training-toolkit INFO     No GPUs detected (normal if no gpus installed)\u001b[0m\n",
      "\u001b[34m2024-02-01 19:21:10,016 sagemaker-training-toolkit INFO     No Neurons detected (normal if no neurons installed)\u001b[0m\n",
      "\u001b[34m2024-02-01 19:21:10,016 sagemaker-training-toolkit INFO     Failed to parse hyperparameter backbone-activation value silu to Json.\u001b[0m\n",
      "\u001b[34mReturning the value itself\u001b[0m\n",
      "\u001b[34m2024-02-01 19:21:10,027 sagemaker-training-toolkit INFO     No GPUs detected (normal if no gpus installed)\u001b[0m\n",
      "\u001b[34m2024-02-01 19:21:10,028 sagemaker-training-toolkit INFO     No Neurons detected (normal if no neurons installed)\u001b[0m\n",
      "\u001b[34m2024-02-01 19:21:10,028 sagemaker-training-toolkit INFO     Failed to parse hyperparameter backbone-activation value silu to Json.\u001b[0m\n",
      "\u001b[34mReturning the value itself\u001b[0m\n",
      "\u001b[34m2024-02-01 19:21:10,039 sagemaker-training-toolkit INFO     No GPUs detected (normal if no gpus installed)\u001b[0m\n",
      "\u001b[34m2024-02-01 19:21:10,040 sagemaker-training-toolkit INFO     No Neurons detected (normal if no neurons installed)\u001b[0m\n",
      "\u001b[34m2024-02-01 19:21:10,040 sagemaker-training-toolkit INFO     Failed to parse hyperparameter backbone-activation value silu to Json.\u001b[0m\n",
      "\u001b[34mReturning the value itself\u001b[0m\n",
      "\u001b[34m2024-02-01 19:21:10,051 sagemaker-training-toolkit INFO     Invoking user script\u001b[0m\n",
      "\u001b[34mTraining Env:\u001b[0m\n",
      "\u001b[34m{\n",
      "    \"additional_framework_parameters\": {},\n",
      "    \"channel_input_dirs\": {\n",
      "        \"training\": \"/opt/ml/input/data/training\"\n",
      "    },\n",
      "    \"current_host\": \"algo-1\",\n",
      "    \"current_instance_group\": \"homogeneousCluster\",\n",
      "    \"current_instance_group_hosts\": [\n",
      "        \"algo-1\"\n",
      "    ],\n",
      "    \"current_instance_type\": \"ml.m5.2xlarge\",\n",
      "    \"distribution_hosts\": [],\n",
      "    \"distribution_instance_groups\": [],\n",
      "    \"framework_module\": \"sagemaker_pytorch_container.training:main\",\n",
      "    \"hosts\": [\n",
      "        \"algo-1\"\n",
      "    ],\n",
      "    \"hyperparameters\": {\n",
      "        \"backbone-activation\": \"silu\",\n",
      "        \"backbone-dropout\": 0.0,\n",
      "        \"backbone-layers\": 1,\n",
      "        \"backbone-units\": 128,\n",
      "        \"batch-size\": 64,\n",
      "        \"context-length\": 48,\n",
      "        \"epochs\": 100,\n",
      "        \"hidden-size\": 64,\n",
      "        \"lr\": 0.001,\n",
      "        \"lr-decay\": 1.0,\n",
      "        \"minimal\": 0,\n",
      "        \"no-gate\": 0,\n",
      "        \"prediction-length\": 24,\n",
      "        \"sequence-stride\": 1,\n",
      "        \"use-ltc\": 0,\n",
      "        \"use-mixed\": 0\n",
      "    },\n",
      "    \"input_config_dir\": \"/opt/ml/input/config\",\n",
      "    \"input_data_config\": {\n",
      "        \"training\": {\n",
      "            \"TrainingInputMode\": \"File\",\n",
      "            \"S3DistributionType\": \"FullyReplicated\",\n",
      "            \"RecordWrapperType\": \"None\"\n",
      "        }\n",
      "    },\n",
      "    \"input_dir\": \"/opt/ml/input\",\n",
      "    \"instance_groups\": [\n",
      "        \"homogeneousCluster\"\n",
      "    ],\n",
      "    \"instance_groups_dict\": {\n",
      "        \"homogeneousCluster\": {\n",
      "            \"instance_group_name\": \"homogeneousCluster\",\n",
      "            \"instance_type\": \"ml.m5.2xlarge\",\n",
      "            \"hosts\": [\n",
      "                \"algo-1\"\n",
      "            ]\n",
      "        }\n",
      "    },\n",
      "    \"is_hetero\": false,\n",
      "    \"is_master\": true,\n",
      "    \"is_modelparallel_enabled\": null,\n",
      "    \"is_smddpmprun_installed\": false,\n",
      "    \"is_smddprun_installed\": false,\n",
      "    \"job_name\": \"cfc-tsf-v1-6-2024-02-01-19-16-42-214\",\n",
      "    \"log_level\": 20,\n",
      "    \"master_hostname\": \"algo-1\",\n",
      "    \"model_dir\": \"/opt/ml/model\",\n",
      "    \"module_dir\": \"/opt/ml/code\",\n",
      "    \"module_name\": \"training\",\n",
      "    \"network_interface_name\": \"eth0\",\n",
      "    \"num_cpus\": 8,\n",
      "    \"num_gpus\": 0,\n",
      "    \"num_neurons\": 0,\n",
      "    \"output_data_dir\": \"/opt/ml/output/data\",\n",
      "    \"output_dir\": \"/opt/ml/output\",\n",
      "    \"output_intermediate_dir\": \"/opt/ml/output/intermediate\",\n",
      "    \"resource_config\": {\n",
      "        \"current_host\": \"algo-1\",\n",
      "        \"current_instance_type\": \"ml.m5.2xlarge\",\n",
      "        \"current_group_name\": \"homogeneousCluster\",\n",
      "        \"hosts\": [\n",
      "            \"algo-1\"\n",
      "        ],\n",
      "        \"instance_groups\": [\n",
      "            {\n",
      "                \"instance_group_name\": \"homogeneousCluster\",\n",
      "                \"instance_type\": \"ml.m5.2xlarge\",\n",
      "                \"hosts\": [\n",
      "                    \"algo-1\"\n",
      "                ]\n",
      "            }\n",
      "        ],\n",
      "        \"network_interface_name\": \"eth0\"\n",
      "    },\n",
      "    \"user_entry_point\": \"training.py\"\u001b[0m\n",
      "\u001b[34m}\u001b[0m\n",
      "\u001b[34mEnvironment variables:\u001b[0m\n",
      "\u001b[34mSM_HOSTS=[\"algo-1\"]\u001b[0m\n",
      "\u001b[34mSM_NETWORK_INTERFACE_NAME=eth0\u001b[0m\n",
      "\u001b[34mSM_HPS={\"backbone-activation\":\"silu\",\"backbone-dropout\":0.0,\"backbone-layers\":1,\"backbone-units\":128,\"batch-size\":64,\"context-length\":48,\"epochs\":100,\"hidden-size\":64,\"lr\":0.001,\"lr-decay\":1.0,\"minimal\":0,\"no-gate\":0,\"prediction-length\":24,\"sequence-stride\":1,\"use-ltc\":0,\"use-mixed\":0}\u001b[0m\n",
      "\u001b[34mSM_USER_ENTRY_POINT=training.py\u001b[0m\n",
      "\u001b[34mSM_FRAMEWORK_PARAMS={}\u001b[0m\n",
      "\u001b[34mSM_RESOURCE_CONFIG={\"current_group_name\":\"homogeneousCluster\",\"current_host\":\"algo-1\",\"current_instance_type\":\"ml.m5.2xlarge\",\"hosts\":[\"algo-1\"],\"instance_groups\":[{\"hosts\":[\"algo-1\"],\"instance_group_name\":\"homogeneousCluster\",\"instance_type\":\"ml.m5.2xlarge\"}],\"network_interface_name\":\"eth0\"}\u001b[0m\n",
      "\u001b[34mSM_INPUT_DATA_CONFIG={\"training\":{\"RecordWrapperType\":\"None\",\"S3DistributionType\":\"FullyReplicated\",\"TrainingInputMode\":\"File\"}}\u001b[0m\n",
      "\u001b[34mSM_OUTPUT_DATA_DIR=/opt/ml/output/data\u001b[0m\n",
      "\u001b[34mSM_CHANNELS=[\"training\"]\u001b[0m\n",
      "\u001b[34mSM_CURRENT_HOST=algo-1\u001b[0m\n",
      "\u001b[34mSM_CURRENT_INSTANCE_TYPE=ml.m5.2xlarge\u001b[0m\n",
      "\u001b[34mSM_CURRENT_INSTANCE_GROUP=homogeneousCluster\u001b[0m\n",
      "\u001b[34mSM_CURRENT_INSTANCE_GROUP_HOSTS=[\"algo-1\"]\u001b[0m\n",
      "\u001b[34mSM_INSTANCE_GROUPS=[\"homogeneousCluster\"]\u001b[0m\n",
      "\u001b[34mSM_INSTANCE_GROUPS_DICT={\"homogeneousCluster\":{\"hosts\":[\"algo-1\"],\"instance_group_name\":\"homogeneousCluster\",\"instance_type\":\"ml.m5.2xlarge\"}}\u001b[0m\n",
      "\u001b[34mSM_DISTRIBUTION_INSTANCE_GROUPS=[]\u001b[0m\n",
      "\u001b[34mSM_IS_HETERO=false\u001b[0m\n",
      "\u001b[34mSM_MODULE_NAME=training\u001b[0m\n",
      "\u001b[34mSM_LOG_LEVEL=20\u001b[0m\n",
      "\u001b[34mSM_FRAMEWORK_MODULE=sagemaker_pytorch_container.training:main\u001b[0m\n",
      "\u001b[34mSM_INPUT_DIR=/opt/ml/input\u001b[0m\n",
      "\u001b[34mSM_INPUT_CONFIG_DIR=/opt/ml/input/config\u001b[0m\n",
      "\u001b[34mSM_OUTPUT_DIR=/opt/ml/output\u001b[0m\n",
      "\u001b[34mSM_NUM_CPUS=8\u001b[0m\n",
      "\u001b[34mSM_NUM_GPUS=0\u001b[0m\n",
      "\u001b[34mSM_NUM_NEURONS=0\u001b[0m\n",
      "\u001b[34mSM_MODEL_DIR=/opt/ml/model\u001b[0m\n",
      "\u001b[34mSM_MODULE_DIR=/opt/ml/code\u001b[0m\n",
      "\u001b[34mSM_TRAINING_ENV={\"additional_framework_parameters\":{},\"channel_input_dirs\":{\"training\":\"/opt/ml/input/data/training\"},\"current_host\":\"algo-1\",\"current_instance_group\":\"homogeneousCluster\",\"current_instance_group_hosts\":[\"algo-1\"],\"current_instance_type\":\"ml.m5.2xlarge\",\"distribution_hosts\":[],\"distribution_instance_groups\":[],\"framework_module\":\"sagemaker_pytorch_container.training:main\",\"hosts\":[\"algo-1\"],\"hyperparameters\":{\"backbone-activation\":\"silu\",\"backbone-dropout\":0.0,\"backbone-layers\":1,\"backbone-units\":128,\"batch-size\":64,\"context-length\":48,\"epochs\":100,\"hidden-size\":64,\"lr\":0.001,\"lr-decay\":1.0,\"minimal\":0,\"no-gate\":0,\"prediction-length\":24,\"sequence-stride\":1,\"use-ltc\":0,\"use-mixed\":0},\"input_config_dir\":\"/opt/ml/input/config\",\"input_data_config\":{\"training\":{\"RecordWrapperType\":\"None\",\"S3DistributionType\":\"FullyReplicated\",\"TrainingInputMode\":\"File\"}},\"input_dir\":\"/opt/ml/input\",\"instance_groups\":[\"homogeneousCluster\"],\"instance_groups_dict\":{\"homogeneousCluster\":{\"hosts\":[\"algo-1\"],\"instance_group_name\":\"homogeneousCluster\",\"instance_type\":\"ml.m5.2xlarge\"}},\"is_hetero\":false,\"is_master\":true,\"is_modelparallel_enabled\":null,\"is_smddpmprun_installed\":false,\"is_smddprun_installed\":false,\"job_name\":\"cfc-tsf-v1-6-2024-02-01-19-16-42-214\",\"log_level\":20,\"master_hostname\":\"algo-1\",\"model_dir\":\"/opt/ml/model\",\"module_dir\":\"/opt/ml/code\",\"module_name\":\"training\",\"network_interface_name\":\"eth0\",\"num_cpus\":8,\"num_gpus\":0,\"num_neurons\":0,\"output_data_dir\":\"/opt/ml/output/data\",\"output_dir\":\"/opt/ml/output\",\"output_intermediate_dir\":\"/opt/ml/output/intermediate\",\"resource_config\":{\"current_group_name\":\"homogeneousCluster\",\"current_host\":\"algo-1\",\"current_instance_type\":\"ml.m5.2xlarge\",\"hosts\":[\"algo-1\"],\"instance_groups\":[{\"hosts\":[\"algo-1\"],\"instance_group_name\":\"homogeneousCluster\",\"instance_type\":\"ml.m5.2xlarge\"}],\"network_interface_name\":\"eth0\"},\"user_entry_point\":\"training.py\"}\u001b[0m\n",
      "\u001b[34mSM_USER_ARGS=[\"--backbone-activation\",\"silu\",\"--backbone-dropout\",\"0.0\",\"--backbone-layers\",\"1\",\"--backbone-units\",\"128\",\"--batch-size\",\"64\",\"--context-length\",\"48\",\"--epochs\",\"100\",\"--hidden-size\",\"64\",\"--lr\",\"0.001\",\"--lr-decay\",\"1.0\",\"--minimal\",\"0\",\"--no-gate\",\"0\",\"--prediction-length\",\"24\",\"--sequence-stride\",\"1\",\"--use-ltc\",\"0\",\"--use-mixed\",\"0\"]\u001b[0m\n",
      "\u001b[34mSM_OUTPUT_INTERMEDIATE_DIR=/opt/ml/output/intermediate\u001b[0m\n",
      "\u001b[34mSM_CHANNEL_TRAINING=/opt/ml/input/data/training\u001b[0m\n",
      "\u001b[34mSM_HP_BACKBONE-ACTIVATION=silu\u001b[0m\n",
      "\u001b[34mSM_HP_BACKBONE-DROPOUT=0.0\u001b[0m\n",
      "\u001b[34mSM_HP_BACKBONE-LAYERS=1\u001b[0m\n",
      "\u001b[34mSM_HP_BACKBONE-UNITS=128\u001b[0m\n",
      "\u001b[34mSM_HP_BATCH-SIZE=64\u001b[0m\n",
      "\u001b[34mSM_HP_CONTEXT-LENGTH=48\u001b[0m\n",
      "\u001b[34mSM_HP_EPOCHS=100\u001b[0m\n",
      "\u001b[34mSM_HP_HIDDEN-SIZE=64\u001b[0m\n",
      "\u001b[34mSM_HP_LR=0.001\u001b[0m\n",
      "\u001b[34mSM_HP_LR-DECAY=1.0\u001b[0m\n",
      "\u001b[34mSM_HP_MINIMAL=0\u001b[0m\n",
      "\u001b[34mSM_HP_NO-GATE=0\u001b[0m\n",
      "\u001b[34mSM_HP_PREDICTION-LENGTH=24\u001b[0m\n",
      "\u001b[34mSM_HP_SEQUENCE-STRIDE=1\u001b[0m\n",
      "\u001b[34mSM_HP_USE-LTC=0\u001b[0m\n",
      "\u001b[34mSM_HP_USE-MIXED=0\u001b[0m\n",
      "\u001b[34mPYTHONPATH=/opt/ml/code:/opt/conda/bin:/opt/conda/lib/python310.zip:/opt/conda/lib/python3.10:/opt/conda/lib/python3.10/lib-dynload:/opt/conda/lib/python3.10/site-packages\u001b[0m\n",
      "\u001b[34mInvoking script with the following command:\u001b[0m\n",
      "\u001b[34m/opt/conda/bin/python3.10 training.py --backbone-activation silu --backbone-dropout 0.0 --backbone-layers 1 --backbone-units 128 --batch-size 64 --context-length 48 --epochs 100 --hidden-size 64 --lr 0.001 --lr-decay 1.0 --minimal 0 --no-gate 0 --prediction-length 24 --sequence-stride 1 --use-ltc 0 --use-mixed 0\u001b[0m\n",
      "\u001b[34m2024-02-01 19:21:10,051 sagemaker-training-toolkit INFO     Exceptions not imported for SageMaker Debugger as it is not installed.\u001b[0m\n",
      "\u001b[34m2024-02-01 19:21:10,051 sagemaker-training-toolkit INFO     Exceptions not imported for SageMaker TF as Tensorflow is not installed.\u001b[0m\n",
      "\u001b[34m--------------------------------------\u001b[0m\n",
      "\u001b[34mTraining on 6954 samples.\u001b[0m\n",
      "\u001b[34m--------------------------------------\u001b[0m\n",
      "\u001b[34m--------------------------------------\u001b[0m\n",
      "\u001b[34mTimespans: ['ts']\u001b[0m\n",
      "\u001b[34mFeatures: []\u001b[0m\n",
      "\u001b[34mTargets: ['y']\u001b[0m\n",
      "\u001b[34m--------------------------------------\u001b[0m\n",
      "\u001b[34m--------------------------------------\u001b[0m\n",
      "\u001b[34mBuilding the model.\u001b[0m\n",
      "\u001b[34mNumber of parameters: 44232\u001b[0m\n",
      "\u001b[34m--------------------------------------\u001b[0m\n",
      "\u001b[34m--------------------------------------\u001b[0m\n",
      "\u001b[34mTraining the model.\u001b[0m\n",
      "\u001b[34mepoch: 1, train_mse: 0.01541434 train_mae: 0.09454159\u001b[0m\n",
      "\u001b[34mepoch: 2, train_mse: 0.01488833 train_mae: 0.09347816\u001b[0m\n",
      "\u001b[34mepoch: 3, train_mse: 0.01408846 train_mae: 0.08842236\u001b[0m\n",
      "\u001b[34mepoch: 4, train_mse: 0.01397621 train_mae: 0.08857188\u001b[0m\n",
      "\u001b[34mepoch: 5, train_mse: 0.01296687 train_mae: 0.08627844\u001b[0m\n",
      "\u001b[34mepoch: 6, train_mse: 0.01262797 train_mae: 0.08424612\u001b[0m\n",
      "\u001b[34mepoch: 7, train_mse: 0.01336211 train_mae: 0.09058115\u001b[0m\n",
      "\u001b[34mepoch: 8, train_mse: 0.01178513 train_mae: 0.08106462\u001b[0m\n",
      "\u001b[34mepoch: 9, train_mse: 0.01157457 train_mae: 0.07880734\u001b[0m\n",
      "\u001b[34mepoch: 10, train_mse: 0.01187555 train_mae: 0.07781355\u001b[0m\n",
      "\u001b[34mepoch: 11, train_mse: 0.01129550 train_mae: 0.07579959\u001b[0m\n",
      "\u001b[34mepoch: 12, train_mse: 0.01021163 train_mae: 0.07562041\u001b[0m\n",
      "\u001b[34mepoch: 13, train_mse: 0.01036791 train_mae: 0.07865708\u001b[0m\n",
      "\u001b[34mepoch: 14, train_mse: 0.00927717 train_mae: 0.07020982\u001b[0m\n",
      "\u001b[34mepoch: 15, train_mse: 0.00927595 train_mae: 0.06986176\u001b[0m\n",
      "\u001b[34mepoch: 16, train_mse: 0.00917490 train_mae: 0.07047263\u001b[0m\n",
      "\u001b[34mepoch: 17, train_mse: 0.00926147 train_mae: 0.06940328\u001b[0m\n",
      "\u001b[34mepoch: 18, train_mse: 0.00897552 train_mae: 0.06714738\u001b[0m\n",
      "\u001b[34mepoch: 19, train_mse: 0.00887383 train_mae: 0.06680694\u001b[0m\n",
      "\u001b[34mepoch: 20, train_mse: 0.00907699 train_mae: 0.07086911\u001b[0m\n",
      "\u001b[34mepoch: 21, train_mse: 0.00884239 train_mae: 0.06934565\u001b[0m\n",
      "\u001b[34mepoch: 22, train_mse: 0.00877046 train_mae: 0.06754309\u001b[0m\n",
      "\u001b[34mepoch: 23, train_mse: 0.00882678 train_mae: 0.06761491\u001b[0m\n",
      "\u001b[34mepoch: 24, train_mse: 0.00869821 train_mae: 0.06651808\u001b[0m\n",
      "\u001b[34mepoch: 25, train_mse: 0.00873946 train_mae: 0.06812026\u001b[0m\n",
      "\u001b[34mepoch: 26, train_mse: 0.00853716 train_mae: 0.06555054\u001b[0m\n",
      "\u001b[34mepoch: 27, train_mse: 0.00865071 train_mae: 0.06777490\u001b[0m\n",
      "\u001b[34mepoch: 28, train_mse: 0.00880421 train_mae: 0.07031853\u001b[0m\n",
      "\u001b[34mepoch: 29, train_mse: 0.00855143 train_mae: 0.06510580\u001b[0m\n",
      "\u001b[34mepoch: 30, train_mse: 0.00850755 train_mae: 0.06570688\u001b[0m\n",
      "\u001b[34mepoch: 31, train_mse: 0.00819471 train_mae: 0.06487321\u001b[0m\n",
      "\u001b[34mepoch: 32, train_mse: 0.00834751 train_mae: 0.06634866\u001b[0m\n",
      "\u001b[34mepoch: 33, train_mse: 0.00870398 train_mae: 0.06957414\u001b[0m\n",
      "\u001b[34mepoch: 34, train_mse: 0.00811708 train_mae: 0.06500015\u001b[0m\n",
      "\u001b[34mepoch: 35, train_mse: 0.00828285 train_mae: 0.06666891\u001b[0m\n",
      "\u001b[34mepoch: 36, train_mse: 0.00792981 train_mae: 0.06430439\u001b[0m\n",
      "\u001b[34mepoch: 37, train_mse: 0.00827602 train_mae: 0.06432961\u001b[0m\n",
      "\u001b[34mepoch: 38, train_mse: 0.00808787 train_mae: 0.06457106\u001b[0m\n",
      "\u001b[34mepoch: 39, train_mse: 0.00807551 train_mae: 0.06553803\u001b[0m\n",
      "\u001b[34mepoch: 40, train_mse: 0.00796069 train_mae: 0.06356382\u001b[0m\n",
      "\u001b[34mepoch: 41, train_mse: 0.00804016 train_mae: 0.06401362\u001b[0m\n",
      "\u001b[34mepoch: 42, train_mse: 0.00794937 train_mae: 0.06465533\u001b[0m\n",
      "\u001b[34mepoch: 43, train_mse: 0.00780714 train_mae: 0.06435911\u001b[0m\n",
      "\u001b[34mepoch: 44, train_mse: 0.00815528 train_mae: 0.06367372\u001b[0m\n",
      "\u001b[34mepoch: 45, train_mse: 0.00793490 train_mae: 0.06474706\u001b[0m\n",
      "\u001b[34mepoch: 46, train_mse: 0.00763512 train_mae: 0.06327693\u001b[0m\n",
      "\u001b[34mepoch: 47, train_mse: 0.00780611 train_mae: 0.06273852\u001b[0m\n",
      "\u001b[34mepoch: 48, train_mse: 0.00794166 train_mae: 0.06311096\u001b[0m\n",
      "\u001b[34mepoch: 49, train_mse: 0.00751880 train_mae: 0.06228694\u001b[0m\n",
      "\u001b[34mepoch: 50, train_mse: 0.00765676 train_mae: 0.06350914\u001b[0m\n",
      "\u001b[34mepoch: 51, train_mse: 0.00764889 train_mae: 0.06413575\u001b[0m\n",
      "\u001b[34mepoch: 52, train_mse: 0.00749381 train_mae: 0.06318181\u001b[0m\n",
      "\u001b[34mepoch: 53, train_mse: 0.00742821 train_mae: 0.06186795\u001b[0m\n",
      "\u001b[34mepoch: 54, train_mse: 0.00748440 train_mae: 0.06260026\u001b[0m\n",
      "\u001b[34mepoch: 55, train_mse: 0.00741034 train_mae: 0.06111494\u001b[0m\n",
      "\u001b[34mepoch: 56, train_mse: 0.00762758 train_mae: 0.06340682\u001b[0m\n",
      "\u001b[34mepoch: 57, train_mse: 0.00719388 train_mae: 0.06068669\u001b[0m\n",
      "\u001b[34mepoch: 58, train_mse: 0.00744543 train_mae: 0.06126284\u001b[0m\n",
      "\u001b[34mepoch: 59, train_mse: 0.00720093 train_mae: 0.05994676\u001b[0m\n",
      "\u001b[34mepoch: 60, train_mse: 0.00928680 train_mae: 0.06831095\u001b[0m\n",
      "\u001b[34mepoch: 61, train_mse: 0.00747323 train_mae: 0.06195652\u001b[0m\n",
      "\u001b[34mepoch: 62, train_mse: 0.00764434 train_mae: 0.06386712\u001b[0m\n",
      "\u001b[34mepoch: 63, train_mse: 0.00722036 train_mae: 0.06106000\u001b[0m\n",
      "\u001b[34mepoch: 64, train_mse: 0.00714058 train_mae: 0.06128097\u001b[0m\n",
      "\u001b[34mepoch: 65, train_mse: 0.00685266 train_mae: 0.05860341\u001b[0m\n",
      "\u001b[34mepoch: 66, train_mse: 0.00716906 train_mae: 0.06092221\u001b[0m\n",
      "\u001b[34mepoch: 67, train_mse: 0.00801632 train_mae: 0.06470039\u001b[0m\n",
      "\u001b[34mepoch: 68, train_mse: 0.00732766 train_mae: 0.06125120\u001b[0m\n",
      "\u001b[34mepoch: 69, train_mse: 0.00702405 train_mae: 0.05909241\u001b[0m\n",
      "\u001b[34mepoch: 70, train_mse: 0.00693889 train_mae: 0.05941400\u001b[0m\n",
      "\u001b[34mepoch: 71, train_mse: 0.00692371 train_mae: 0.05878776\u001b[0m\n",
      "\u001b[34mepoch: 72, train_mse: 0.00717914 train_mae: 0.06178757\u001b[0m\n",
      "\u001b[34mepoch: 73, train_mse: 0.00690716 train_mae: 0.06059150\u001b[0m\n",
      "\u001b[34mepoch: 74, train_mse: 0.00657256 train_mae: 0.05757649\u001b[0m\n",
      "\u001b[34mepoch: 75, train_mse: 0.00689201 train_mae: 0.05980852\u001b[0m\n",
      "\u001b[34mepoch: 76, train_mse: 0.00650236 train_mae: 0.05709944\u001b[0m\n",
      "\u001b[34mepoch: 77, train_mse: 0.00659423 train_mae: 0.05776390\u001b[0m\n",
      "\u001b[34mepoch: 78, train_mse: 0.00670406 train_mae: 0.05831898\u001b[0m\n",
      "\u001b[34mepoch: 79, train_mse: 0.00706706 train_mae: 0.05982839\u001b[0m\n",
      "\u001b[34mepoch: 80, train_mse: 0.00645058 train_mae: 0.05649969\u001b[0m\n",
      "\u001b[34mepoch: 81, train_mse: 0.00628000 train_mae: 0.05656439\u001b[0m\n",
      "\u001b[34mepoch: 82, train_mse: 0.00659770 train_mae: 0.05805962\u001b[0m\n",
      "\u001b[34mepoch: 83, train_mse: 0.00634408 train_mae: 0.05631300\u001b[0m\n",
      "\u001b[34mepoch: 84, train_mse: 0.00709369 train_mae: 0.06200211\u001b[0m\n",
      "\u001b[34mepoch: 85, train_mse: 0.00669403 train_mae: 0.05912375\u001b[0m\n",
      "\u001b[34mepoch: 86, train_mse: 0.00632699 train_mae: 0.05674499\u001b[0m\n",
      "\u001b[34mepoch: 87, train_mse: 0.00621427 train_mae: 0.05628942\u001b[0m\n",
      "\u001b[34mepoch: 88, train_mse: 0.00677423 train_mae: 0.05782944\u001b[0m\n",
      "\u001b[34mepoch: 89, train_mse: 0.00632095 train_mae: 0.05588263\u001b[0m\n",
      "\u001b[34mepoch: 90, train_mse: 0.00609809 train_mae: 0.05568987\u001b[0m\n",
      "\u001b[34mepoch: 91, train_mse: 0.00612451 train_mae: 0.05558049\u001b[0m\n",
      "\u001b[34mepoch: 92, train_mse: 0.00610578 train_mae: 0.05473892\u001b[0m\n",
      "\u001b[34mepoch: 93, train_mse: 0.00603277 train_mae: 0.05465142\u001b[0m\n",
      "\u001b[34mepoch: 94, train_mse: 0.00613270 train_mae: 0.05480123\u001b[0m\n",
      "\u001b[34mepoch: 95, train_mse: 0.00667468 train_mae: 0.05645886\u001b[0m\n",
      "\u001b[34mepoch: 96, train_mse: 0.00598308 train_mae: 0.05505668\u001b[0m\n",
      "\u001b[34mepoch: 97, train_mse: 0.00597279 train_mae: 0.05376446\u001b[0m\n",
      "\u001b[34mepoch: 98, train_mse: 0.00626432 train_mae: 0.05640355\u001b[0m\n",
      "\u001b[34mepoch: 99, train_mse: 0.00591489 train_mae: 0.05421834\u001b[0m\n",
      "\u001b[34mepoch: 100, train_mse: 0.00580309 train_mae: 0.05439800\u001b[0m\n",
      "\u001b[34m--------------------------------------\u001b[0m\n",
      "\u001b[34mScoring the model.\u001b[0m\n",
      "\u001b[34mtrain:mse 0.00580309\u001b[0m\n",
      "\u001b[34mtrain:mae 0.05439800\u001b[0m\n",
      "\u001b[34m--------------------------------------\u001b[0m\n",
      "\u001b[34m2024-02-01 19:28:50,493 sagemaker-training-toolkit INFO     Waiting for the process to finish and give a return code.\u001b[0m\n",
      "\u001b[34m2024-02-01 19:28:50,493 sagemaker-training-toolkit INFO     Done waiting for a return code. Received 0 from exiting process.\u001b[0m\n",
      "\u001b[34m2024-02-01 19:28:50,493 sagemaker-training-toolkit INFO     Reporting training SUCCESS\u001b[0m\n",
      "\n",
      "2024-02-01 19:29:08 Uploading - Uploading generated training model\n",
      "2024-02-01 19:29:08 Completed - Training job completed\n",
      "Training seconds: 674\n",
      "Billable seconds: 674\n"
     ]
    }
   ],
   "source": [
    "estimator = sagemaker.algorithm.AlgorithmEstimator(\n",
    "    algorithm_arn=algo_arn,\n",
    "    role=role,\n",
    "    instance_count=1,\n",
    "    instance_type=instance_type,\n",
    "    input_mode=\"File\",\n",
    "    sagemaker_session=sagemaker_session,\n",
    "    hyperparameters={\n",
    "        \"context-length\": context_length,\n",
    "        \"prediction-length\": prediction_length,\n",
    "        \"sequence-stride\": 1,\n",
    "        \"backbone-layers\": 1,\n",
    "        \"backbone-units\": 128,\n",
    "        \"backbone-activation\": \"silu\",\n",
    "        \"backbone-dropout\": 0,\n",
    "        \"hidden-size\": 64,\n",
    "        \"minimal\": 0,\n",
    "        \"no-gate\": 0,\n",
    "        \"use-ltc\": 0,\n",
    "        \"use-mixed\": 0,\n",
    "        \"lr\": 0.001,\n",
    "        \"lr-decay\": 1.0,\n",
    "        \"batch-size\": 64,\n",
    "        \"epochs\": 100,\n",
    "    },\n",
    ")\n",
    "\n",
    "estimator.fit({\"training\": training_data})"
   ]
  },
  {
   "cell_type": "markdown",
   "id": "b9b640bc-4c81-4040-bd78-8bad6dbd89cb",
   "metadata": {},
   "source": [
    "### 4. Inference"
   ]
  },
  {
   "cell_type": "markdown",
   "id": "d201c417-2f70-40e3-89c0-68addd15035a",
   "metadata": {},
   "source": [
    "Generate the test set predictions."
   ]
  },
  {
   "cell_type": "code",
   "execution_count": 16,
   "id": "7f13e378-b0e4-4cd3-8dba-31c578466c7f",
   "metadata": {
    "tags": []
   },
   "outputs": [
    {
     "name": "stderr",
     "output_type": "stream",
     "text": [
      "INFO:sagemaker:Creating model package with name: cfc-tsf-v1-6-2024-02-01-19-29-32-044\n"
     ]
    },
    {
     "name": "stdout",
     "output_type": "stream",
     "text": [
      "........."
     ]
    },
    {
     "name": "stderr",
     "output_type": "stream",
     "text": [
      "INFO:sagemaker:Creating model with name: cfc-tsf-v1-6-2024-02-01-19-29-32-044-2024-02-01-19-30-17-571\n"
     ]
    },
    {
     "name": "stdout",
     "output_type": "stream",
     "text": [
      "\n"
     ]
    },
    {
     "name": "stderr",
     "output_type": "stream",
     "text": [
      "INFO:sagemaker:Creating transform job with name: cfc-tsf-v1-6-2024-02-01-19-30-18-257\n"
     ]
    },
    {
     "name": "stdout",
     "output_type": "stream",
     "text": [
      ".............................................\n",
      "\u001b[34mWarning: TorchServe is using non-default JVM parameters: -XX:-UseContainerSupport\u001b[0m\n",
      "\u001b[34mWARNING: sun.reflect.Reflection.getCallerClass is not supported. This will impact performance.\u001b[0m\n",
      "\u001b[34m2024-02-01T19:37:53,354 [WARN ] main org.pytorch.serve.util.ConfigManager - Your torchserve instance can access any URL to load models. When deploying to production, make sure to limit the set of allowed_urls in config.properties\u001b[0m\n",
      "\u001b[34m2024-02-01T19:37:53,357 [INFO ] main org.pytorch.serve.servingsdk.impl.PluginsManager - Initializing plugins manager...\u001b[0m\n",
      "\u001b[34m2024-02-01T19:37:53,419 [INFO ] main org.pytorch.serve.metrics.configuration.MetricConfiguration - Successfully loaded metrics configuration from /opt/conda/lib/python3.10/site-packages/ts/configs/metrics.yaml\u001b[0m\n",
      "\u001b[34m2024-02-01T19:37:53,530 [INFO ] main org.pytorch.serve.ModelServer - \u001b[0m\n",
      "\u001b[34mTorchserve version: 0.8.2\u001b[0m\n",
      "\u001b[34mTS Home: /opt/conda/lib/python3.10/site-packages\u001b[0m\n",
      "\u001b[34mCurrent directory: /\u001b[0m\n",
      "\u001b[34mTemp directory: /home/model-server/tmp\u001b[0m\n",
      "\u001b[34mMetrics config path: /opt/conda/lib/python3.10/site-packages/ts/configs/metrics.yaml\u001b[0m\n",
      "\u001b[34mNumber of GPUs: 0\u001b[0m\n",
      "\u001b[34mNumber of CPUs: 8\u001b[0m\n",
      "\u001b[34mMax heap size: 7924 M\u001b[0m\n",
      "\u001b[34mPython executable: /opt/conda/bin/python3.10\u001b[0m\n",
      "\u001b[34mConfig file: /etc/sagemaker-ts.properties\u001b[0m\n",
      "\u001b[34mInference address: http://0.0.0.0:8080\u001b[0m\n",
      "\u001b[34mManagement address: http://0.0.0.0:8080\u001b[0m\n",
      "\u001b[34mMetrics address: http://127.0.0.1:8082\u001b[0m\n",
      "\u001b[34mModel Store: /.sagemaker/ts/models\u001b[0m\n",
      "\u001b[34mInitial Models: model=/opt/ml/model\u001b[0m\n",
      "\u001b[34mLog dir: /logs\u001b[0m\n",
      "\u001b[34mMetrics dir: /logs\u001b[0m\n",
      "\u001b[34mNetty threads: 0\u001b[0m\n",
      "\u001b[34mNetty client threads: 0\u001b[0m\n",
      "\u001b[34mDefault workers per model: 8\u001b[0m\n",
      "\u001b[34mBlacklist Regex: N/A\u001b[0m\n",
      "\u001b[34mMaximum Response Size: 6553500\u001b[0m\n",
      "\u001b[34mMaximum Request Size: 6553500\u001b[0m\n",
      "\u001b[34mLimit Maximum Image Pixels: true\u001b[0m\n",
      "\u001b[34mPrefer direct buffer: false\u001b[0m\n",
      "\u001b[34mAllowed Urls: [file://.*|http(s)?://.*]\u001b[0m\n",
      "\u001b[34mCustom python dependency for model allowed: false\u001b[0m\n",
      "\u001b[34mEnable metrics API: true\u001b[0m\n",
      "\u001b[34mMetrics mode: log\u001b[0m\n",
      "\u001b[34mDisable system metrics: true\u001b[0m\n",
      "\u001b[34mWorkflow Store: /.sagemaker/ts/models\u001b[0m\n",
      "\u001b[34mModel config: N/A\u001b[0m\n",
      "\u001b[34m2024-02-01T19:37:53,537 [INFO ] main org.pytorch.serve.servingsdk.impl.PluginsManager -  Loading snapshot serializer plugin...\u001b[0m\n",
      "\u001b[34m2024-02-01T19:37:53,555 [INFO ] main org.pytorch.serve.ModelServer - Loading initial models: /opt/ml/model\u001b[0m\n",
      "\u001b[34m2024-02-01T19:37:53,559 [WARN ] main org.pytorch.serve.archive.model.ModelArchive - Model archive version is not defined. Please upgrade to torch-model-archiver 0.2.0 or higher\u001b[0m\n",
      "\u001b[34m2024-02-01T19:37:53,560 [WARN ] main org.pytorch.serve.archive.model.ModelArchive - Model archive createdOn is not defined. Please upgrade to torch-model-archiver 0.2.0 or higher\u001b[0m\n",
      "\u001b[34m2024-02-01T19:37:53,563 [INFO ] main org.pytorch.serve.wlm.ModelManager - Model model loaded.\u001b[0m\n",
      "\u001b[34m2024-02-01T19:37:53,579 [INFO ] main org.pytorch.serve.ModelServer - Initialize Inference server with: EpollServerSocketChannel.\u001b[0m\n",
      "\u001b[34m2024-02-01T19:37:53,824 [INFO ] main org.pytorch.serve.ModelServer - Inference API bind to: http://0.0.0.0:8080\u001b[0m\n",
      "\u001b[34m2024-02-01T19:37:53,824 [INFO ] main org.pytorch.serve.ModelServer - Initialize Metrics server with: EpollServerSocketChannel.\u001b[0m\n",
      "\u001b[34m2024-02-01T19:37:53,892 [INFO ] main org.pytorch.serve.ModelServer - Metrics API bind to: http://127.0.0.1:8082\u001b[0m\n",
      "\u001b[34mModel server started.\u001b[0m\n",
      "\u001b[34m2024-02-01T19:37:56,287 [INFO ] W-9005-model_1.0-stdout MODEL_LOG - s_name_part0=/home/model-server/tmp/.ts.sock, s_name_part1=9005, pid=69\u001b[0m\n",
      "\u001b[34m2024-02-01T19:37:56,289 [INFO ] W-9005-model_1.0-stdout MODEL_LOG - Listening on port: /home/model-server/tmp/.ts.sock.9005\u001b[0m\n",
      "\u001b[34m2024-02-01T19:37:56,294 [INFO ] W-9004-model_1.0-stdout MODEL_LOG - s_name_part0=/home/model-server/tmp/.ts.sock, s_name_part1=9004, pid=63\u001b[0m\n",
      "\u001b[34m2024-02-01T19:37:56,296 [INFO ] W-9004-model_1.0-stdout MODEL_LOG - Listening on port: /home/model-server/tmp/.ts.sock.9004\u001b[0m\n",
      "\u001b[34m2024-02-01T19:37:56,346 [INFO ] W-9006-model_1.0-stdout MODEL_LOG - s_name_part0=/home/model-server/tmp/.ts.sock, s_name_part1=9006, pid=67\u001b[0m\n",
      "\u001b[34m2024-02-01T19:37:56,347 [INFO ] W-9006-model_1.0-stdout MODEL_LOG - Listening on port: /home/model-server/tmp/.ts.sock.9006\u001b[0m\n",
      "\u001b[34m2024-02-01T19:37:56,358 [INFO ] W-9007-model_1.0-stdout MODEL_LOG - s_name_part0=/home/model-server/tmp/.ts.sock, s_name_part1=9007, pid=64\u001b[0m\n",
      "\u001b[34m2024-02-01T19:37:56,359 [INFO ] W-9007-model_1.0-stdout MODEL_LOG - Listening on port: /home/model-server/tmp/.ts.sock.9007\u001b[0m\n",
      "\u001b[34m2024-02-01T19:37:56,388 [INFO ] W-9004-model_1.0-stdout MODEL_LOG - Successfully loaded /opt/conda/lib/python3.10/site-packages/ts/configs/metrics.yaml.\u001b[0m\n",
      "\u001b[34m2024-02-01T19:37:56,391 [INFO ] W-9004-model_1.0-stdout MODEL_LOG - [PID]63\u001b[0m\n",
      "\u001b[34m2024-02-01T19:37:56,391 [INFO ] W-9004-model_1.0-stdout MODEL_LOG - Torch worker started.\u001b[0m\n",
      "\u001b[34m2024-02-01T19:37:56,398 [INFO ] W-9004-model_1.0 org.pytorch.serve.wlm.WorkerThread - Connecting to: /home/model-server/tmp/.ts.sock.9004\u001b[0m\n",
      "\u001b[34m2024-02-01T19:37:56,401 [INFO ] W-9004-model_1.0-stdout MODEL_LOG - Python runtime: 3.10.9\u001b[0m\n",
      "\u001b[34m2024-02-01T19:37:56,423 [INFO ] W-9004-model_1.0-stdout MODEL_LOG - Connection accepted: /home/model-server/tmp/.ts.sock.9004.\u001b[0m\n",
      "\u001b[34m2024-02-01T19:37:56,426 [INFO ] W-9004-model_1.0 org.pytorch.serve.wlm.WorkerThread - Flushing req.cmd LOAD to backend at: 1706816276426\u001b[0m\n",
      "\u001b[34m2024-02-01T19:37:56,450 [INFO ] W-9007-model_1.0-stdout MODEL_LOG - Successfully loaded /opt/conda/lib/python3.10/site-packages/ts/configs/metrics.yaml.\u001b[0m\n",
      "\u001b[34m2024-02-01T19:37:56,451 [INFO ] W-9007-model_1.0-stdout MODEL_LOG - [PID]64\u001b[0m\n",
      "\u001b[34m2024-02-01T19:37:56,452 [INFO ] W-9007-model_1.0-stdout MODEL_LOG - Torch worker started.\u001b[0m\n",
      "\u001b[34m2024-02-01T19:37:56,452 [INFO ] W-9007-model_1.0 org.pytorch.serve.wlm.WorkerThread - Connecting to: /home/model-server/tmp/.ts.sock.9007\u001b[0m\n",
      "\u001b[34m2024-02-01T19:37:56,455 [INFO ] W-9007-model_1.0-stdout MODEL_LOG - Python runtime: 3.10.9\u001b[0m\n",
      "\u001b[34m2024-02-01T19:37:56,458 [INFO ] W-9005-model_1.0-stdout MODEL_LOG - Successfully loaded /opt/conda/lib/python3.10/site-packages/ts/configs/metrics.yaml.\u001b[0m\n",
      "\u001b[34m2024-02-01T19:37:56,459 [INFO ] W-9005-model_1.0-stdout MODEL_LOG - [PID]69\u001b[0m\n",
      "\u001b[34m2024-02-01T19:37:56,459 [INFO ] W-9005-model_1.0-stdout MODEL_LOG - Torch worker started.\u001b[0m\n",
      "\u001b[34m2024-02-01T19:37:56,460 [INFO ] W-9005-model_1.0-stdout MODEL_LOG - Python runtime: 3.10.9\u001b[0m\n",
      "\u001b[34m2024-02-01T19:37:56,460 [INFO ] W-9005-model_1.0 org.pytorch.serve.wlm.WorkerThread - Connecting to: /home/model-server/tmp/.ts.sock.9005\u001b[0m\n",
      "\u001b[34m2024-02-01T19:37:56,463 [INFO ] W-9007-model_1.0 org.pytorch.serve.wlm.WorkerThread - Flushing req.cmd LOAD to backend at: 1706816276463\u001b[0m\n",
      "\u001b[34m2024-02-01T19:37:56,465 [INFO ] W-9007-model_1.0-stdout MODEL_LOG - Connection accepted: /home/model-server/tmp/.ts.sock.9007.\u001b[0m\n",
      "\u001b[34m2024-02-01T19:37:56,481 [INFO ] W-9005-model_1.0-stdout MODEL_LOG - Connection accepted: /home/model-server/tmp/.ts.sock.9005.\u001b[0m\n",
      "\u001b[34m2024-02-01T19:37:56,482 [INFO ] W-9005-model_1.0 org.pytorch.serve.wlm.WorkerThread - Flushing req.cmd LOAD to backend at: 1706816276482\u001b[0m\n",
      "\u001b[34m2024-02-01T19:37:56,508 [INFO ] W-9006-model_1.0-stdout MODEL_LOG - Successfully loaded /opt/conda/lib/python3.10/site-packages/ts/configs/metrics.yaml.\u001b[0m\n",
      "\u001b[34m2024-02-01T19:37:56,511 [INFO ] W-9006-model_1.0-stdout MODEL_LOG - [PID]67\u001b[0m\n",
      "\u001b[34m2024-02-01T19:37:56,511 [INFO ] W-9006-model_1.0-stdout MODEL_LOG - Torch worker started.\u001b[0m\n",
      "\u001b[34m2024-02-01T19:37:56,511 [INFO ] W-9006-model_1.0 org.pytorch.serve.wlm.WorkerThread - Connecting to: /home/model-server/tmp/.ts.sock.9006\u001b[0m\n",
      "\u001b[34m2024-02-01T19:37:56,513 [INFO ] W-9006-model_1.0-stdout MODEL_LOG - Python runtime: 3.10.9\u001b[0m\n",
      "\u001b[34m2024-02-01T19:37:56,515 [INFO ] W-9004-model_1.0-stdout MODEL_LOG - model_name: model, batchSize: 1\u001b[0m\n",
      "\u001b[34m2024-02-01T19:37:56,524 [INFO ] W-9006-model_1.0-stdout MODEL_LOG - Connection accepted: /home/model-server/tmp/.ts.sock.9006.\u001b[0m\n",
      "\u001b[34m2024-02-01T19:37:56,524 [INFO ] W-9006-model_1.0 org.pytorch.serve.wlm.WorkerThread - Flushing req.cmd LOAD to backend at: 1706816276524\u001b[0m\n",
      "\u001b[34m2024-02-01T19:37:56,525 [INFO ] W-9000-model_1.0-stdout MODEL_LOG - s_name_part0=/home/model-server/tmp/.ts.sock, s_name_part1=9000, pid=62\u001b[0m\n",
      "\u001b[34m2024-02-01T19:37:56,526 [INFO ] W-9000-model_1.0-stdout MODEL_LOG - Listening on port: /home/model-server/tmp/.ts.sock.9000\u001b[0m\n",
      "\u001b[34m2024-02-01T19:37:56,535 [INFO ] W-9005-model_1.0-stdout MODEL_LOG - model_name: model, batchSize: 1\u001b[0m\n",
      "\u001b[34m2024-02-01T19:37:56,536 [INFO ] W-9007-model_1.0-stdout MODEL_LOG - model_name: model, batchSize: 1\u001b[0m\n",
      "\u001b[34m2024-02-01T19:37:56,549 [INFO ] W-9002-model_1.0-stdout MODEL_LOG - s_name_part0=/home/model-server/tmp/.ts.sock, s_name_part1=9002, pid=66\u001b[0m\n",
      "\u001b[34m2024-02-01T19:37:56,555 [INFO ] W-9002-model_1.0-stdout MODEL_LOG - Listening on port: /home/model-server/tmp/.ts.sock.9002\u001b[0m\n",
      "\u001b[34m2024-02-01T19:37:56,577 [INFO ] W-9001-model_1.0-stdout MODEL_LOG - s_name_part0=/home/model-server/tmp/.ts.sock, s_name_part1=9001, pid=68\u001b[0m\n",
      "\u001b[34m2024-02-01T19:37:56,578 [INFO ] W-9001-model_1.0-stdout MODEL_LOG - Listening on port: /home/model-server/tmp/.ts.sock.9001\u001b[0m\n",
      "\u001b[34m2024-02-01T19:37:56,587 [INFO ] W-9006-model_1.0-stdout MODEL_LOG - model_name: model, batchSize: 1\u001b[0m\n",
      "\u001b[34m2024-02-01T19:37:56,597 [INFO ] W-9003-model_1.0-stdout MODEL_LOG - s_name_part0=/home/model-server/tmp/.ts.sock, s_name_part1=9003, pid=65\u001b[0m\n",
      "\u001b[34m2024-02-01T19:37:56,598 [INFO ] W-9003-model_1.0-stdout MODEL_LOG - Listening on port: /home/model-server/tmp/.ts.sock.9003\u001b[0m\n",
      "\u001b[34m2024-02-01T19:37:56,703 [INFO ] W-9000-model_1.0-stdout MODEL_LOG - Successfully loaded /opt/conda/lib/python3.10/site-packages/ts/configs/metrics.yaml.\u001b[0m\n",
      "\u001b[34m2024-02-01T19:37:56,720 [INFO ] W-9000-model_1.0-stdout MODEL_LOG - [PID]62\u001b[0m\n",
      "\u001b[34m2024-02-01T19:37:56,721 [INFO ] W-9000-model_1.0 org.pytorch.serve.wlm.WorkerThread - Connecting to: /home/model-server/tmp/.ts.sock.9000\u001b[0m\n",
      "\u001b[34m2024-02-01T19:37:56,721 [INFO ] W-9000-model_1.0-stdout MODEL_LOG - Torch worker started.\u001b[0m\n",
      "\u001b[34m2024-02-01T19:37:56,725 [INFO ] W-9000-model_1.0-stdout MODEL_LOG - Python runtime: 3.10.9\u001b[0m\n",
      "\u001b[34m2024-02-01T19:37:56,728 [INFO ] W-9002-model_1.0-stdout MODEL_LOG - Successfully loaded /opt/conda/lib/python3.10/site-packages/ts/configs/metrics.yaml.\u001b[0m\n",
      "\u001b[34m2024-02-01T19:37:56,729 [INFO ] W-9002-model_1.0-stdout MODEL_LOG - [PID]66\u001b[0m\n",
      "\u001b[34m2024-02-01T19:37:56,730 [INFO ] W-9002-model_1.0-stdout MODEL_LOG - Torch worker started.\u001b[0m\n",
      "\u001b[34m2024-02-01T19:37:56,730 [INFO ] W-9002-model_1.0 org.pytorch.serve.wlm.WorkerThread - Connecting to: /home/model-server/tmp/.ts.sock.9002\u001b[0m\n",
      "\u001b[34m2024-02-01T19:37:56,731 [INFO ] W-9002-model_1.0-stdout MODEL_LOG - Python runtime: 3.10.9\u001b[0m\n",
      "\u001b[34m2024-02-01T19:37:56,743 [INFO ] W-9000-model_1.0-stdout MODEL_LOG - Connection accepted: /home/model-server/tmp/.ts.sock.9000.\u001b[0m\n",
      "\u001b[34m2024-02-01T19:37:56,747 [INFO ] W-9000-model_1.0 org.pytorch.serve.wlm.WorkerThread - Flushing req.cmd LOAD to backend at: 1706816276747\u001b[0m\n",
      "\u001b[34m2024-02-01T19:37:56,757 [INFO ] W-9002-model_1.0-stdout MODEL_LOG - Connection accepted: /home/model-server/tmp/.ts.sock.9002.\u001b[0m\n",
      "\u001b[34m2024-02-01T19:37:56,759 [INFO ] W-9002-model_1.0 org.pytorch.serve.wlm.WorkerThread - Flushing req.cmd LOAD to backend at: 1706816276759\u001b[0m\n",
      "\u001b[34m2024-02-01T19:37:56,821 [INFO ] W-9002-model_1.0-stdout MODEL_LOG - model_name: model, batchSize: 1\u001b[0m\n",
      "\u001b[34m2024-02-01T19:37:56,841 [INFO ] W-9003-model_1.0-stdout MODEL_LOG - Successfully loaded /opt/conda/lib/python3.10/site-packages/ts/configs/metrics.yaml.\u001b[0m\n",
      "\u001b[34m2024-02-01T19:37:56,844 [INFO ] W-9001-model_1.0-stdout MODEL_LOG - Successfully loaded /opt/conda/lib/python3.10/site-packages/ts/configs/metrics.yaml.\u001b[0m\n",
      "\u001b[34m2024-02-01T19:37:56,845 [INFO ] W-9001-model_1.0-stdout MODEL_LOG - [PID]68\u001b[0m\n",
      "\u001b[34m2024-02-01T19:37:56,846 [INFO ] W-9001-model_1.0-stdout MODEL_LOG - Torch worker started.\u001b[0m\n",
      "\u001b[34m2024-02-01T19:37:56,847 [INFO ] W-9001-model_1.0 org.pytorch.serve.wlm.WorkerThread - Connecting to: /home/model-server/tmp/.ts.sock.9001\u001b[0m\n",
      "\u001b[34m2024-02-01T19:37:56,848 [INFO ] W-9001-model_1.0-stdout MODEL_LOG - Python runtime: 3.10.9\u001b[0m\n",
      "\u001b[34m2024-02-01T19:37:56,851 [INFO ] W-9000-model_1.0-stdout MODEL_LOG - model_name: model, batchSize: 1\u001b[0m\n",
      "\u001b[34m2024-02-01T19:37:56,854 [INFO ] W-9003-model_1.0-stdout MODEL_LOG - [PID]65\u001b[0m\n",
      "\u001b[34m2024-02-01T19:37:56,855 [INFO ] W-9003-model_1.0-stdout MODEL_LOG - Torch worker started.\u001b[0m\n",
      "\u001b[34m2024-02-01T19:37:56,855 [INFO ] W-9003-model_1.0-stdout MODEL_LOG - Python runtime: 3.10.9\u001b[0m\n",
      "\u001b[34m2024-02-01T19:37:56,856 [INFO ] W-9001-model_1.0-stdout MODEL_LOG - Connection accepted: /home/model-server/tmp/.ts.sock.9001.\u001b[0m\n",
      "\u001b[34m2024-02-01T19:37:56,856 [INFO ] W-9001-model_1.0 org.pytorch.serve.wlm.WorkerThread - Flushing req.cmd LOAD to backend at: 1706816276856\u001b[0m\n",
      "\u001b[34m2024-02-01T19:37:56,857 [INFO ] W-9003-model_1.0 org.pytorch.serve.wlm.WorkerThread - Connecting to: /home/model-server/tmp/.ts.sock.9003\u001b[0m\n",
      "\u001b[34m2024-02-01T19:37:56,902 [INFO ] W-9003-model_1.0-stdout MODEL_LOG - Connection accepted: /home/model-server/tmp/.ts.sock.9003.\u001b[0m\n",
      "\u001b[34m2024-02-01T19:37:56,912 [INFO ] W-9003-model_1.0 org.pytorch.serve.wlm.WorkerThread - Flushing req.cmd LOAD to backend at: 1706816276912\u001b[0m\n",
      "\u001b[34m2024-02-01T19:37:56,951 [INFO ] W-9001-model_1.0-stdout MODEL_LOG - model_name: model, batchSize: 1\u001b[0m\n",
      "\u001b[34m2024-02-01T19:37:56,975 [INFO ] W-9003-model_1.0-stdout MODEL_LOG - model_name: model, batchSize: 1\u001b[0m\n",
      "\u001b[34m2024-02-01T19:37:57,366 [INFO ] W-9006-model_1.0 org.pytorch.serve.wlm.WorkerThread - Backend response time: 784\u001b[0m\n",
      "\u001b[34m2024-02-01T19:37:57,366 [INFO ] W-9006-model_1.0 TS_METRICS - WorkerLoadTime.Milliseconds:3791.0|#WorkerName:W-9006-model_1.0,Level:Host|#hostname:9b583c76751d,timestamp:1706816277\u001b[0m\n",
      "\u001b[34m2024-02-01T19:37:57,367 [INFO ] W-9006-model_1.0 TS_METRICS - WorkerThreadTime.Milliseconds:59.0|#Level:Host|#hostname:9b583c76751d,timestamp:1706816277\u001b[0m\n",
      "\u001b[34m2024-02-01T19:37:57,382 [INFO ] W-9004-model_1.0 org.pytorch.serve.wlm.WorkerThread - Backend response time: 867\u001b[0m\n",
      "\u001b[34m2024-02-01T19:37:57,382 [INFO ] W-9004-model_1.0 TS_METRICS - WorkerLoadTime.Milliseconds:3808.0|#WorkerName:W-9004-model_1.0,Level:Host|#hostname:9b583c76751d,timestamp:1706816277\u001b[0m\n",
      "\u001b[34m2024-02-01T19:37:57,383 [INFO ] W-9004-model_1.0 TS_METRICS - WorkerThreadTime.Milliseconds:90.0|#Level:Host|#hostname:9b583c76751d,timestamp:1706816277\u001b[0m\n",
      "\u001b[34m2024-02-01T19:37:57,400 [INFO ] W-9007-model_1.0 org.pytorch.serve.wlm.WorkerThread - Backend response time: 861\u001b[0m\n",
      "\u001b[34m2024-02-01T19:37:57,400 [INFO ] W-9007-model_1.0 TS_METRICS - WorkerLoadTime.Milliseconds:3825.0|#WorkerName:W-9007-model_1.0,Level:Host|#hostname:9b583c76751d,timestamp:1706816277\u001b[0m\n",
      "\u001b[34m2024-02-01T19:37:57,401 [INFO ] W-9007-model_1.0 TS_METRICS - WorkerThreadTime.Milliseconds:77.0|#Level:Host|#hostname:9b583c76751d,timestamp:1706816277\u001b[0m\n",
      "\u001b[34m2024-02-01T19:37:57,408 [INFO ] W-9005-model_1.0 org.pytorch.serve.wlm.WorkerThread - Backend response time: 880\u001b[0m\n",
      "\u001b[34m2024-02-01T19:37:57,408 [INFO ] W-9005-model_1.0 TS_METRICS - WorkerLoadTime.Milliseconds:3834.0|#WorkerName:W-9005-model_1.0,Level:Host|#hostname:9b583c76751d,timestamp:1706816277\u001b[0m\n",
      "\u001b[34m2024-02-01T19:37:57,409 [INFO ] W-9005-model_1.0 TS_METRICS - WorkerThreadTime.Milliseconds:46.0|#Level:Host|#hostname:9b583c76751d,timestamp:1706816277\u001b[0m\n",
      "\u001b[34m2024-02-01T19:37:57,425 [INFO ] W-9002-model_1.0 org.pytorch.serve.wlm.WorkerThread - Backend response time: 588\u001b[0m\n",
      "\u001b[34m2024-02-01T19:37:57,426 [INFO ] W-9002-model_1.0 TS_METRICS - WorkerLoadTime.Milliseconds:3852.0|#WorkerName:W-9002-model_1.0,Level:Host|#hostname:9b583c76751d,timestamp:1706816277\u001b[0m\n",
      "\u001b[34m2024-02-01T19:37:57,426 [INFO ] W-9002-model_1.0 TS_METRICS - WorkerThreadTime.Milliseconds:79.0|#Level:Host|#hostname:9b583c76751d,timestamp:1706816277\u001b[0m\n",
      "\u001b[34m2024-02-01T19:37:57,440 [INFO ] W-9000-model_1.0 org.pytorch.serve.wlm.WorkerThread - Backend response time: 563\u001b[0m\n",
      "\u001b[34m2024-02-01T19:37:57,440 [INFO ] W-9000-model_1.0 TS_METRICS - WorkerLoadTime.Milliseconds:3869.0|#WorkerName:W-9000-model_1.0,Level:Host|#hostname:9b583c76751d,timestamp:1706816277\u001b[0m\n",
      "\u001b[34m2024-02-01T19:37:57,441 [INFO ] W-9000-model_1.0 TS_METRICS - WorkerThreadTime.Milliseconds:131.0|#Level:Host|#hostname:9b583c76751d,timestamp:1706816277\u001b[0m\n",
      "\u001b[34m2024-02-01T19:37:57,510 [INFO ] W-9001-model_1.0 org.pytorch.serve.wlm.WorkerThread - Backend response time: 559\u001b[0m\n",
      "\u001b[34m2024-02-01T19:37:57,510 [INFO ] W-9001-model_1.0 TS_METRICS - WorkerLoadTime.Milliseconds:3937.0|#WorkerName:W-9001-model_1.0,Level:Host|#hostname:9b583c76751d,timestamp:1706816277\u001b[0m\n",
      "\u001b[34m2024-02-01T19:37:57,510 [INFO ] W-9001-model_1.0 TS_METRICS - WorkerThreadTime.Milliseconds:95.0|#Level:Host|#hostname:9b583c76751d,timestamp:1706816277\u001b[0m\n",
      "\u001b[34m2024-02-01T19:37:57,512 [INFO ] W-9003-model_1.0 org.pytorch.serve.wlm.WorkerThread - Backend response time: 537\u001b[0m\n",
      "\u001b[34m2024-02-01T19:37:57,513 [INFO ] W-9003-model_1.0 TS_METRICS - WorkerLoadTime.Milliseconds:3939.0|#WorkerName:W-9003-model_1.0,Level:Host|#hostname:9b583c76751d,timestamp:1706816277\u001b[0m\n",
      "\u001b[34m2024-02-01T19:37:57,513 [INFO ] W-9003-model_1.0 TS_METRICS - WorkerThreadTime.Milliseconds:64.0|#Level:Host|#hostname:9b583c76751d,timestamp:1706816277\u001b[0m\n",
      "\u001b[34m2024-02-01T19:37:58,776 [INFO ] pool-2-thread-9 ACCESS_LOG - /169.254.255.130:39576 \"GET /ping HTTP/1.1\" 200 8\u001b[0m\n",
      "\u001b[34m2024-02-01T19:37:58,777 [INFO ] pool-2-thread-9 TS_METRICS - Requests2XX.Count:1.0|#Level:Host|#hostname:9b583c76751d,timestamp:1706816278\u001b[0m\n",
      "\u001b[34m2024-02-01T19:37:58,796 [INFO ] epollEventLoopGroup-3-2 ACCESS_LOG - /169.254.255.130:39580 \"GET /execution-parameters HTTP/1.1\" 404 2\u001b[0m\n",
      "\u001b[34m2024-02-01T19:37:58,796 [INFO ] epollEventLoopGroup-3-2 TS_METRICS - Requests4XX.Count:1.0|#Level:Host|#hostname:9b583c76751d,timestamp:1706816278\u001b[0m\n",
      "\u001b[34m2024-02-01T19:37:58,869 [INFO ] epollEventLoopGroup-3-3 TS_METRICS - ts_inference_requests_total.Count:1.0|#model_name:model,model_version:default|#hostname:9b583c76751d,timestamp:1706816278\u001b[0m\n",
      "\u001b[34m2024-02-01T19:37:58,870 [INFO ] W-9006-model_1.0 org.pytorch.serve.wlm.WorkerThread - Flushing req.cmd PREDICT to backend at: 1706816278870\u001b[0m\n",
      "\u001b[34m2024-02-01T19:37:58,871 [INFO ] W-9006-model_1.0-stdout MODEL_LOG - Backend received inference at: 1706816278\u001b[0m\n",
      "\u001b[34m2024-02-01T19:37:59,173 [INFO ] W-9006-model_1.0-stdout org.pytorch.serve.wlm.WorkerLifeCycle - result=[METRICS]PredictionTime.Milliseconds:302.19|#ModelName:model,Level:Model|#hostname:9b583c76751d,1706816279,82211bdc-e63f-480e-b434-4fa7aaf59716, pattern=[METRICS]\u001b[0m\n",
      "\u001b[34m2024-02-01T19:37:59,175 [INFO ] W-9006-model_1.0-stdout MODEL_METRICS - PredictionTime.ms:302.19|#ModelName:model,Level:Model|#hostname:9b583c76751d,requestID:82211bdc-e63f-480e-b434-4fa7aaf59716,timestamp:1706816279\u001b[0m\n",
      "\u001b[34m2024-02-01T19:37:59,175 [INFO ] W-9006-model_1.0 ACCESS_LOG - /169.254.255.130:39590 \"POST /invocations HTTP/1.1\" 200 308\u001b[0m\n",
      "\u001b[34m2024-02-01T19:37:59,175 [INFO ] W-9006-model_1.0 TS_METRICS - Requests2XX.Count:1.0|#Level:Host|#hostname:9b583c76751d,timestamp:1706816279\u001b[0m\n",
      "\u001b[34m2024-02-01T19:37:59,176 [INFO ] W-9006-model_1.0 TS_METRICS - ts_inference_latency_microseconds.Microseconds:305074.726|#model_name:model,model_version:default|#hostname:9b583c76751d,timestamp:1706816279\u001b[0m\n",
      "\u001b[34m2024-02-01T19:37:59,176 [INFO ] W-9006-model_1.0 TS_METRICS - ts_queue_latency_microseconds.Microseconds:185.966|#model_name:model,model_version:default|#hostname:9b583c76751d,timestamp:1706816279\u001b[0m\n",
      "\u001b[34m2024-02-01T19:37:59,176 [INFO ] W-9006-model_1.0 TS_METRICS - QueueTime.Milliseconds:0.0|#Level:Host|#hostname:9b583c76751d,timestamp:1706816279\u001b[0m\n",
      "\u001b[34m2024-02-01T19:37:59,177 [INFO ] W-9006-model_1.0 org.pytorch.serve.wlm.WorkerThread - Backend response time: 303\u001b[0m\n",
      "\u001b[34m2024-02-01T19:37:59,177 [INFO ] W-9006-model_1.0 TS_METRICS - WorkerThreadTime.Milliseconds:4.0|#Level:Host|#hostname:9b583c76751d,timestamp:1706816279\u001b[0m\n",
      "\u001b[32m2024-02-01T19:37:58.801:[sagemaker logs]: MaxConcurrentTransforms=1, MaxPayloadInMB=100, BatchStrategy=MULTI_RECORD\u001b[0m\n"
     ]
    }
   ],
   "source": [
    "transformer = estimator.transformer(\n",
    "    instance_count=1,\n",
    "    instance_type=instance_type,\n",
    "    max_payload=100,\n",
    ")\n",
    "\n",
    "transformer.transform(\n",
    "    data=test_data,\n",
    "    content_type=\"text/csv\",\n",
    ")"
   ]
  },
  {
   "cell_type": "markdown",
   "id": "a1404972-89a8-475b-a281-948955a8417c",
   "metadata": {},
   "source": [
    "Load the test set predictions from S3."
   ]
  },
  {
   "cell_type": "code",
   "execution_count": 17,
   "id": "d66ec3b4-9b56-4c7f-8351-256cd93c3809",
   "metadata": {
    "tags": []
   },
   "outputs": [],
   "source": [
    "predictions = sagemaker_session.read_s3_file(\n",
    "    bucket=bucket,\n",
    "    key_prefix=f\"{transformer.latest_transform_job.name}/AirQuality_test.csv.out\"\n",
    ")"
   ]
  },
  {
   "cell_type": "code",
   "execution_count": 18,
   "id": "a3ce5414-319a-4101-b258-05046727a3d8",
   "metadata": {},
   "outputs": [],
   "source": [
    "predictions = pd.read_csv(io.StringIO(predictions), dtype=float)"
   ]
  },
  {
   "cell_type": "code",
   "execution_count": 19,
   "id": "b977e690-e2e7-40d2-9112-36fa7fef8de9",
   "metadata": {
    "tags": []
   },
   "outputs": [
    {
     "data": {
      "text/plain": [
       "(792, 2)"
      ]
     },
     "execution_count": 19,
     "metadata": {},
     "output_type": "execute_result"
    }
   ],
   "source": [
    "predictions.shape"
   ]
  },
  {
   "cell_type": "code",
   "execution_count": 20,
   "id": "1c635817-9d68-4634-a6fa-6e5df4d97792",
   "metadata": {
    "tags": []
   },
   "outputs": [
    {
     "data": {
      "text/html": [
       "<div>\n",
       "<style scoped>\n",
       "    .dataframe tbody tr th:only-of-type {\n",
       "        vertical-align: middle;\n",
       "    }\n",
       "\n",
       "    .dataframe tbody tr th {\n",
       "        vertical-align: top;\n",
       "    }\n",
       "\n",
       "    .dataframe thead th {\n",
       "        text-align: right;\n",
       "    }\n",
       "</style>\n",
       "<table border=\"1\" class=\"dataframe\">\n",
       "  <thead>\n",
       "    <tr style=\"text-align: right;\">\n",
       "      <th></th>\n",
       "      <th>y_mean</th>\n",
       "      <th>y_std</th>\n",
       "    </tr>\n",
       "  </thead>\n",
       "  <tbody>\n",
       "    <tr>\n",
       "      <th>0</th>\n",
       "      <td>NaN</td>\n",
       "      <td>NaN</td>\n",
       "    </tr>\n",
       "    <tr>\n",
       "      <th>1</th>\n",
       "      <td>NaN</td>\n",
       "      <td>NaN</td>\n",
       "    </tr>\n",
       "    <tr>\n",
       "      <th>2</th>\n",
       "      <td>NaN</td>\n",
       "      <td>NaN</td>\n",
       "    </tr>\n",
       "    <tr>\n",
       "      <th>3</th>\n",
       "      <td>NaN</td>\n",
       "      <td>NaN</td>\n",
       "    </tr>\n",
       "    <tr>\n",
       "      <th>4</th>\n",
       "      <td>NaN</td>\n",
       "      <td>NaN</td>\n",
       "    </tr>\n",
       "  </tbody>\n",
       "</table>\n",
       "</div>"
      ],
      "text/plain": [
       "   y_mean  y_std\n",
       "0     NaN    NaN\n",
       "1     NaN    NaN\n",
       "2     NaN    NaN\n",
       "3     NaN    NaN\n",
       "4     NaN    NaN"
      ]
     },
     "execution_count": 20,
     "metadata": {},
     "output_type": "execute_result"
    }
   ],
   "source": [
    "predictions.head()"
   ]
  },
  {
   "cell_type": "code",
   "execution_count": 21,
   "id": "57ccce34-9119-479b-a555-63e423aad4bb",
   "metadata": {
    "tags": []
   },
   "outputs": [
    {
     "data": {
      "text/html": [
       "<div>\n",
       "<style scoped>\n",
       "    .dataframe tbody tr th:only-of-type {\n",
       "        vertical-align: middle;\n",
       "    }\n",
       "\n",
       "    .dataframe tbody tr th {\n",
       "        vertical-align: top;\n",
       "    }\n",
       "\n",
       "    .dataframe thead th {\n",
       "        text-align: right;\n",
       "    }\n",
       "</style>\n",
       "<table border=\"1\" class=\"dataframe\">\n",
       "  <thead>\n",
       "    <tr style=\"text-align: right;\">\n",
       "      <th></th>\n",
       "      <th>y_mean</th>\n",
       "      <th>y_std</th>\n",
       "    </tr>\n",
       "  </thead>\n",
       "  <tbody>\n",
       "    <tr>\n",
       "      <th>787</th>\n",
       "      <td>2.968080</td>\n",
       "      <td>0.779944</td>\n",
       "    </tr>\n",
       "    <tr>\n",
       "      <th>788</th>\n",
       "      <td>3.093422</td>\n",
       "      <td>0.778910</td>\n",
       "    </tr>\n",
       "    <tr>\n",
       "      <th>789</th>\n",
       "      <td>3.348963</td>\n",
       "      <td>0.851130</td>\n",
       "    </tr>\n",
       "    <tr>\n",
       "      <th>790</th>\n",
       "      <td>3.117573</td>\n",
       "      <td>0.845668</td>\n",
       "    </tr>\n",
       "    <tr>\n",
       "      <th>791</th>\n",
       "      <td>2.628925</td>\n",
       "      <td>0.815055</td>\n",
       "    </tr>\n",
       "  </tbody>\n",
       "</table>\n",
       "</div>"
      ],
      "text/plain": [
       "       y_mean     y_std\n",
       "787  2.968080  0.779944\n",
       "788  3.093422  0.778910\n",
       "789  3.348963  0.851130\n",
       "790  3.117573  0.845668\n",
       "791  2.628925  0.815055"
      ]
     },
     "execution_count": 21,
     "metadata": {},
     "output_type": "execute_result"
    }
   ],
   "source": [
    "predictions.tail()"
   ]
  },
  {
   "cell_type": "markdown",
   "id": "50e993c6-fd22-4733-be24-3263393ab938",
   "metadata": {},
   "source": [
    "Visualize the test set predictions."
   ]
  },
  {
   "cell_type": "code",
   "execution_count": 22,
   "id": "0506b76a-f1e6-40cd-9900-1f0ad13ebff6",
   "metadata": {
    "tags": []
   },
   "outputs": [
    {
     "data": {
      "image/png": "[encoded data removed]",
      "text/plain": [
       "<Figure size 900x350 with 1 Axes>"
      ]
     },
     "metadata": {},
     "output_type": "display_data"
    }
   ],
   "source": [
    "plt.subplots(figsize=(9, 3.5))\n",
    "plt.plot(range(len(test_dataset)), test_dataset[\"y\"].values, color=\"#7f8ea3\", lw=0.6, label=\"Actual\", zorder=10)\n",
    "plt.plot(predictions.index, predictions[\"y_mean\"].values, color=\"#009ad3\", lw=0.7, label=\"Predicted\", zorder=20)\n",
    "plt.fill_between(predictions.index, predictions[\"y_mean\"].values + predictions[\"y_std\"].values, predictions[\"y_mean\"].values - predictions[\"y_std\"].values, color=\"#009ad3\", alpha=0.1, lw=1, label=\"Predicted +/- 1 Std. Dev.\", zorder=1)\n",
    "plt.fill_between(predictions.index, predictions[\"y_mean\"].values + 2 * predictions[\"y_std\"].values, predictions[\"y_mean\"].values - 2 * predictions[\"y_std\"].values, color=\"#009ad3\", alpha=0.05, lw=1, label=\"Predicted +/- 2 Std. Dev.\", zorder=0)\n",
    "plt.tick_params(axis=\"both\", which=\"major\", labelsize=7)\n",
    "plt.tick_params(axis=\"both\", which=\"minor\", labelsize=7)\n",
    "plt.legend(bbox_to_anchor=(1, 0, 0.4, 1), frameon=False, prop={'size': 9})\n",
    "plt.tight_layout()\n",
    "plt.show()"
   ]
  },
  {
   "cell_type": "markdown",
   "id": "d985e8e7-72bc-444f-942a-3e1cd2f1a043",
   "metadata": {},
   "source": [
    "Calculate the error metrics."
   ]
  },
  {
   "cell_type": "code",
   "execution_count": 23,
   "id": "c5dfd574-e1c8-4872-adc2-aa8b07f6326f",
   "metadata": {
    "tags": []
   },
   "outputs": [
    {
     "name": "stdout",
     "output_type": "stream",
     "text": [
      "MSE: 1.28, MAE: 0.82\n"
     ]
    }
   ],
   "source": [
    "mse = mean_squared_error(\n",
    "    test_dataset[\"y\"].iloc[context_length:],\n",
    "    predictions[\"y_mean\"].iloc[context_length: - prediction_length]\n",
    ")\n",
    "\n",
    "mae = mean_absolute_error(\n",
    "    test_dataset[\"y\"].iloc[context_length:],\n",
    "    predictions[\"y_mean\"].iloc[context_length: - prediction_length]\n",
    ")\n",
    "\n",
    "print(f\"MSE: {format(mse, '.2f')}, MAE: {format(mae, '.2f')}\")"
   ]
  },
  {
   "cell_type": "markdown",
   "id": "f21bde56-cc7a-4641-abc5-2ef0a7a465cd",
   "metadata": {},
   "source": [
    "Delete the model."
   ]
  },
  {
   "cell_type": "code",
   "execution_count": 24,
   "id": "ac51ef10-7234-4c5c-84ef-18b517bb63a6",
   "metadata": {
    "tags": []
   },
   "outputs": [
    {
     "name": "stderr",
     "output_type": "stream",
     "text": [
      "INFO:sagemaker:Deleting model with name: cfc-tsf-v1-6-2024-02-01-19-29-32-044-2024-02-01-19-30-17-571\n"
     ]
    }
   ],
   "source": [
    "transformer.delete_model()"
   ]
  }
 ],
 "metadata": {
  "kernelspec": {
   "display_name": "conda_python3",
   "language": "python",
   "name": "conda_python3"
  },
  "language_info": {
   "codemirror_mode": {
    "name": "ipython",
    "version": 3
   },
   "file_extension": ".py",
   "mimetype": "text/x-python",
   "name": "python",
   "nbconvert_exporter": "python",
   "pygments_lexer": "ipython3",
   "version": "3.10.13"
  }
 },
 "nbformat": 4,
 "nbformat_minor": 5
}
